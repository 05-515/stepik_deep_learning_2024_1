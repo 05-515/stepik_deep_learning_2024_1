{
  "nbformat": 4,
  "nbformat_minor": 0,
  "metadata": {
    "colab": {
      "provenance": [],
      "collapsed_sections": [
        "KN3D_k5W_WZz",
        "-NDiCPYLm2bY"
      ],
      "include_colab_link": true
    },
    "kernelspec": {
      "display_name": "Python 3",
      "language": "python",
      "name": "python3"
    }
  },
  "cells": [
    {
      "cell_type": "markdown",
      "metadata": {
        "id": "view-in-github",
        "colab_type": "text"
      },
      "source": [
        "<a href=\"https://colab.research.google.com/github/05-515/stepik_deep_learning_2024_1/blob/main/19_1_To_Stepik_%5Bhw%5Dautoencoders.ipynb\" target=\"_parent\"><img src=\"https://colab.research.google.com/assets/colab-badge.svg\" alt=\"Open In Colab\"/></a>"
      ]
    },
    {
      "cell_type": "markdown",
      "metadata": {
        "id": "LQ7i1HkmYY68"
      },
      "source": [
        "<p style=\"align: center;\"><img align=center src=\"https://drive.google.com/uc?export=view&id=1TRNaCfYstvcIQqoUSdukYQGF6LuyL7Tv\" width=600 height=320/></p>\n",
        "<h3 style=\"text-align: center;\"><b>Школа глубокого обучения ФПМИ МФТИ</b></h3>\n",
        "\n",
        "# Домашнее задание. Автоэнкодеры\n"
      ]
    },
    {
      "cell_type": "markdown",
      "metadata": {
        "id": "Wru2LNFuL2Iq"
      },
      "source": [
        "# Часть 1. Vanilla Autoencoder (10 баллов)"
      ]
    },
    {
      "cell_type": "markdown",
      "metadata": {
        "id": "kr3STtdpYY7G"
      },
      "source": [
        "## 1.1. Подготовка данных (1 балл)\n"
      ]
    },
    {
      "cell_type": "code",
      "metadata": {
        "id": "xTNi9JLRYY7I"
      },
      "source": [
        "import numpy as np\n",
        "from torch.autograd import Variable\n",
        "from torchvision import datasets\n",
        "import torch.nn as nn\n",
        "import torch.nn.functional as F\n",
        "import torch.optim as optim\n",
        "import torch.utils.data as data_utils\n",
        "import torch\n",
        "import matplotlib.pyplot as plt\n",
        "\n",
        "import os\n",
        "import pandas as pd\n",
        "import skimage.io\n",
        "from skimage.transform import resize\n",
        "\n",
        "import gdown\n",
        "%matplotlib inline"
      ],
      "execution_count": 1,
      "outputs": []
    },
    {
      "cell_type": "code",
      "source": [
        "# Download some attributes\n",
        "\n",
        "!gdown --id 1utdTz3TY2LyqoRHzZJVVeiku44pacQ0Y"
      ],
      "metadata": {
        "colab": {
          "base_uri": "https://localhost:8080/"
        },
        "id": "pgXNPnmZS5VW",
        "outputId": "a8660552-a035-49d4-a96d-645eb73fbc71"
      },
      "execution_count": 2,
      "outputs": [
        {
          "output_type": "stream",
          "name": "stdout",
          "text": [
            "/usr/local/lib/python3.10/dist-packages/gdown/__main__.py:140: FutureWarning: Option `--id` was deprecated in version 4.3.1 and will be removed in 5.0. You don't need to pass it anymore to use a file ID.\n",
            "  warnings.warn(\n",
            "Downloading...\n",
            "From: https://drive.google.com/uc?id=1utdTz3TY2LyqoRHzZJVVeiku44pacQ0Y\n",
            "To: /content/lfw_attributes.txt\n",
            "100% 14.9M/14.9M [00:00<00:00, 109MB/s]\n"
          ]
        }
      ]
    },
    {
      "cell_type": "code",
      "metadata": {
        "id": "zvAjov5F2NvE"
      },
      "source": [
        "def fetch_dataset(attrs_name = \"lfw_attributes.txt\",\n",
        "                      images_name = \"lfw-deepfunneled\",\n",
        "                      dx=80,dy=80,\n",
        "                      dimx=64,dimy=64\n",
        "    ):\n",
        "\n",
        "    #download if not exists\n",
        "    if not os.path.exists(images_name):\n",
        "        print(\"images not found, donwloading...\")\n",
        "        os.system(\"wget http://vis-www.cs.umass.edu/lfw/lfw-deepfunneled.tgz -O tmp.tgz\")\n",
        "        print(\"extracting...\")\n",
        "        os.system(\"tar xvzf tmp.tgz && rm tmp.tgz\")\n",
        "        print(\"done\")\n",
        "        assert os.path.exists(images_name)\n",
        "\n",
        "    #read attrs\n",
        "    df_attrs = pd.read_csv(\"lfw_attributes.txt\",sep='\\t',skiprows=1,)\n",
        "    df_attrs = pd.DataFrame(df_attrs.iloc[:,:-1].values, columns = df_attrs.columns[1:])\n",
        "\n",
        "\n",
        "    #read photos\n",
        "    photo_ids = []\n",
        "    for dirpath, dirnames, filenames in os.walk(images_name):\n",
        "        for fname in filenames:\n",
        "            if fname.endswith(\".jpg\"):\n",
        "                fpath = os.path.join(dirpath,fname)\n",
        "                photo_id = fname[:-4].replace('_',' ').split()\n",
        "                person_id = ' '.join(photo_id[:-1])\n",
        "                photo_number = int(photo_id[-1])\n",
        "                photo_ids.append({'person':person_id,'imagenum':photo_number,'photo_path':fpath})\n",
        "\n",
        "    photo_ids = pd.DataFrame(photo_ids)\n",
        "    # print(photo_ids)\n",
        "    #mass-merge\n",
        "    #(photos now have same order as attributes)\n",
        "    df = pd.merge(df_attrs,photo_ids,on=('person','imagenum'))\n",
        "\n",
        "    assert len(df)==len(df_attrs),\"lost some data when merging dataframes\"\n",
        "\n",
        "    # print(df.shape)\n",
        "    #image preprocessing\n",
        "    all_photos =df['photo_path'].apply(skimage.io.imread)\\\n",
        "                                .apply(lambda img:img[dy:-dy,dx:-dx])\\\n",
        "                                .apply(lambda img: resize(img,[dimx,dimy]))\n",
        "\n",
        "    all_photos = np.stack(all_photos.values)#.astype('uint8')\n",
        "    all_attrs = df.drop([\"photo_path\",\"person\",\"imagenum\"],axis=1)\n",
        "\n",
        "    return all_photos, all_attrs"
      ],
      "execution_count": 3,
      "outputs": []
    },
    {
      "cell_type": "code",
      "metadata": {
        "id": "W3KhlblLYY7P",
        "colab": {
          "base_uri": "https://localhost:8080/"
        },
        "outputId": "7e91d151-d83f-4bef-bdc1-f48c2e16d808"
      },
      "source": [
        "# The following line fetches you two datasets: images, usable for autoencoder training and attributes.\n",
        "# Those attributes will be required for the final part of the assignment (applying smiles), so please keep them in mind\n",
        "\n",
        "\n",
        "data, attrs = fetch_dataset()"
      ],
      "execution_count": 4,
      "outputs": [
        {
          "output_type": "stream",
          "name": "stdout",
          "text": [
            "images not found, donwloading...\n",
            "extracting...\n",
            "done\n"
          ]
        }
      ]
    },
    {
      "cell_type": "markdown",
      "metadata": {
        "id": "8MSzXXGoYY7X"
      },
      "source": [
        "\n",
        "Разбейте выборку картинок на train и val, выведите несколько картинок в output, чтобы посмотреть, как они выглядят, и приведите картинки к тензорам pytorch, чтобы можно было скормить их сети:"
      ]
    },
    {
      "cell_type": "code",
      "metadata": {
        "scrolled": true,
        "id": "dFc8lTm_YY7Y",
        "colab": {
          "base_uri": "https://localhost:8080/",
          "height": 237
        },
        "outputId": "80aefa68-e84b-4012-ef0f-65c5d0fe218d"
      },
      "source": [
        "import os\n",
        "import numpy as np\n",
        "import pandas as pd\n",
        "import torch\n",
        "from sklearn.model_selection import train_test_split\n",
        "import matplotlib.pyplot as plt\n",
        "from torchvision import transforms\n",
        "\n",
        "# Assuming 'data' contains the images and 'attrs' contains the attributes\n",
        "# Split the dataset into training and validation sets\n",
        "data_train, data_val, attrs_train, attrs_val = train_test_split(data, attrs, test_size=0.2, random_state=42)\n",
        "\n",
        "# Display a few images from the training set\n",
        "def show_images(images, num_images=5):\n",
        "    plt.figure(figsize=(15, 5))\n",
        "    for i in range(num_images):\n",
        "        plt.subplot(1, num_images, i + 1)\n",
        "        plt.imshow(images[i])\n",
        "        plt.axis('off')\n",
        "    plt.show()\n",
        "\n",
        "show_images(data_train)\n",
        "\n",
        "# Convert images to PyTorch tensors\n",
        "transform = transforms.Compose([\n",
        "    transforms.ToTensor(),  # Convert to tensor\n",
        "    transforms.Normalize((0.5,), (0.5,))  # Normalize to [-1, 1]\n",
        "])\n",
        "\n",
        "# Apply transformation to the datasets\n",
        "data_train_tensors = torch.stack([transform(image) for image in data_train])\n",
        "data_val_tensors = torch.stack([transform(image) for image in data_val])\n",
        "\n",
        "# Now data_train_tensors and data_val_tensors are ready for use in a PyTorch model.\n"
      ],
      "execution_count": 5,
      "outputs": [
        {
          "output_type": "display_data",
          "data": {
            "text/plain": [
              "<Figure size 1500x500 with 5 Axes>"
            ],
            "image/png": "[encoded data removed]"
          },
          "metadata": {}
        }
      ]
    },
    {
      "cell_type": "markdown",
      "metadata": {
        "id": "z9CC-DUhYY7i"
      },
      "source": [
        "## 1.2. Архитектура модели (2 балла)\n",
        "В этом разделе мы напишем и обучем обычный автоэнкодер.\n",
        "\n",
        "напомню, что автоэнкодер выглядит вот так:"
      ]
    },
    {
      "cell_type": "markdown",
      "source": [
        "![image.png](data:image/png;base64,iVBORw0KGgoAAAANSUhEUgAAAqEAAAGFCAIAAABCFb20AAAgAElEQVR4Aey9B3xcxbn3v7ZxgWsIeSGBSzNW10pCbrhgTIxTuHlJQgIk5A3tdUjun5uQmwLJfcGxLa22SrJxKCHY4AAhiUlwKE7A4FBDbIyLbEva1apaZftqez17znn+mZnd0dmmXlejz3yks2fnlPnNaL7zzDwzIwP2wxRgCjAFmAJMAaZALiogy8VEsTQxBZgCTAGmAFOAKQCM8awQMAWYAkwBpgBTIDcVYIzPzXxlqWIKMAWYAkwBpgBjPCsDTAGmAFOAKcAUyE0FGONzM19ZqpgCTAGmAFOAKcAYz8oAU4ApwBRgCjAFclMBxvjczFeWKqYAU4ApwBRgCjDGszLAFGAKMAWYAkyB3FSAMT4385WliinAFGAKMAWYAozxrAwwBZgCTAGmAFMgNxVgjM/NfGWpYgowBZgCTAGmAGM8KwNMAaYAU4ApwBTITQUY43MzX1mqmAJMAaYAU4ApwBjPygBTgCnAFGAKMAVyUwHG+NzMV5YqpgBTgCnAFGAKMMazMsAUYAowBZgCTIHcVIAxPjfzlaWKKcAUYAowBZgCjPGsDDAFmAJMAaYAUyA3FWCMz818ZaliCjAFmAJMAaYAYzwrA0wBpgBTgCnAFMhNBRjjczNfWaqYAkwBpgBTgCnAGM/KAFOAKcAUYAowBXJTAcb43MxXliqmAFOAKcAUYAowxrMywBRgCjAFmAJMgdxUgDE+N/OVpYopwBRgCjAFmAKM8awMMAWYAkwBpgBTIDcVYIzPzXxlqWIKMAWYAkwBpgBjPCsDTAGmAFOAKcAUyE0FGONzM19ZqpgCTAGmAFOAKcAYz8oAU4ApwBRgCjAFclMBxvjczFeWKqYAU4ApwBRgCjDGszLAFGAKMAWYAkyB3FSAMT4385WliinAFGAKMAWYAozxrAwwBZgCTAGmAFMgNxVgjM/NfGWpYgowBZgCTAGmAGM8KwNMAaYAU4ApwBTITQUY43MzX1mqmAJMAaYAU4ApwBjPygBTgCnAFGAKMAVyUwHG+NzMV5YqpgBTgCnAFGAKMMazMsAUYAowBZgCTIHcVIAxPjfzlaWKKcAUYAowBZgCjPGsDDAFmAJMAaYAUyA3FWCMz818ZaliCjAFJk0BEf9M2uNG9KDp/G4jSgiLPDoFGONHpxu7iinAFJgkBURRBIDnnnvu7rvvHvKRoihyHCcIQkpMchMACIfD5Cs+xvv9fgCIRCIAwHEcAESjUQCgl/MxPhgM0ksAgNyHRCbPIicJSulvQRBITD7Gi6IYDofJnelbcRwXCoXoW9ELyRlRFMk7kEeTxwFAyiX0Pelt6aumvBuNwA5mmwKM8bMtx1l6mQIzTwE+xv/iF7+45JJLRvfqO3bsKCwsTLmW8pWcJx9DoRD5SJBM49ADPsYDwPLly7VaLUEshXcKp1MeRz5KyU0jEKLTy+l56UE4HJYSnY/xfIyXniFNDQ7/0AvJ29KP7GAWKsAYPwsznSWZKTDzFNi6dWs2xguCQGAmiiKBH+GlgH/4GF9XV3fppZeSNHMcR6IRKBJMEoRLkUnuQOLQm1PSFxYW1tfXAwD5ijyIQlpqQ5O+AXphOBwm3Qb06fQr+kTSkUBehiSNNiMGzzZq/Q8ejX07qxRgjJ9V2c0SyxSYeQoQjiqVyssvv3yQt7fb7fv27bv33nv/8z//88UXX3Q4HCTyI488snHjxksuueTBBx98+OGHvV4v6Zl3uVw6ne7+++//0Y9+9PzzzweDQdpX/+STT37wwQfd3d1arfauu+566KGHzpw5Q2B84sSJBx544MILL9ywYcMvfvGLffv2kVZFNBqVMt7v97/yyisPPPDAww8//M4773i9XvKtxWJ58MEHw+FwQ0ODSqX67ne/u3PnTo/HI70WAN54440HH3zwnnvuUavVLpeLpprjuGg0+txzz/3whz+844476uvr7XY7/RYAvF7vM888c88999x5553PPPMMaU9I2y7SyOx4NijAGD8bcpmlkSkwlQpQgNGXkPYzU0OWfksObDYb+YpE3rJlyyCMP3z48IIFC/Lz8zdv3rx8+XKZTHbnnXcSO/v73//+qlWrPv3pT99111333Xefx+Px+/1NTU1Lliz5zGc+c88992zevHn+/Pk33XQTNZdXrVp1zz33XHnllV/60pduv/32BQsWyGSyQ4cOAcB777133333XXDBBatWrbr77rv37NlDhv/JkDmhqdPpvOKKKy655JLvfe97N99882c/+9nbbruNJOrYsWMymWz37t0XXnjhHXfc8Z3vfOfyyy9fsmSJwWAgd/B4PEVFRZdccsk3v/nNb33rW+eee+6ll15qtVrJ5Q6HY/369fPnz7/33ntvvvnm888//8ILLzx+/Dj5tru7u6ys7LzzzvvOd75z3333nX/++WvWrHE6naSRROKw37NNAcb42ZbjLL1MgclWIJ3xKW8QDod7eno++OCDAwcOPP/880888URVVdVTTz01fMavXr365ptvpr5pVVVVixYtampqInd44oknpO2DSCSyadMmuVxObP1IJHLw4EGZTLZnzx7yYuvXr1+0aNHLL79MmO1wOD71qU99+ctfpq+dn5+vVCojkQh9IvHd42N8NBrduXPneeed19zcTAYFPvjgg8svv/zw4cMAcObMmYULF1566aVnzpwhd+vp6bn88stvvvlm0iJRKpUXXHCB0Wgkj25ra5s3b55OpyMP+tnPfrZ48eKGhoZoNMpxnMvlWrp0qVwuJ86Dmzdvvuiii0wmE7mz0Wj87Gc/+8ADD9DXZgezUAHG+FmY6SzJTIHJVoAMFfMxnvQ2R6PRzs7OgwcP7t27V6VSabXaP/7hj4cOHfr444/b2tpsNhtxRKfj64IgDG7H0/QQp7nOzs4FCxa89tprZPT98ccfv+SSS6jPuV6vJ8Y0daEPh8PLli3bsGEDaROsW7fu0ksv9Xq95BI+xn/zm99csmQJ4a4oihUVFdXV1SRyOBwmjZhgMEgi1NXVXXDBBX19feQ8GRogkD527NjcuXOffPJJQRDImWg0+thjj8lkMjKIQBNCGg0cx61ateq73/0u6cy44IILHnroIRqH9Pk/8cQT5EFz5869//77o9EoHfK/7bbbsjkx0Juwg9xWgDE+t/OXpY4pMF0UcLvdx44de+2113Q63aOPPrpv377Dhw+fPXuWoJESjjqOEVARjv4rDdu3b7/qqqsGSYzNZtuzZ89DDz30/e9//5ZbbpHJZK+++iqJr1KpCOoIg1955ZU5c+b84Ac/2LZtm0qlevjhh7dv375y5cqLL74YAPx+/4YNG+677z7iFheJRARB2L1796c+9SniWxeNRpcsWbJ9+3YAoKP40WiUuv653e7LLrts4cKFt99++zPPPGO1WgnOBUE4efKkTCY7evQoTVckEjl16pRMJvvoo4/IYEE0Gn311VeVSuVPfvKTO++886KLLnrggQf4GN/a2jpv3rzXX3+dJCoSiYTDYer0d/Lkyblz5952221KpXLLli1KpXLr1q2bNm2SyWTUNWEQ9dhXuaoAY3yu5ixLF1NgshWg49nUPgYAo9H42muvPf3000888cRLL7105swZj8dDmDei9yOMp93+hJEEsRzHVVVVnXvuuVdcccWt37j1hz/84SOPPLJo0aJ9+/aRN6mvr7/sssuIgev3+3//+9/LZDIy4H3PPffcdddd3/72tzdv3ky4DgBr16798Y9/LH29J5988oorrqDtj/z8fJ1OR25OeyYI48mL+f3+3bt333LLLRdffPH555//yCOPkK7448ePL1y40Gg0SrXq7e2VyWRvv/02AHzwwQcXX3zxRRdddPPNN//gBz94+OGHCwoK7rnnHlEUW1tbFy1a9OGHH9L2AXlD0hh67733ZDLZTTfddMcdd/zgBz/YvHnz3Xfffe+9995xxx1ut1uaFnY8qxRgjJ9V2c0SyxQYfwUI5Oh9yccTJ068+uqrarV67969H374od1up1PPacxhHhCkbdu27corr5ReQru7+/r6Fi5cuG3bNo/HQ/q0+/r65s+fT0xePsar1erLLruMNiwOHz4sk8n2798vvRux2smZwRnv9Xrz8vKUSiWJTF6DehGGw2HyIPLafIxXKpWLFi166623BEE4cuSITCY7cOAAsfvJUALxBmhvbweAoqKiiooKMtxOFr3ZsGHD5s2bRVGMRqPz589/4okn6HOj0Shp5QBAT0+PTCbTaDTSRJE3oYMU0q/Y8SxRgDF+lmQ0SyZTYKIUoMuziKJosVgOHTqk0+mee+65w4cP04Fh+mzS3U0/DucgG+Mpug4cOCCTyd5//306+W337t0LFy48ePAgOfPss8+ef/75fr+f9NX7fL5Pf/rTt9xyC306H+NfeOEFis/BGQ8Acrn8pz/9Kb2cYJ62dVQq1Z49e2gfg8/nW7BgAYl//PjxOXPmbNiwgQzSkwbB3XffTZbo4WP84sWLH3zwQaobsd3vvPNO0ie/YcOGsrIy+lwA2LJly4oVK4hEeXl5FRUVZGU9QRAikcjLL7+s0WiYX71Usdl2zBg/23KcpZcpMEoFCEgyXiyKYnNz8969e5966qlDhw45nU4SmeCfuqoNcoeMtyUnyVXEjn8n7UcURbvdfu65527atOkD/HPvvfcWFBTMnz+fMp5Yz1u2bGlsbCTUr6qqmjt3blVVVUNDw4kTJ37yk58sWLDgww8/JE8cnPGCIDz44INLly595ZVX6OR12qkQjUZ/8pOfzJ8/v66urrOz8/jx49/73vcWL17c3t7Ox/gjR44sXrxYLpd/5zvfOYJ/vv/978tkMjqJYNOmTRdddNGzzz7b1NSk0WgKCws/85nP/Nd//Rd5sXfffXfevHkbN2784IMPmpqaHn744YULF/75z38mLaeXX3553rx599133/Hjx//l3KdQKObMmfO73/1udLIPkiPsqxmkAGP8DMos9qpMgWmhAFmMncwL9/v97733nkajeemll9ra2lLejw6fp5wf0UcyCq7T6ebMmTNP8vOvrumFCxeSLu6333771m/cOm/ePJlMtnz58tbW1sWLFx84cEAQBNIr/u1vf3vOnDkLFy70eDzk6Y8//vjll18+d+7cf1n8a9eu/eMf/kjdCDZu3PjDH/5Q+pK7du267LLLKCwbGhpWrVq1cOHCO++8k/SHk3YMveTBBx8sKysjb3jrN2598803Scc7aW0cO3bs9ttvX7x4sUwmu/DCC3fv3k0vbGhouP/++y+88MI5c+YsWbLk97///S233PKzn/2MDjQcPXp0+fLlCxYsWLRo0Q033KBSqajIoii+/vrrJFFz585dvXr1jh07SCtEGoc+ix3MBgUY42dDLrM0MgXGX4FgMHjgwAGdTvfmm29ScKY8hqIl5fyIPlKyplxFsUfP021mKHE5jqOe54IgkHluJD5xkevu7vZ4PMQDjvRykxXr6D2zHfAx3ufzkS73jHHC4bDH45F6IfAx/ujRo4sWLero6CA++Smr1NH7RCIRp9NJP9ID0mQBAJvNRu9MRSZC8TE+HA6n+9nRaPRu7GA2KMAYPxtymaWRKTBuCoiiGIlEDhw4sHPnzjfffNPtdg8y3DteXMm4dRtZcIYkjLqe0XQSdzZiPZOYFPZk9dmUveDoIvZ0NRt6K7q2PG0E0Elu5Kv01gZtl5CnUEe8xsZGmUzW2dkp9auXPogck/F4v99Plr6XKkzek+M4svQ9eRDVmfR50LRL70zjSE+y45xXgDE+57OYJZApMG4KRKPRI0eO6HS6gwcPphiaXq+XWs/0eePFlWg0SjhHb0ghSteKIQf0N3kZchVhs/QS0oFP3pM6uNHXppvN0DPkPsRwJxvUkvtHIhE6s59Gpn3+pGlCWwB8jCdT4Ts7O0lk8krUeZCcpPinVrv0zinHUkEo78m8eSoafRaJnHIH9jG3FWCMz+38ZaljCoxeAeJHRrdCt1gszzzzzFNPPRUMBjPu0T76J43HlSm0GwvPRnptevyML5NycoyJTrnb8D+O8bns8pmlAGP8zMov9rZMgUlVgNig/1rq9dVXX929ezcZSKaG5qS+ylAPywi5oS7K/D25VebvMp1Nj5/xZQY5memuQ5wb5G6DfzXEfdnXuaUAY3xu5SdLDVNgXBUQRbG9vX337t2vvfYa6fGWrhUzro8a680ygm10NyW3Gv616fEzvswgJ4f/LBpzkLsN/hW9AzuYDQowxs+GXGZpZAqMUoGDBw8+9thjnZ2dZJ219BH3Ud53Ai7LCLbRPYfcavjXpsfP+DKDnBz+s2jMQe42+Ff0DuxgNijAGD8bcpmlkSkwhALUHy0UCpH12jwez/PPP/+73/0uGAxK/d2GuBH7minAFJhOCjDGT6fcYO/CFJgGCoii6Ha7d+3a9eGHH1LXbuJ5R5sC0+A12SswBZgCQyvAGD+0RiwGU2D2KBCJRIxGI1mHlUyFJ8vIkD1XpnNf/ezJI5ZSpsDwFWCMH75WLCZTIGcVIIumkb3Md+3aJV23jk7vJqO8OSsBSxhTIBcVYIzPxVxlaWIKDE8BupMKia7X6+vq6sgycGSbE7oneoob1/Buz2IxBZgCU6wAY/wUZwB7PFNgqhSg09zJwqhHjx598sknydq0tGeekD4F8GxUfqqyjD2XKTBSBRjjR6oYi88UyB0FyDrqkUjk6NGju3btikQiZMFzasSn05312OdO9rOUzAIFGONnQSazJDIFMilABtqDwaDRaPz1r39NdkAha60zxmcSjJ1jCsw8BRjjZ16esTdmCoyLAqSv3m63a7Xanp4eek8KeDpfLt2ap5HZAVOAKTCdFWCMn865w96NKTCxCgSDwbq6ut7eXuljGOOlarBjpsCMVoAxfkZnH3t5psDoFeA47rHHHtPr9Sm3SLfa08+kXMI+MgWYAtNTAcb46Zkv7K2YAhOuwFtvvbV//34AoA725JHpRE8/M+Evxx7AFGAKjIcCjPHjoSK7B1NghihAp72dOnVqz5496W+djvOMZ9IvZGeYAkyBaagAY/w0zBT2SkyBCVRAFEWPx6PRaFKG4cmmsRmJnn5yAt+P3ZopwBQYPwUY48dPS3YnpsC0V4DsILd3797333+f9tIjJzsAHtJRnvXMtE8oe0GmAFMAKcAYz8oBU2BGKiAADB7SUyXgU80G/VNPPw0AgVCIxuFBZIynarADpkDOKMAYnzNZyRKSywoQPCewjujOAUQTgcMfeWSLDwTaAgBsowfCgT+/tr/XZlLXabxhXyAaFEAU0R1FHgQeeBxSSZ/LmrK0MQVmgQKM8bMgk1kSc0eBOLhx1zrCPA2E7pTriTYBSjnpn3e7+1Va1daqrfv+vM/hsmJJhGTA8+nWfO4ox1LCFJiVCjDGz8psZ4meSQpQcJOXph8FEAUQYwCxhH1PziR+CwLgIIbDAOC12x/5xc+rt/5SXV1Vp1EfO3IYQARkyIskZBx7n0k6sXdlCjAF0hRgjE+ThJ1gCkwvBSRQH3gxTHcxhhiPSJ8cEnQnjIdYDACCzv6dGo1y69Z6lerI+++H3G70LS/GAyZ9OuYHHsiOmAJMgRmoAGP8DMw09sqzV4GBPvgYBjThf1wPEVnm8ZDWMPDanTql+sldu0zdZwEgEvCAGItFkYmPfgReFHnG+Lga7A9TIFcUYIzPlZxk6chdBcjoO8Z7nOkigFsEP0A/gBsHL4BPEgIA0mDzQ0tv6Ln97zmj6HwIX26LQgRf4hVQdz9jfO6WIJay2asAY/zszXuW8pmigID953m0SE0MxGhURDg/C3BL9f5bVW/cqjp4q+rg7cqB8M2agyTcrnjztuo3vr79wDe2vnp71V9vrXr91qq/3rL19duq37i15s1vKN74huKNOzSHbn94bwAxPsPPTJGIvSdTgCmQUQHG+IyysJOpCqR1/cYnZ6fGS/9Me49F1CMsCSiq9DM9Tr/HLD8zwPj4dDnwAOgBvqJ5900PvJUIb7tBGv7uAhIO2uFdD7xpg9dM8LoZ3nbBW/3o9zteeNMNr7rga9te9zLGD13I4iUUuzKmlH9aeFMOBr0p/dfAMx65+L+DIEBMQLdnP0yBcVCAMX4cRMz5W9DZ2ByujEQBgiFUCYW4pKTHBCHKR3g0Q5v8ELftBMmJE3jcDxy5gksngEUT08D4RE2XuIxUmolbzsq/kr56MiUe9c+3A3xD8cY/7fCJLR6O2YGG4w44gcNxGxy3wTErCiimFT6xwDELnLBAgw0OW+Gvdvjqlr8wxmcvWRTbMUzfGA8xvKKAwMd9GgU8tSEqQFSAMA4km1AhBxDCwQDPRcj9o9EYx6HWbuL/QCT/Lj5AIy/uaAhA5CDIo/ugfxD2wxQYowKM8WMUcFZcThhPF1qJRFGqPzTEjpnBxIFNQKPCfjwATIaEgxjYqCYjP8heIbO8oom6DdV9BF18gu6kAZFgvNTIT9xnFv/FnBEwRZD6boAugNurXz9hhUZLlIQmK0dDs40ngZyJxzHHTpuh0QTNfaDvg1YznDQj+54xftCSRRAeA4RwFCjjEwweYDyPvkVx8OhKDPk/4h9S1NEt8L8JB8gTIoSdIVw8mHg4GYQDLY4waiyEePAK6P9p4PJBX499yRQYTAHG+MHUYd/FFYjPoEY+2wJ23HYDfGXrP6/f3n69ovVbu12/PAR7zsD7bmRcmgBa/GCKIaewCDZw8E0EEKMoDKMTktpN9IBlBGP8VJUBbE/HCN3xb2KdJ89fwONQAlouEJnliP3xOY3oI4dxHgDwAnRx6B/ECPBPP+xtguq/w/95tvcG9ZkNtR3/ofzQghIZRBHFIPACujjRSpiq5LPnznQFGONneg5O0vvHF0rB9ZcI4AS4ocZQrokUKgNFan+52rlC1fM5bfsmxelv/8r4i5dML5yGd63QKkAfjuzFVVcY/w4ChHHFh6tCbM+j+dyJSpMOUpKDSUrfdH/MODPelGzH//Jl1lefvQRQO54sN4QZTwonaYRiqpO+rnCiNyuAbXQ3gB3Qv8DJALzaCc+cEB/5s/XOx/RfVBzbqGpare6oVJtL1Y5ClfvqKve120/bAWKcFzWFhRj6jyD/FNnfjH3DFBhSAcb4ISViEVBVQ1ZHT3Sni3aAdYpjBdr+JbXeq2r9S3XeAm1/scZWrrJUKnuXKztXqvSrVGfWKY/foDj83ec7tx/0/MEI//BAswidAA5s2YQE4CMAUbRCS/yHh1gYYiEe9WmSntAptWNINSv9nXjRzH+lMclx5ngjP4vvNqK+erHZFg9NVj4eLGIj6tsHvRkMZrHVCietcNABX9223zfyV5pFVwgicDwKQrw4inyM50KosCZ+eEz3Hg7aeTgVgX+E4A9dUPUef98+55ef6Fi/s61CbShXGK+t6VmjMK+qsS5XOiuUPrkqVKzmCtX8UkVwbXWjFwA9hUc2PF2/MPEE9pcpMBoFGONHo9psuwaPJgoU86IoOgHW1hzN1zmuqnNfUee9qta7ROdfqvXna/0FGn+BBiG/SOso1lgqND0rdZ1rta3XqZs3qBo+pzh855ON21617v7I39APpii4OLB40QCzD9v3ku79qZd5pMweafzhp3B8Gd+EMI8Zb4M3nYzxg+YD3reHdMETiz4M4BPjJdYUQs4ofTw0euB3n0DVy/137TJ86/HO9Rr96tqOVfU9y3aYS+vt+TrHlVrnErWrWOUvV4bkqpBcFSlVccUqsVANBRpxSU14bZXBj7b7FfnEeH4UubGwH6bAmBRgjB+TfLPlYlTNodVSyeCiiJ3s1lafzte6l9b2L6ntX6pz52u9BRp/kTqIg79I7S3SuIvV/cUaR4nKUqa2lGvMlVrTMm3vCm3XKnXrGpV+XfWJDdVHvr6r8b/+YKr/CP7cBccjoOfAAtAvgk9A3kf8lFVyiKojZfZI4w+//DDGD1+rcY9J0B7Ero5WgA4RdUe9ZYL6f/D/3z7HVx7ruL7mzPWKlpVbDKu2dly7tWelwrJM6yyrc5bU9pfU9hfXugtqPflab77WW6z1oaAJFGsChdpQgZbL0/J5Wv7qGm59VWsAAGKkMU2L0rinht1wdinAGD+78nuUqRUBewCRZdCRW1E/wLqq5gKNN1/rztf152vdBRpvkRoxvlgVLFb5i9XeYoz5Io07r8aRr3QV6/yl9f6rFLY8lbNY6yqrdZXpHJV1jgqdpbS6vbLKeL2m7QZl403KEz9+oafuoO9AC5zygA0P55PV3Ly4O5QM56fMtcPpotUiPUCnkz6Q9NMhf8m3yW2J+EX0WnowuIA0Gj0YPP7wv8U3HGtffaNVPG2FRis0WcQZa8cjJaQz1OM+bsjNLREkstKMSM3f+Ar/cac24vfO4Z6kIC5mXkz0flz8bABn/PBGK+x40/qj3xq+tev0jVUfr9n6yTp1e4myp7TOc82OQLnOV7DVXlzlLlcEyzWR8vpIaV0Y/YOo3YVaX0ldoFDrK9T6inX+Yp2fHBfoAgW6QJ4ulKeL5NVE1le1+wFEXohCLIoGq8hOBJLEsEOmwMgVYIwfuWaz9IpEbSmiyscNsH57M2K51leo86DKS2KgxI/xmSI1tl2w4ULMF/q7VB0o1fhKNT652lOudlao7ZUq63JV3yplz7XKzjXK9nXKljU1Z77+m+4H/xau+xiNHDcK0A3QwSNXJg/24EsM3AsgRIAPgRAUeL8ghgUhGhNjMTFpKjNiOul6JaaZkORnQDhKuI8pErfjs2a4xCswoc5Ak4KcyXrtCL8g75Y+d+6kDeh8uYFxdzoATw4sYhMOhPGnCeMtfAueOo/76v88E8bjkQZ0hjoH8cEj4r85kK0J500Rr+dPpqtFRYiiXigRL96Ap3HGMEkT4+sh3G/kBmgJQgdAM8C7Xth1An78uu9rT3V++cmeG3Qda1Udq2raV9Z0L6/prayxVKrs5WpnqcZDSjsqyeoADbSQJ12YeYwAACAASURBVEz2QKGWBgR7/C/jKdbioAnk1wTWV7W60b4BgJOGM3xKnVFGWEJZ9GmqAGP8NM2Y6fZa2PGdgAY54LkBNmxrLlX6SzUJulPMpx8kAT5UrEkEdaRYHUl8RL2X0sZBMbZ+ynZFyx4NyLXmcoVxg65l3dbDX6k9+dM/9P36SOQlAxxxQacIZgFc2AKLAbgiog+Tm5h3PGqQ8DHg8ZxmMusJJyUxyYm4Ew7YggndcVLjwE6cS/s7YxnfaBWbrHyLXThuh7/1w1e3zQjGo04Z0vbCS9Cg9hnxEUGLLpEGgHSCBj5HWnSoHyoxN90VA3sIXRgSwMOBOQq9PBgicOgsPH048Mirtlt3nV5fdfh6bfM1KmORsmupyrJE5chTevJrfGQoKlFiSTHG5TaphGc+I2E8sumLtb5SjadU45JrXHK1r1ARWF/V4kZd9ehVeZSeeB9DWrFjJ5gCI1CAMX4EYs3mqJPPeFQn1gbza8N5tYGr1a6rqy2VO5wr6uzLtL0VVR3X17uu01rXVLev23r6nj3mRw6En2+CdxzIAusCNKLvxnV6oocWWfMcspHQUmUECJgX8UNSrcZ/Y0OQMX76lnbaJx9vY+F9ddFkM7zTLqYjXV6JdMmTKW1OADNeH7AZ4B9B+EMnVP898P0/9N2gOrZy+8lVypZNjztXarpW1PYur7WU6SzFOmdhnTev1pdXGyhQBwvivibE4ySYIH1moqfY8Xj0ndrxGRhfVBO6XtHqBbTTLyl701d/9mYzSgHG+BmVXVP3spPM+CI18uDLV/uWqgNXq3xLlO4rFf1XK1wFGm+h1leg8RdqhVIdlGm5cpWvTGGurO5ZWd2xWtG4UXX0zt80bv2b7emPgx+YwRhCsPfgUVUnBr8P9/CTtcHjHbzY2I/PVYrRRUziVW2ilZBJ+hlhxyc66pvQxDk0Hn/aJjbiPvwZaMfjXKCjLQSGdGRdYqyT0XQ3QK8fun3QFoSmEPz2mKg6GLjv2Y6bak+u1566Vtu8QtNSoWorUfeW1rlK64N5KteV1dalSluB1p2vdi/V4IAKoS9f7cNLQcQBj/xO4t1Ro2M86rKS2vGM8Zn+wdi5cVCAMX4cRJwNtxgz4xP987SjXhNCHfUZ++pJzyeqBEnwkINilb9IjSbm5Wu9S7V0qh4a78eD+nhcX2Ov0JgrNT0r1J1rlC1f3Nl5x17n9/a5Hz0Jf+yCj0JoJb6zxNAXISTilcc5NFqLGI+WGOX4SFSIoZ3UeTxzSWrQp/I+jfGJEYCB9oH08rGUE3yfDD53WcfjJWhvsgAJjRjwCcZzA4zf/tJ0Ho8PhUIcJ9kaAU3vSM0KtBefAHYRLTjTgVeR29cOj38CP3jBdfuj5hu2Nl+/vXXt9q7V1aZrFdYVNfZKlb1CjUK5xl6qtRfr7IW1zsJaZ4nOjYNXrvVjBnvIb+RAil1KJXQfXV99qFAbKtRSxnvkao9c7WOMH8t/B7t2EAUY4wcRh301oAAZB0V1a8LnbsO2uM9dyiB66kcE7EyAH5LxGuzBhDzyfHJVQK6KOzSRbs8CnY90oubVIs/kAm2kQMvhmUhcni6CPqqDhSpfsdor13qX1bnW1pk21LVt0jV/UfvJ/c8blW9a9xvhqBs6Y2i1cCferTUMEMasJ8kW4p2/aI4yDQOKUEdufIpEmGmMj8XH46c34xOaI67HcDeMl0erKbjwKnI9PHRwaArGASPUv2X78e9av6h4b6Pq6PWaU2vVxpUKS2W1t7ImUKkKV6ii5UpOjkOpOpRw+USD4sU6JwlynVuuRYBHQY3Lnhq1IMef8RricJrGeLy1Q2oTJiEB+8sUGKkCjPEjVWyWxk9nPPWrT4V6is9dKuNp36YU/ImT5Nq4B1OoUBMp1HCFGq5YjUKpOoKr5lCpGl2LpxeH8NQj8hujXRsp1KDuAbkmXK4NlWmCpSpvicJVWtNfpuovVzvL1Ba5srNM2bpM17am1rhq2/Hbnuzc8ldu9zH4ey+049n5XV7wc8gTmwzrUsCn1rzjZcdL7pOteOF3GIkdT13rJQY96qu3oYD76rkW+8xiPNLGFEZTKjoB3rXD0w3wyFvc7b/pXKtouKGue62ub6Wme4WqZ4XGtFxnXqaxVKqsFSrnNVpfpc5frg3INbiDXR3BljQ1pge6i+RqT5nGW6bxyzVBuSZM+plwIURNxsTaD7SXfmx2fArjlYHrFS1oPD7OeOZSn+1fgZ0fmQKM8SPTa9bGHmA8oHqoXzJ3bhiMp6Z8guUJimMTX3JSwnhUERPGq/lCNY8xn8T4YjXCeQFaSGQgFGoTTQdVELn9K/1lmmBlbaSiVijWRpfU+C+r9uTXhpfWBpbUeq/W9hepHOUq2wpV37qa9i8om7+49cjt6uM/eabpjx+7j/SIfSIiihMHN95TxJeYox8dGLjPXChIy4BO0Jf0BaS1GSaU8VaeTJyLj8djxjdZeb0lzng0d25c7HiSipTfCW1I+UmUosTZxF/SloqmTU93Aypp/QCtXviwJfynjz0P7tV/U3f8C9VHv6gxrFW1LVf3lKls+Urn1QrPVQrfUoX/aoUnT+EuVPnKa4PX7AhV1AfK6/xyrbcETUwPFmoD8dKiQx5wpOiSCW/Eai/ToAIj14RLNFG0yixuYhZquAJ1mGI+uV9KUnrjpTrzmYRffaKvPivj0V40uLssoQ77yxQYgwKM8WMQbzZdmqidsSmbWAOnSI3mxw+EQeu4dE/jrGckpMdxshlMxJqXuisPVK/o3dTe+Ii+OlCiDZZow8W6MBkNxQvuoqF94vok17gq1PZlGstKtelaVe9qVff6mq4NNWhNnk3KY5t/2/XLg+7nWuGQDxrw5OkOgD4RbRAWxqQfKAg8L0Y5McKj3cETP1iyxL4m6IvExqPIyR91FaAfbLZR+CcuHfg7PDt+YG/ZjHPlG608NuLRxDm9hWu1xU6StWxHwngprcn7oySk+MHRlAzsqkLWUeJ41N2OUisIAhllFwUIChDAHpGdInKYOC3Ae0F4oQO2HYp870XbJkXjDYq2DYru62p6r63pWaHqW6E0L8c2ernaJVcjdw2SvyXaMD4IlmiDqORICmcCsQOlhRY/Oqm9VI1sfQR4dB+EeRKKtVFizSfTPVuxHCiE9BFkVbtE/wHCfHGc8fHhgCJkx+uxHU8Yj+YDsh+mwNgVYIwfu4a5fwdsZgl8fLYZwpoTr3M3XMZLqlpprZf1WBo/23G29sQY4pfovPGgDcrVsTJ1tELtX6Z2rNL2rFYb16nOXKc6eYP66G1PNf1sv7n2Hc87ZtCHkZOXOYJ4Tyx7spUItWYJwrHHIvmGGKthvBl5jIzfowJEL0h3J8Pla1wY32TlG63Iu37sjMcz1JPWm0M+C8QZLhnwaD8XtAWR4APeK4puEU1zoH7vPWE00fEswDEf/OZo9KH9Pbf+6thXfnVmterkKnXLCm3Xcq21QuOVq2MlaihRA3bSHFhqhuIZszlIfhPMk9JF0E6adFLMS8sevUkpagsmAJ98MAGMjzsEkP6DIqUvwXhOAI5tK5v7tepkpZAxfrKUnsnPSWG8KCDGr61uLtAMz47Pxl3peSmzpeezHUvjS4/HED/BeH+JFhlzZepwhTpYofRVKGzLqi0rFZZVGuu19WiOfqWyt7KqbUNt93ql8cs7uu/d66j/EG0eeiYKbRzaocQeBVcE/FHkup/YrI+Y8nHGcxCN4u3GCRAR48kUvizjsCNnvNSmp8fjwHgy+oAXG4gvFhhvqVC0o8lsqLjTHvigCB4RnAJYROjBe61+EoF9bVD/Mdz/cuCrT/WtV7es03as1HQt0/Yu1/Ut05krtLYyla1M5ShV95eqAwjt2lixNkosaSmVyfFEMz6TBT9GOz6N8TVN2I4njOcS7b6ZXHGwd58GCjDGT4NMmPavIGU86nwV0Ch1DjMe+VRrgojxyBk7XPRLd+l2b2VN6BpNRF4XLqoLFdaiPv8Cjb9UF0JB6bhmW/t1KuOGmlM3qY795+4W9SuWlxvgEwsyUsmS+2RjPWLuR7FzOFmENT4PjDCeJ93YGQrE+DJeb+ENZq7VJpy0wcGRj8cnykN8rCE+m0BEO6+SpJGOdydOuwlD/bgLXtND7d/cP9zb9RXdmRvVhtXVxvLtnUUKS2mtT74jVFIbunyr7arq/jyVC6/rjsbO85Seq6r70QhLLQrFujBm7RTY8YzxGQolOzUTFGCMnwm5NNXvmKjT432zI2b8ONnZ0uFVaV9r0vGY7Hh/iQ75Z1HGl6mjZaqYXMmVqvhSFfb70/kL67yFtf78On9+XTCvPphXF85HyPcVa9EsrHKNfYXGdK26e62ya72ybX1109d3df33Sz71Qf7vJjCEwSRAbwgNP0dw93584J4YwVmM+ITjXja/+sT28NSXHh1Q2116gOx4tCENYjzfZhUa8P7xX9s60rVs0brxPMQ4PJlNwAMPEQENWHRE0PT0Bh7ecMCvTsGP/ua/+en2z/+qY321fn1V65rqzlWK7hVKM1nsXa72EFc40ruOZ6x5y7Ro9lqeLrRUxy2tjeTpIkheFILFOjTQLjXZMx7TIfkSLWooZAzSMiPtFcjWV5/tvPQ+gx9LB+OJZyh6LpkaqvaxvvqpruRy9vmM8TmbteOYsNnJeLkmLNdE5eoY8a8u0PAF2khhLWa8BPNotd266JJabkktt1RHZufjeVnYqapC461UOVfVmNdVdX5e0fq5Xxz5evXJn/+281d/69nf4D7uR6MeUTweT+fWZ8y4zHZ81V/xGjgjZTzaPH7MjI8Sxgex33tbFP7eKjzxjvXnL/fdsuvU9TUf3/ir1jJFU0FNe77WVKh2lCm95TX+sppgqTKI+t7RzqooFOuCxTrUtEq0rrxytAqNd2lt6Mq6yJK60NJa1GsSpzuZto57WTLSnZyceYxXBTL53GVv8WUsIuwkUyCTAozxmVRh55IVmGWMx+ufYP9q4mKNNgCtDSzFIb8uOGBQYuSQ6dQFWjRHv2BgCTO86J7KU6bqr1C5lqn7V6j6V6gcK1W2ZVU91/yybcX25mvV+jX1rV+u+6gfj8WjFXjwQbL28U/Tj/Fk5f+YG+CrdR9U1hwr3350haZFruiq0NqW1bkq611FCkuh0l6s9ZXpQnJVqFQZLlaGi1SJqQ06tGNhcS1ZVw79Lq71FtZ58+u9efXeJfWeJfWepXWeglpk66OhE02wQo1+47ltg1nzjPEZixA7OTsVYIyfnfk+slTPOsYjwMfnUBXrgmRNvaV1vqV1vvy6YLEOuV5j6vgr1CiUafwDhimeslWqQeuXVWjc12g912g9pTX9BVXOAoW7RBss1aEFVfBS/L4r1b4VijM2hHZhKhgPo+2rBzxrDs0UsAMsVxxbWu/K2+FeqnPn14aLd0BxXYxMDytU+fK2u6/a4ihOAD7BeLwlsc6FFo6t7ceAdyPA1/nz6v159d6l9a6l9a6CWlehziPXIoWR/2NOMZ5urIymz2Wy40f2T8piMwUyKsAYn1EWdjJJgcEYLx1rn+nHZCwfp4KM0ZIR1pQBXTrsKh3HpSfjB2QJfa23XIcMerLLOLlPfA0WjR9tuqMJrlY22ZHYQ+xVP5gdL1nJDi13M9ioPN+INo8nffVim5Uyfv9I16sX0KQAFCwAq6pOFNR6Cuu8SzVunMb4/O9kTYgXusQXPc1zAu+qTvrw4zuskz1YyX4EUrVJb3/y/TPPSp8+cRKliK2Bk1S3sA8TrQBj/EQrnAv3n+WMHyUnMMPiO5poPcVaH1pkTUdW10c++Wh/HXVwTU2TE43H4/lm2Udgx5PxZtCbwWAeB8ZzeHefa7c3IHdInT9f7R6lVoO3DrO0vSbkWYO/yRi+HTbjJfvo5ULlwdIwxQowxk9xBsyIxzPGjwYnw2P8OkVTPzHjB5aEy1Aoph/j0Xz+SWL8GMg6moybmMcxxmco1uzUxCvAGD/xGs/8J0gZT2zOgTVwJqZCnJqqeXztxWEz3j2+jE/qrpdOnOPwOnfQRO14CzRY4KADvrZ1FH31qYwvmTg7PifKGGP8zK8IZ2QKGONnZLZN8kunMD5pLducqH8npEkxKOPRtDE0fyx0XY1+TIzH4+t0h3h8gGbAJ4/KJybXWcRGS4LxJmgjjLePA+PRivE6f6FqYvrqc6KMDcH4mtD1ilbJvnOT/C/OHpezCjDG52zWjm/CyE4k8cXUpevV50T9yxg/cp+7uB1vA1izrYExfsgixBg/vjUSu9swFWCMH6ZQsz0aY/yQlXhqhMmx421At45NOkjyrpfY8VZoRH71yOeu1Qon8Tp3X902+r56xvjUfM/S6h2C8Wz/+NlexU5U+hnjJ0rZHLvvAOPxyur9dN+5LDXaMCu+XI42/RjfaBVPWwFPnxP1hPFkb9nRMp7HK9ITO16uZX31g83fGzbj2f7xOVZ3TnFyGOOnOANmyuOTGB+DfoD125uLVWjtFxYyKzBpjKcmO5koTz6mH1vQrrKnrXAaDeGjJetbbHA8zviRrleP9pTDXhpox5012xrQBqlaf5GSjcdn/XdIW6+erYEzUyq/mf2ejPEzO/8m7e3xDui4YhfRPiSM8Zm5Lm3xTALjq19PWq8+netS3lPG28RGfL7FLhy3w9/64ebtf/aOsCRRxtsB1m1ljM+KdlpO0hiftresQi/ZWzb7FoQjzCkWfZYrwBg/ywvAcJPPGE8r6+EeTB7jyQS5xKC7lOvSY8z4BrvYYCeM5wx24ZiDMP4lxvjhZqu0GTeS46EZz/aPH25txOKNQAHG+BGINZujMsaPmAHTn/GO2BgZLwBQO75Mw/rqB7PmGeNnc/05hWlnjJ9C8WfSoxnjpzHjExb8cPrqbeLpeF8912KPJfrqR2zHk7JLGV+u8jHGD15ChmY866ufSTXijHlXxvgZk1VT+6KM8YPX4Bm+nQQ7PmX/+NEy/qvbXxrp/HhSGgUAJ8B1WxsI40uU7pm4W0yGvBtJJ/wwLx+M8Wz/+Kmt3XL66dOQ8cSbJ+HelX2XjpzOl7jf8vRJI2P8MKvygWiM8RNAygF5Z9rNGeOnT2029jchlBr7fSbhDtOM8YjoaYwXAWYf6adbGWJz50ZMl2nM+CYrr7fE++rfdAKz40ecuSNvYaQxns2dmwTATdQjplv9PEg6p5rxhN/S34TxZH9FCe6T4T/QEOBFmNAgfYWpOh4k/ybtqyTG82ju3Lqq5iI1mx+f3c1q0hhPuuhTfhOP+uTfjVYeD8aj1ez1Fq7VFjtJ5sePra9+w/bTFWq/XO0rVXlZX3225sLMXQNnLPXehFbOo7j5WNKS7dpJq4RH96DpxHgiIeF9upxJBn5uMj4lC6kGKeen5OMA4wHYnjTZ6vGk89OP8XjfObQSzvgy/oaqM+UqBHiEeXX2Rs/Ibd8kPWf45cNm/MzYP57WToMfjALDE3rJ4G87+LcpFS+NnHJ+un2casYTPaR2vPSYqhjfWlv6OXEs8DChYaA5kXjixJ2haU99xNQXG8b4EfNm1jB+o6KZMX7I4jGzGU+rJnqQWkdlqR4ntHIexc2H+doZo2VN+9TXz4O8wTRmPCkzVFZykC79KLJ5RJekP3FCz2RO5iA5OBlfsb1lh6zBM0SYxozXW3iDmWu1CSdtcHDM4/Gfq24qUyIjntnxGYpBovthJjM+md+Z66jkOLSSHFFlOwmR6YuN7iBz2iejEh71M6YH40f9+uzCSVEghfGigGZMra1uLtCw8fjsXdOTw/gh9o8nS+DR3zzqqMeL1RvMfJtVaMD7zn1t64jXqyfljsyd+1x1U7kKAZ4xfvSMn8b7x4dCIY7jSI6LohgfSxCH5QiN4k+nH2HYP+StJ6V+ndiHTBvG4/aRtCnIo2HfpMABpIcowISGiAiTEKRJ4HCqJzbbR3h3KePRsImAVjdjjB+kQkdfTV/Gg94sjhfj7QAbFHHGl2p8Q2iSMGpnYbQh7PhpzHhpbSHgSjiG9qyIB2mlnX5Mo02Tg3SCZDtDXpikiFjvsQSAeOwcJpVlOh9POOPTc32QM0Q7EiEG4PTzTr9oD4j2AHTbw12OcJcj2uWIdkpChz0yoaHNFp60YAkCCfaAGImCGEuUHFLE4t1EiZOApxQOzDaUnB/vQ8b40TBpchifcf/4AXd6asHH17THdvw4MJ7+FxPGx414xvjsjZghGD9l+8fTnBRItUE+p1chgiCEY6I7Co5IPHT1c0MGaV09HY6HDwvytiSBZ12xs66YJQj9MfABBATg42ql6yQ9g7RMeDJJz0/q8dQzXmqscwCm/mBvfxiHqKHXbejxGvoCLaagwRIxWtFsnxa7IAkxg43LGqy8ISUMEtnGpUbG1+otXIZgjegHCRkvGepksznabI42mSJNpoihL9DnCLi84RAHUWGgM4P+O8bLSJz6+PSwes5GWbYY42cS4wcAzzdZB2c8jLqvnhRFsn/89TVNqJdeg8JohMrOxVy627AZP5n7x9MaRUCey/gH/7MP1Dk8QIgDX4jv94TMrlCrPdxij7XY4xXvYNUgriGbzeHkgGq54YWUC4f5cYibkwoW/w41mQYL5LVJAglizvQFjQ7+rA9sYQhzIMYFS1m+RSIpHvLPTcanphL1bKDmjMQDHqIiRHgUQjzqDPeGeavL12VxGy0BgyWEQwSrHJUi1mDlm22iJKTXYtJKLbGO90CtJ/02/Tg9frYz9NpIkzWSXpM2DTwx2x0ynG80x0hoNkf15mCL2U+CyQfOKAQAgrizaKCnSMCLAxBd4y4ko6T44Jcxxo8GNpNmx2cubLSISg/4Rjx+j/vqxTYrZfz+ka5lS0lgA7i+pikOeC1jfFb/jOm3Bo6AutvFRBB4QRBighDDo59+ALeAzFZzALrdfKcj2mrF1bKNa7bxww9jqBul5Xb4xxnq1Sy18bDuKU0pTYvBzLV0hE0m0euHaATZ9AR5WM8oCGEQw1jFGAEf/Z2YAD54dTvO306IHZ+R8QTwHAgcCBFAaA8KaCidB7C4Qz0Ob4fJ0dxtN1hCVMpGS7TRHJPmkITucdLTyGkH2TI7W9ZK4qcsJ5LyMV6lkvukM37Y90m5rUVsNAs4YNJboij5ljAJrS7xbADsHOomigggEAseVbQJzNNiNs4lBN2OMX6aMj5l//gk2Gcs55jxZtCbwWAePeMp4DkAC8B1SsR44n8wGqFmix0fkmK+WDPl+8cnMz6xmKgAEAFwxKA7CG1uMNiFZluqKSUl3+DHydXyMOrGoctwxoJNTo7//aWpo2lBviy90NUL3b1ir4VzegVfRIhiUxbEVMYT8CWs+URjYAJq6Wy3nHDGJ2z3uLscdS4TAAIimLyxDpu/zeIxmt36PhzMQdr/Q+x4rCzOPIvYbAUUJKY81T3tQJLfwyo3kvhp9G2SnpkKxjdaUFdVRz9v8YM7BGEeYjzyfcP4xZhPH63PlucjP88YPxp0TYIdH2f8ILVeylfjyXjirEQYTwBfyOz47O0VKeALtaEMjJ/s/eNx9UHseFSPoB9ULfPgjECHWzDYBWxmEGMjKq1gpeQb/Fh6ldRaS6pRM9SupDZOKb1DfhxGHT4sFgw8SJo62qNssIodVmg3gaE7ZuwLd1j8vf1BWyDsi2IXKlQvI489AVXS8ZBg/Mgr3zFfMbGM51HfMjLcSXVAAB8GCANYAkJPf7TF7G3sdrda0TBPmyPS5uCMknFuxnhqxxPGN5vDbbZoT3/M4RO8Iez3EXdTFFErfMKG5BnjGeOlVQ2x4zncHUkZX6j1McYPUk6mKeMR1hHgicO8jwOzJ9JmCzabw1LAN1oY49Hyz4nAN/eKBhO02+FsP3TYuTZbuNXm7e0PRhP99ok6U8p46f/Q5B1PBuOjgPoxSOABvBy0WyItpqDeHEwMvYf01pDBFiGuDbTphNuA8aaZ1HaXHie3EwfaX0ltxmG13YbRBiTtzSQ7XvpEcjzs+0hbr9Lj7PfXWyPI99Ac6rCGTc4oWlVWAI6bMLYnymGivBIfUTZ3LuuYa1IVP3l2vKTIDRT19JLJ4bVsoWmc+uoZ45OyO7sFT6INzfip2z9exIanJ4o7Vh0hgzWAGZ+K+VGQPrl+lhRUaY0nPR4owKkDBMm3yly8B6p96T2lxyO8P4WR5EBES0hZAAUrGC1iq01otcVabbE2W7inP+qKoGHosEC6rmM8RHlk00/Zz6QyngdwB6HXAV020JuQA2SiWYTaR9ifLsmbYyDDUl3tBtzusme8pDwNK18l8aVlIv04freMhQxVowMh/drhnBn0/kgojPk2c8DqFmKY7xONecb4EdXm8ciTwPiU/eOlZS/Voz7eAEU+d4zxQ/F4NNk91D0HY/zU7R/Pg8jjJUDcYRGNnBLAW4KJHsR4Rz216aX1rQR7SfW29Lw0/kDFaOVnYl99Il2YPtY44w1WRHocRINVNFgine6YI4pGosOoGxsxHjue5S7jsQeCQPrnvRwCfEcfdFihGfuQS3O92SY22fmkIKmzpLa79Di5DEm5K2Gt5D7Dij84iQdlsDRFWcvxmO6P20NmzmiOGPuCTj/ExPTJmmSkbdx67xnjR1PpM8YPhb3RqDpj7znFjCdjeZIRPdJHH+b5QExwBriz/YEOB+pPzWbBE8xL688E87ICPs1ZT1InZ6sDk+rqgfiNVj5jkL7PsOrepPtLeZH5OFMa44yPO4cRF7HE71Nm1P3QgTEfRL3XAo9MetTnOlU/E27HR/HoO2F8hznSbYVOCzSd5RvNwmlLTJptTXYxERKkl+SHlOvS4+Q8lubTQPlIyvvM9s1I7O8pZjxKF7LmE5i3eOLDaXhMjfznCqg/nRyOR0c+Y/xoaDRtGW8ha+CM1a+e9dWPqFSkMX4S94+XAj5RIeB/anBHeIs32mHzN/V59dYQNt9TbXdqxE96X/1AHS4lhfQY1+202h+In9W+kjAlOzvoDTNOakJDrgAAIABJREFUFESMb7LBQLBCUyKcMokE853umFuEUBzzQq711dMGC/LSjCHWhAHOWvlOq9hhAWOvYOjhiR1/2hLDpMf7XZKWXVIeSPJsmp4npWHi3nOgtCW3VOIOIAZLpNUWs/ghijzuOOLPiWCPGI9/S1ruNF9GesAYP6LaPB550hifYhIl/adIyw8Zjxeb4oznJfPjR7ZePcEDY/yISsWUrYFDaoB4iz9uA5DVSgIC3+cTjA6eLErTaImetkZJnRz/bcVnJL9TaqFJ+CgleuIY8YKESXiBrI9I+b+zoFEwFCyAt4Tgur3g4MGL1zVBjE9paY1HzTycmnxC7Hj6YAEgJCDMW1zQYeIx4GMtPVxLX4wwvtHMGD94+0BaR6fGJN4MTVa+1R52hIMxxHgeY54xfnhucRPa8TsDGD/KPWkY40dEdxJ52Iwf7/3jszA+AjE3hwB/2kKW5UAdq6lBQneEf2s0K/CSWpapNdVYrkpwPfme08QglL4GOiaAj2O+xS50ecEqgJ9sQZKrjA/ycNYB7Wa+ywbG3pihFwGeMJ5iPqlfZcLKyljKWfZrp8yOl76S3hrq6nf3h/2x+Pw5CePjXfa03TWaA2bHj6JOn6Q9adLXq0/6D5K2EdPteMb4yWsLTjHjJS0HPKUZAoJo8kXR6DsaNpUGCemnAeMTFR2dt0YOeL0lmfpJxX4qvko168UmK2dwxDp9aLlAtO5tLjFeTGw7yAPY/WDsi7b0RDqtIqF7S19Mb0J2PGN8ovgOUiKldXTWaHprpNXm7Xa63UGyCgOe70r+qxnjJ9RYH+TmU2XHW0RJuZKWH8p4PPlnDHvLUjuernPH1sAZshU4xYxP1ANkHnxIhH4O2hyhZnN0+jOedFgazMgJyWBB84dJoB2ZkgKftZKcjDhSzMfbHJzBLvR4kG99bjI+EBY6zJFWs0hCS1/MaOINZhT0FklDLIM0U5lVSe825c3DYbyA3sIZbaFOe8jijQY41GbELh50d8TR2O7Sa5gdP2QNniHC5DB+iP3jU/+PJPvHc/H9453wtW0vjWi9esJ4Yg6ytWwzZH2mlt8QjJ/wvWVRlRC34Hmwh8BoCZzq8eIlEwaGt/Egt8SD3cY12jjaW944jLpojCgldW/id9x2N1giTb3BDhv/6J6/yGTny+b+L9m5/37j1+4xWCKNPQGyl1jDWT85kHpkpx+P8fVGdDl6Ova3b7VwviBWn/pBU5teWs9OzPGEjMcTO56Poa2KpIw3mnjG+BGVkuFH1lvQpnxoCbwgWlUQY54xfvJ6YjNU9DOA8bEGGxwcOeMTWxggBxC6Jw1brz5DGZDAfsoZTyz4KIAjDN1u0Fu4ZpuI+T1tGR+fQGSwRNps0YP/OH3h5XLZ3Atl8y9GpD/nfz2ieaq5L9TcFzJYeaNDbLELaZuWDaykQng//Bp15DFT+8zo5LpWC9/v4WJoo5HE5KeZyXjUTiRJIM2RUCjUY3a0WyJGi0gCseCTjfikRuIktBMHxv4TfSmJGRQDFo/Ujp96781htp0taAWGNjtv8qJVBTHmY3heJjbpx9ZCzGU7HpM4qXZOPyOpqZNiDn5+chifPh5PesWyFBtSntFCXWbUKDyJGf/V7SOz4yeF8WhFdxxwQ41kCv09uPJj+JaQOJ7L41US8PsMwfgJ2z8+gRW0d2wU+3j3eESDlW+xQYsdkg13AvsptePNop4G3NdLVv063eEou/ZG2aLPyM65ML98nWzOBSjIzv3jXz862eHucCVtYpJuvtMzIyf3ABeGupbDe5DSXcr4AcabRZPFF6ZdrInpi2OrlYd79Tja8WT32HhHMQ/g8oZbzlpbLVwK45MIOsl9QdJBgfiwJcoYskYsHuNB+yfGN8WxcGinVzxJg5QzvMAcHgoyc9PT46PFLpztRysOYcwLeA3F6cX4UnWgVI1q7UJtoEAbKtCG0DrnOg8KZMHzxL4mNOYIsDqKyj1O4vj25+O5f1r8zp5SjadY6ylGqQsU6AJ5OpJqIkLouhq9GzETt/Gz//PjmloQEmtmuQG6AG4n69yllOrsjG+08qeR6YYG7EnHz0kbvOmEUTOe7h8//nvLqiPF6sgA5indx5W76UUL7xaDsoakCJWHURSqTJcMm/HjvH88YTyPNw0JA9qiWm8NnTFxLQ60v9f0YrxFAngz8hrBgTOaQ/fc/3OZbKFs3gX/5/8+0NRh3/vSwfMvLZLJPn3h5eXHWuxNpojRCbhUo8YrCtZUC35S7HgCeLLb+ADjjRaxy+x3uSORCAKz1BIeLqjHEG/cGE/21SHjPTEAF16UvsspGq08WuEPh3gDLe4PiXo20GBPchiqrTT8VlVaTFT30bkN4r8M+tvv/+Vn5Rs+VbDqs0UrP3u1/NKrSy69uugzeUUX58svyr/m0edfazTHWt3w7hnzZcVrPvXvhf++pCS/aPm/XyW/8N9LL7hyeeWmO1ocqGBNbSCjZU12vtmGdDZaRGeYLKNIB+bHUEDwpeNlx5eqA+XKULkyVKgNLK0NLanll9RG8uqcBXXmpfX2pfXOvDpXoQ7hsFQdkKtCchXaf3O8KtmU+8QtNq2vVOORa5zlahTkGidGMuJxoXZsj540xtMSKKV7+rEF0f20DQXC+BZ77Lh99Iwno/Kkr16ujjeSUkTO/FECbIrSpAN1AAE+lfHxphIaFMgE0fE4GSIPLdX45GpPhdJXoURN0rGWBPy2U7gGDskpDhvxpiDgnkveYBdQDZxl/bhs5yeirouzHJnvaNfjRBD1plhTb/hMt//ZfW/K5l2w6PxLFLonWns9XY5oiyn4/IHDn7pqhUx2/pduuaexJ0Q6aA1mrt0UaDcFDOaBZc2oEY/WrqH/LBNyIO2uH2C8wQptVqH5rNuLHeyT/aXGWjkPef14MV7A++ihkWDSHdTnAYOZ7+iHAcBbeML4hMpTz/i/fKDX7PlL2cavy+Z/GjUSZXNk+OcLt9/2+It/Oqw3NZm4Rqt4xsS9sP/Qt+78vky2YO6cRbJ5F8jmfupy+fWq3+w/3Red+HIzRBtCwnge75EAfR7wxVBGJArTkMVgiAjjyXhVQK5C5uySutCVhPH19oL6vrx6K4J9LWI8BfwkMt4l1yDAyzWumcT4lP3j07lOKjJyXsJ4PCjGEcb/rR9u3v6Sd4gikPp1wjoEO8AGRdPoGJ/EdQ1qbMUD6uyZEsYHStVogKAQtfwQ4CtqyMextfYyM35S948ng/H9MWjvR5zDBQAZnSkuddnQTs8nau8hKqURRcvG+MbuiMHM/bOx97zP5s077zN7nvtTc7ultddjNIeMVtTJ+o8me+X6L8tk56l//bKhH05bhGZzzGjyt/X5p4jx0n10kNFFu+sNVrGxJ2AOQCQ+kAp4IBVvOp/6vzXOn8eX8TEOL2nnBzCaI0290XZnVsYnzPfIaTsuZ8nWPPl2RAVl6MiJmo4OyZ/uQ6s2Hml35q/cKDvngrnnLJLNXyBbsMBosZzpNhmtkTN9YURxc7THEXnr3Y9lsgUy2TyZbOGPHtboLdyJ7uCJ7uDpvilYF0Ka2HTGt1nBFZqOjEddoOpAsdaXV+tbWhtYWhvJ04UKda5Srb1U45KrPXK1T44bAcSIn1DGx33EsE1JhgkGBguooTkWe3ES7Pik/eOTq9103mPGN9jFBjvytCKTd485YPIZT0ZhyG+U4+lBhVhLcBsfkqc5Qg7Gki/Zr0WNS7UPl080pFKsjpSqIwXaCB5RGivm0+z4NMZP5P7xhPGWIOitkXiNYU0wnta9w7DppTXPeB1nZryFN1r5M13uph7Pu580nmw5e9bqbWwzN591683hNiec7Ak2WqJGh/j3Uz0fdwbO2OGUhWA+qjeh3c5Id0VT8n5m4/XOw7mPtP8AzRXvC7XZgmQgFVtfZK+acRhLHbxRMCGMd0agzRozmPlmkxDvpScjK9iZgqhDKH7aHjltT+2uT+B/oLNlOIIOK44U81b+ZE/4jDlisAvPvHxINvffZHPmy+bOk50z76jB0NDZY+gL6E3RNie02aLtva5v3H7XnPnny+Yt1jz2/MkOd5cXzpg4Mgg0rEdPSNcQqtbTGd9qFi1uCPDjNvAzXnY8HoZHu4wX6EgIoB3Htch6k6t95aoACrgzv1yJOuonjfEldag/FgdUxRdrfSU6/1j7hPF9iGE6UePxU814AQbseGLKD6fDXMp43CuejHkE+HggdytS+4dz27HHQS+jQT06hTpXgc5XqIkUaLk8HW6JjnHgBjmghKShWDOpjOdB9EfFrv6IwRHfJYT4ISUNmCYqE2q1px9MRF0nYXxiPB7xguvo57vdfKczeLrTpO+2tvY4OizedksITaUzkTFvrtUlnjYFT5uCLU4Rr6sfbjajIPWklrJ2It4/2z2lz0UdDFa+qccTEKn1NW4+0ZPJeNRXHwZoMweMyPEBZ1jcbwJ7T6QxPo5zadmijUrbBDA+GbTIpc6M1nHUm6JX5VfK5sw/Z9G5MpnsJ1t+aTQ7Gru9RjPXeNZv6PE+9EgN6syfc+7DVXV9XuhwDQzDN9uob4hkxn/yg7IVgnE5n4HxFr7DGiVbHY1LK3HcGK/1LVXYy3cESnTe8h2+PKXl6mpLkdp7zc7Ysh1CocJXqPCVqcPUiCeMn7gh+WKtr2JHpFjrKa/zlmndRQpbodJerPXI64IlOn+JNpgeRgCSyWN8woJPt91JOUw0bel4/Nj76km1QhlfrkKcHoWH2vLHeLnWTzrtC2tchTWuYrW3tDaA9MehSO3HIVikRmHA0z67OT6CPEq+CXp/haVCYy6pMpRpugu1gTwtt7Q2lFc7DkPyUsBjz740xk/k/vExATxBoc2Gt4THfsRNVk6PTHmJiSWth5OOBybXjUuVlXKTOOMxKU73RPQWvu7ZV3e98OrTL/2t/tnf1+95fuee3/76+T88+uvf1j6+99fPv9ruEJpMkdZ++NuRFs1vXnjs+T8++dzvdz69d+fTe+t//cyuZ1/88FQbTlr8/0LK2pRHT+hH6XObTYLRyreYgmY3F07MbRYgFl/KZHBKj+3b8bLjgWxywAHaaUfCeLTD1UAWTjHjpQ4R2Bsgzni0mf2D/095zvzFMtlcmUx2RXGJoc/WZouedYht5tCup17EXfTz7v/RL1q6XS12IcXVbiCBU7G8ooTxIh6PF1stfJs5RHYDml6M1wSWbLcvqw+Ubu9bv7N/fV3Hxp1dG3f0XqfpXqc+u2mXa7XaukrbX6l0laMee9RTivtsx9pNSit9YiDSj8WaQF5N/zV17uVaa3UTfPmZaMn2rsp6z9XVjnS6kzPSa4c4ngTGp+wfP1rGj8KvnjLeCfC56ibCeIT5kfhIyjWuVdqez+8yXaftWF3Tcp2243pd51pVW3lVq1xjX/lE7JpHw0u22wndi1ThIlV4wNM+Gc9D5MXwIpdqfMt2+FZpz/6/d+Gnfwe5xomM+FpfXi2a9DHGRwzG+InfP57jZwbj2/vhVHew4NovyRZdLJuzWDb/PNn8c2XnnCtbdMGccz/1bxcv2fDlO9odaB68wQ7Vj/9u8ZWFsjnnIDeqOTLZwvmyc+bJzlmgeHzPdGO83iwazLzRHOq2h0NifP2Smcr44HRn/MD0hoQdD2ht3Vbzued9mvjcyRYuePZPr/T0C2c6PC/8+W3ZORee928Xf/Gmr7Z0WprPuo93BVokdjyZsEExP6ENw4w3z8j4lt6AKwgR3F0/tlYgujqjHb9OoS/QjLgTVa4Jlm6zrt3W/XQjGABaAToAugHaAfQAxwH+ez+3pqazUukqVXGFaj7dbhu1xzt25UMef1IOLVU4V9Q5r6tp+QjgmQ5YrzTKa/qQHZnJiC/RBkdQ0U8k411Yt9u2v37SNtClFHc0kdru0uPsPndTxfgVqp7nDWgSYA9AL4ARoFmE922w+zSsf9SUr7KW6LxFai9iPAJ8tEgVTS8PI8iRIUmv9eUrzGtU+vc88FEQVqnOoumOta6CWufwGZ/ejiRvOLWMnwl2fHxVO+T/5Id3TrXfeOt3ZIsukJ2zEJtYc1au26g/a++wcx8bnUYnNJujZ8whvSvy5bvuk51zjmyObN7if1v3pS+9/s/jjfYQHYyfJuPxBityQjeaQ2193hnNeLT0SkCENnMo0Vc/De34SJMthBcrwNPfUV89Ynxrr++2b98rm3uObMEC2by5n/uPrxh73O9+bJx7/hUy2eJV13/B0GXp7Y+2WiMtDuTZIcUtBfyUTJqXMr7ZipwcUadQb8AeEH2R8dm3eLwYj6o/ZbBsm3XNIy2/w5X7222xF/5p+9Mp7rmPQ3uO8r85Cfc+Z1+r6axUWctVnnKVp0JtrdCYyzV27PGObKnSujAZOC/VuMrVzgq1dbnKXKmyl2riE97IhPtinVOuRdeioLaWq13lKl+5IlipjWInLw++1r5ca79O17OppuGfAM+1wY3q5tKqsyt2Rcu07gpN/zKNbZnGUqlxVGr6KzTecm0Aj6+T59qXq6yVKqtc4yLD7amwmcaMH/vcOWrHO8Zgx69Rtr9mAAvAoQ7Y/b77t0eC79ugBaAB4K8h+NYfImXK3op6X7HKX6r0X6PwVir6K1UoT+Uae7HWRZYcQBPbtHiqm8q5XEUKg7VC5ZSr4176ZIi9XGNHZQkFe7k6PnuCzINHzp5oSoVdrrUuf7T/8zsN/7TBUQesrjagR9Q6i3X2cg251lqusZdqnSjHNYEitbdUiy6sVDmXK524HFqv0fpKlX5pOzIL4ydx/3iAmcB4NAbf3g9tiN9hvTV0ssu24JIrZYsWy85ZIJs3/79/+j/HmrpbrWgwvtEca3NCi104ZQmVbPgPbJvN/a+fP9LlCpyx+JrsAw5304zxkXazLygQOx5NRptxffWY8QJmvIk3mNBMR2RbZB+cnhD/+ayPQxkfX98Gr3uDtzQgyyzwLXbht/vfRj0+5yySyWTzF/7b/r8durJ0pWzhZz5TuOqjxt5mU8BojRhsaAHIJjtaYIEsj5zye5DETuhXzbb4VA3C+A471+kMBvFGs2LiZ0QGvSiKfIwXRVHA7YRANMiDwAMfCIVARCuYrlPoRzpvGDFeEVipdq2tMuwxIiP+27ve+8pjJ69VHK+sNqzUdK/UdJdWt19T5yhTm5bXGMr+56Plv/xw444zqzXNJdtalu8MLtnuKq+P5KlcBVqHXNe3TKG/6dGOzytOrNt6urLWjfyfa/2Fde6ldRb5o91rH23cuPPkBvXRFY8cXqcxrVb7K7YFVuugvMa9/lHf8m366xX6G1XG9Vs++WLNkWMAuzvgczp9SVVPmda94THvddqO/72r9UbVyQ3K5vWqs2s1rhVad2FV18qdppXK9rXbm26sOr6x5vQybXeR1lakcU8O4/HUG0iy4xPD7XTCSLZ/OukaOAYr32bnG+xw0AVfq/qTfxiFIxQKpcTiQbSOifGtrxh4M8BXdSc3aDtX1hjW7+j+3M7eXxuQZf8PN2yqb8/b0l6isFdWma/b2rphS8OG7YfXKT9eUdtcWnu2QOsorPXn1wXzVM41O11rFC3/W6f//LYjX1Dr1yha5NXdK3d6K9TWspqz19afXVNrWK89tVZxbJ1Cv7Kmu1xjv2q7edmvYgVV9oqa3oqaltV1xtU7jdfu7Lqp/uRxB5zxw7XbGks1vmt2hAq3dV6nNa6t/uSLO4zX6QyV9d3lO53IS0DVX6w0rtvZdd3W1hu3tnz9UeMmXfNKjT3jmEXCqZN43qHhJ+yF4CHTSYoG1rnjeYjFO+Cyr4mUkhHkY8r/bDgcRrudiWIoGIkJ0G12t9mieF0vaLSSFWNShi8Tjh0pVai0gKV8Nd4fUfXlwFWrjTPYQ5t//kvZAuQjNWfeOZddkdfa7T7bD8iUMnFGK99mFX5c/YRswSUy2Xk/3f5oqzWSqKJ5XB/yTfa0MN4vPEitLh2PJ7OaWy1ch8Uf4Gc44338zGJ8fKfCMyauzSlcnl8+95xF55ABHtkc2YILFl9R+upHTcd7/Hqn2GznSNHJBnjDJBaglLKVwvg2B9feH/SPgfGk1uBjaFNE6aA+Oh4z49cpW55uhWMA/1HzzuqahhW1puU7g8Vqd5HCUqKylOqsX3sx+poPqt7sf8kCnwAKr0fgmy9GV+hscrWnTGVbrjr903fENzg4iTv5/+6BH/4VKmp6i7Wu0jpnmeLUz/4BfwrBPwGOAPzFAXc93bfyoVOrt7vXqkPrlT3f/q37Ly70Ah9x8IYV/ntvsxHg6Va4TnlqubJ7WXXn5he9rztQhCM8ivM/r/Prq1pX1nRX1LT8/B/wSj/Uvcv/MwxnAP77n3C1opcYdkmYnxg7fiyMpxuQNKGVqUbMeLIPBQEJH+MFQYgJwtgY3/KaIWIC+EJdZ2VdqKQukK/1ltb7b3y072g/nAXYcgiu051dVtNxbZX+of3BD/0oN98H+EsEvrnPUqRoL6ntl+scpdWt33sp8qYbGnEfwLtuUByCDdr2VarOa5WdN9S2bd7nPBCCE/jag27Y9jasrmktVXTnVVtW1Nk/v9O4uwvd9m2AP3mh+qDrWI+g98HaKkOJwnnDTs/XnnL8Wg8fiqg4vc2D+gys0pwp2NZTrrL83794Dwnw2D/gYB8cF+G5bqhU9pbpMniQDJvxIm5M4/+5ETJe+j+b0giYAYzHLQnUpx1fM40/3ev7yNAtO+9CMoS6YP55L/75jVNtzg4nnOwKtFr4Pb9/W7bwCtncz95+3/909oPRiqbbJXamQZifLoy3gsECRgsgxptD/vi2YWRty5SMGv+P4+tzh+x4b2waMn6guUq2I4z/Jta8NYInU/KnevxbVTsXnXv+ubjliGz68z79p79/0mjjusNw2hpNAB6VnhTznX5MQe+kfZwIxhMLPhKJvPL6a/v2v9Ta1RYvgJjx19W0jMKOL6nxrdSg8e9nW+CMAJt3fnLj1oYNiq7KR1pX1vSu1JpXaHpX1XY/8h4apO8D1HO7rw0+iUATZvn/2dOzbodntaJ978nwWVyhP9sAb3QhHjRysOX14DK1Y7nK/Ac96iQ4AfDbXvh9HxrobRFh+8vWdVuM1/6y477dnXpAN3ylG97ogeYodEZQj/HzbbBRfXKjpvWBl0KtAPoovHIWXu2GTvwatcfhWuWJG+uML5mgDcAYRg4EL/bCpt+45fXeDBPtJpLx/diD4dZtr6HxeKmZRY+zNDfJ2syjYzzHcS+//PKLL75oMplISRAA/n/2zgO+jfM8+PR204z2S9q0aZtYEiluUXsPrzjOshMnzWiTtmmbL23T9WXVUxwA7gCQlBTPOLYVx5an5HhGdpxIjmxLliVxYxAEN7H3Hoe7e74+7wscDyS4QQqUwN/7A18cDofD3Yvn/z7P+wybMH+fuy3KLMaXqUN/Xm+vao1sYka++7BRB/B4P+xRvH9jq+5ADxrw20V4yQPPWdLeG//8krCBHdmuMv7XC8EhAJMIL1vhFTtYibPC/WfhBmXnljtPKt7CJf8BgIMmeH4U9AkcWg+cgy31ulqN9doHbO9E8NVX3PCCA37vwZEQBRwSW+oNG1jPtx8a60jhEDpqh6eH4UQch9bzw7CzdWCXduCBU/EhgEERB8mrFvivl6BWYUWjziQfvaVhvPSbffnllw8fPjwwMEDvFC8WvB4/znhIk97J6R3BHbd+peSKq6g39K1f/TvTKFojDLb486+fuezDK0qu+MTWz/yt3pLQWxJFxuecIOSf8f4kmK0JrC83S1v9FMIor3ScmfFdlmTnaLjDMHTV1R+88rKrUJW/5PLv/eiutiFvhzVuDkIPWunTJqBCZjy1MeRLj8d6lCn+Vy+/dHfjPUqN6siLh+0uJ4goB3eq+ubN+J1NhoO9oBfgZ29Fmt8C9h2457egaYMf/A5uuNe1lTE2HhNsAGNJ+HrLO9fv/f3XmRO/6kWQq34T2Koa+NLPXSMAgzx872f6mxu7r/vBidufdA4BHA9BXePgrY9G+gF6QvCtn52+Vv3uZ1vO/PdTJgtAZxx2N3TvuKf7mBUh0fi68wuaUzfc/fa3tad63GBOwKNG+LSm4/q7T70+BqMitD6n+0r97z/z49fvfOjUgADHE3AD+/sbmbNPGtCS/IYxcZvmrd3N+vWtnjUHuCwNnvp2FTDjDSTBiBnz4cCb3tna6vkUf+TIkTvuuKOhoeHll18eGRkJR6ML8aufwPiK5shfNbk/2eSsaRz6dNNZA8CbEdh5x9FvPthxBkAP8L37X/9048s3K168//W2IYDXw7Bb2XNT03snAmDioP7pgWvr39/4o3e+pXmvi0f/zVv3GW5VnzsnQp8IP3ysY0/TuzcyZ//jZ+0DgGPvb+81bNMa1TqcAfx2AG5Rn75h73tfbzx+3ITLpL0h2NbYu1U59lQ7OAAefVv8/B3Hd/3wza8yxw0RnCX83xfDu5nOB35rHUxCewD+ofm9L6jM6+8cqFa5zyPj00RP8S+99FJ9fT3Lsi+88ILT4V42jLejyksZb3LzXZbAz468XHLl1Zdc+QeXXHLZBz78x+2G/l6L76028wc+Xl5S8uE/Ldv2nsFlcvB6CybFI5nqUQGjsrrw9Hh+wBYLJdMZSEmNipxczufGPDIezzsJ4ItTxouzYXwa5JLyMe3i/QKoPzPjjS4we4RRV3jXnhsuLbn0ysuuKikp+cyXv2l0JjAVvFvowXh9Tho9kuI+oXO+/O/Saz8OUn/JltTZIga7/062pYlhVeRPSf6a5vLX2Nj4k5/8hGXZx5984vZ77mhgmhqa6lVq1mgYsAmwmzFf0+TLwbapvZcrmUiFIrKB9exUdB80oSv1KKB3/WlAk3sPoC30erV5K2O84zecC+DptsgmtrNcObDpHtO/HvRYAH7ZCdsU7T94C3dufct+vca4hXVuVdi3Nw1+8xfOv3/Gt1bR3XAWeXD3rwa2Me3r2MGIHfCKAAAgAElEQVQtitHrG9tfHkBV7GuP2m5QtlsA2jxwreq9NUx/ndp+nXag8fBAH8DPTHCjuv3/PtjbD3DSDl+787nP3fH6F+/6zW23P/eeB0nwn0+cu/7u3x4y4Wn/95OGTWp9ebOzrDlYpo2WayYF05Pw7ip1sEodrNAEMamOJlqmja7Sxsu0cbp/uSa+Q2lypkCrUDCNTS2a1sYp/hqaGhua6hsUdzUq71Zq2H/f2/IP6qPoVz9D/fjxkU89jaX68Sa7OIC56+FND9xaf+R29UN0nKhUKjpUcj4++eST9fX1jY2Nd955Z319fUdXpyWVNz2+XBNewfrLNIF1Kst1DWdOpeAUwG3ak4qj1lGAX5tiX937+Jdbf399/YtfuufR/4W0GeBrmjPfaj5lAHiqFz7DdNY19a9v9mxmR7/+tPCfb8GGe9r+31NDPQA/b4cbFO9XNRirVUNbGb3qHRwMzS+P3tj4u99waO/52v73dzBoSdreNPh395o8AMYQbN+r26UwmRPgEuAbe9+4peH0zU3nvtT05sttYxaA//mdsJttf/h0uBeAeUPcfkfH5qbBNUp7pcq/mglO/l1Mr8dXq7ldCrMbgNWo8YemUjY1KZWNSvp7nWJQ5Nis0WjuuecetVp96NCh22+/nWGYBvxr6ug06PtsJlui28p32aDLBj02zPw6K6G66PKZ+AFQPV7GeIMjobeH9TbfX5TXpCOeSkpuv+eujl7Tn6+uLbnsj67+RBXV4DGxnTVJGU9ttPK1cHl/Vt83T2rn+OdSW70N+uzIeH8cUiJNUCZfBc0n1+XHyj/jvbHlx3h0s3fxZm/q508cvuKqPyyhhiF0vrvqWOfgudFw21hU7yTFjDMzxAlol54WAuO7xmJ6e9Rg90dIsgV6v6njnTCXP2mgvPLaq7ffc4dSo3rxlRe9AT9dj9+u6K3QxibLsmm2pBnP+LYrdY/1ITW/99Bvv3Lfqa88aPjGfX1f0hq+0DKwW9W7lTHe+TtUlb7/aFutdmhlS7S6wffNn4WMAAfPRq/VnruHUPx7h3Trmf5yxl/XHKtstNc0mbe3DGxhuu/rRcb//SPd69j+SjZQp4jsbOzff8zSC/AvL8Zvu7fPDfBKe2hjQ9s1Csc1qsB61vq3+8+YAH4xArubTt/xtKUPUHV7NwjvcPDbMJzm0CxvAmh8bfRzzKmnhnGGccu+jmqt9ZqW6MoWJPe8GB8vVyd3KE0BAODw184n0fth6j+RLManAMCRwuuDdefmw3iMdpnA+JDsUzM+mhP/A8ALL7xA9fgnn3zS5XKlBMFL8tXPLwfOBD2eJkAs0wTWq0Zvqn/3TAqOhuAzjcf2vWF3kUL1Z2K4av4qB8cSuIjTA/CdA513Pd1vBGg4BhhYr/WUqv1ljLtaG6jR+DYojIpfewcAbj/KbVMPXNNorzgQq2q2/u1Tvn6Ap056b77nlfcBXvXCHsXZNSprNRusU/qub9Ib/NAbht0K46e1/U6S8+PdILwegV9H4M0ofrQZgD0Lu5RnD7yNh/ruk7FNTY60Bq8Kl6tyxJROz/gt98G2eqMPf7BiElIpEEUBHV/m+kd9JhKJxOHDhxmGUalUzz77rNPhxmxF/pTREusc45YL47st0bYht9ER+B9WW3L1VVd9+AMlJSWrVn9yy+5tJX/wwas+seqFE106K1rpKePTj3Z0sRrnqzOrAF2R8XMdUeP7kxw4qMdnGD8rW/1SXXG5NiP5jmbK/ZJQui5H/OV3uv7o49dcevnVl2WK05Rc/oH/qN/X5UgafdDnQ3/OSSULJ67NL9U3kr5FuiOtx+ud4oAPy0fqbb4FMl7ysfrloSef+9XzQ5ZhAEC/egAv4HJm9b5cNuoZ9PjQBsaHPncm9Gj7nOrEbq2puqF/vcqys8W1UTG4oaF3M2P+yTEUo9//hWmdxrLmgFijCH92n80AcLDNfb3mTMP7KGe//4RuHdu3SuOtaMaQts2t3k3Kwe0Kw4MGfPU7D+tq2dFSdaxKldje1H/v74YHAf79hfhtPx10APyqjd+0t2dVo2uVEhn/jf0dRkCHqesaT/3kGZuRrHYf7ObvN8LPRqBZBw8NwIO98K3H7buYtids6AO4a++ZOrWd+HWHVzWjjj4xpH5mPT7NeI8IkBL5OMJ7qjlYShBSYioFcR4SSVHwAegE+MLth3Ovx48rIvKRj4kjiR6fg/Gz8asHgCeffPLw4cNutzslCDyI1OeO1qSZR567qRi/STl49zMjJoCHTLBn76mfHnXbALpD8IwB7h+A5mFo6YcHBqClE76637j3yJgB4O5jsEmFVpnVjLNCZV/VYF3ZaF+nMDUe9ZoAfnwUNqqd17CRT2mi6+/z/uNLYRPA46e9n77nzVMAL3lhZ5OhRmWvZoPrFL5PN+hNPugLY7KEG5v73YTxB01woB/uM8MDZnjMCgdM8K8vw7V72+477ugD+Mr97nVMqJQNr1CTRD2qHHkUpmd8bXNqt7LPlfFvnQz3iROuKZ5TiZxMJh9//PHDhw+bzehDQ4tMO7wx3WiocyzRhXndoceW0tvOc62NLGk5SY/HlLS2kNEVfr+3/4o/+khJelEey4Zc8qEP7Tt0pN0a6bFjPZEsL6uCZTz63GX0eHKjl52tXhi31dtis1yPz7rH44JpIsAWvJsk6SYcmWDeGdM5Y+/oLVd8rLTk0g9Wr9u6t0F5+ZUYQVdy5QeuWbOjbdBvsHNDQXT4nIT5QmS8zpoY9AlGqy+eERnSXGwKyZB7cywWi8fjgiBEExiEkxCTdFCKAmYp367oLdfkkGUz6fGhdUrXDqXpYROcEuGrB/TbmOHKeksd696o9ezYH6jea16rNP3od2jD/94v+tezY5segFpVfA87PAzwRLd/h/LUj48hxfcdc+9uNtY12+ua3XWqkS897LntIdsWhY45jV5Re4+MbFL1VbEYuHxdY/frZn4E4OuP2K5TGoYAzrjhWkVPndJax7qvbR7ae2TECPBwL1zPnv27n/d3A5wJw9+oX7yR/d1OzbvblMduecCwrbFtJ2NYc/upR8bgfYDt9e11rLNcE17VElzVEiyfnPt21oyPAAgxUllauk9TdlIAfJRLuAX0TviG8vUcjM/6HUkjn3YmMB4kW31ANr3gU3zORud88lMLxWPzqS2bmQVuUWLs3BjAjS29a1s8lRpHlcaynum/run9t8bQ4/LuE7BLabznedsowCtGuKXhzS0NJzdr2jYqjl3b+t4Opuu6prP/9FCXDuCXRrhBdW5tvWGjenS7euC6/ZYvPwtr9nb95zNDnQD3tcMOxUBdc2hl49hWje7O45FugKajw7safv8ah776t+03bmWG1yms25qG/+5ekx/AHIYtDZ3b1AZTCp34blIe28527GA6djFtm/cev6G5e0ND346Gjvve8Zzl4EsPOmtUgRXq+KfUqdWqZKUyTgrqZHnXT8/4Kja+5Z6eIEAsGRuPnZNf6/n2BUHgOD4lgMufNDuTJg8Cflkw3uwRLDHosvh67e5b/uYbJAdpyWWXopW15WcPdlp955YL4zHQOuNXbw8HkjQuftnGxwe4rBw4WaG6dF0nhwyagN5FeyotLKWLEfF6V6LXm9DZQp+q2lFS8qGPXrP+tN7a3me79EN/UnIVxmWWlFz93Etvm0aiJkuyD/MRpqsmZGxB4154aS+PrG+3aF9k0qcQRwFSyhDz53MDLs4Z5Ke3/M5eaJBCoqKApkOiYBC/+h1K01xt9eVsZOO9UKewX6vSPTuC1u8vqd7bfPu59Xcb19frNzEDdYxlndZZq+j/0W/x1b9/0LBOOVjJhtaxqes1Dj3A/e+51t9z8huPu/sAznrgb+7t+rRav/Wus995bKQX4HUXrFN1feelOPrceeCv93fsaeq+Wan78SGLBaA7DjvVpg2NhpMRdAVo+k1iT1Pnhr2dn1G9d8YKYzw82Q872c7t2q43OfSU3vvIsZv2/nbHXcdvUR97tBtej8I3f27b0dBxyA5vA2xrbKtlvWXaOK7HN/vnzvh4hZrq8WbfbO9E2lbPA/gBGY+2enmeu6xRMYHuEuNBZ6d6PAw4M4zf+6tZ6vHSmZK0SOiCQxlPE85PdiafZsJXzkY2qfpf6IOuFNzYcmYN07V5n2lj08nPq95404Zu6qcjsIcd3nPA+4UDZ08DdAJ8e99LXzlwds/eY9+47/hzNnhDwDiIm5XvvheF3iSonuu6mTm3u77t6+p3OgBOANywX/+5Flyt7wX41wd0Oxs7dzFtf7P/jR5ytL/5Rc9a1anmPrQYHTHCLey57be/9wXVqcM6TMit88E25emNWsMRK0431cd9X9Ccup5t+7Ti5COn40ed8E+/hjqFTvOu+3/Xcb75nLtUMbhCHV3BpsqVUzF+Qk2arBw45aroLqXRDZDkEyngeKTAfGz10g2a0BEAvGHO7Ix3WeNYtsAuUA04S306T/I5vb5JRCs63GV87nRj0UF/yugI9Tn9B595tuTSkisux2S1JZeVtPWazg67z1qi1E2KVqChx6GSmQbgZfrUiQ8fs75v1u8l/7I6wwiaTAVMdpHGx4dJFXkBlhnjx+vHkzx34zVpsq7peRpD6XOQAJ/27EMlvmss1GXx7b7lmyUlH/nQn1S+ckLfNRYzufnb/vHfSz7whzQJ8i1f/HuXB7p7vWicwIGIIjJz/wqI8WnMO0WjjRt0JtwBssY74bc+r6eTGe8CtGTOg/HXNLrXqV276jue7EPn9iN98GA7PGaGR/rg58Og7oc9D0bWsyN3vAtdAN98eKRagYxfq4Y9Wt8ZgId7YJvGtKFR92Q3KuuneXjMAE8PodtUH8APnxmpUvVt3j92xIye/2dS8FAb/LIHzsRwfb3p1cAm1djmFvu/PjvWRazxT40A247rrMMiWiYe0MEmtX59y8A/vhAeBTBE4QkdPNQJb/oREo+PwLVs3/VM38OD8C7ANqWuWu0v0yTLmoPlWn+OGjYz6PHxCjZZrk7tUJrHa7fP4IIzifET6sdnyaypGY8DGLWKhTCeJ64eHOB13q7UYTUXEkcwPdQnvLpRNfxYN05WHh2Enw7Ag6PwahTndoMApwLwDw8O7FQ61zU5tzcb9vci408L8GAb/EIPpziS9vgobFX37WB1P345aAMYEOC5EXhiEN4NYN6C24/B7mb9DqZDfQrXNc5F4f5uuL8HXSv6AB42Q239e3WtA9c90NdBBsNrVrjvfXhhFOd/DhKFsVl1bv2+wb97evQkidJ81gyak/BGgPjhe2HXfa4azaDy/RQuOR20VGutq1jK+HilMjqLPHdZNWnKVeEM42MpTEJNMqBNNtnP6/dLU1zkYjytz5bB23mSz1Mxvq3fN+Dluke9vXbvs68eldzu/rfToG4xumLdbn45Md7B9zkSA/ZgbHnWpBlnfDKdrz5htPEGW3aSuynHkFweZQZclsBa0Ea5H9x435Hotoa7R73f/s+f4Oi5/GPPvPjOsB+6xmKDAXj57XMI+EsuITXjP6Q3Oq1uIZOgF1V5mu3u/MZmyOdP1OmPBM4VMOPVoVWMt7Jp7Fpm8OlBjFDvIxqVgXjXGwHeAfjxSdjUbPn+W2hBvfWxUIXKXqaO1Wpga3P4JICmA7Y/4Frb4tmhGlSehGMciv73AZ4Ygr1vwXX7HGUqf7k2eN0Bp/psOgFON8AJHv7zBdjeOLpJHalV+aru7vz+Uf7NJDrznwD4VQz+7Ymh9wEODMDWn9pLmyzrNLbvv8i9GUHfvW6A30RB3Q5bm60V9UOblIOPu+EtgI1Mb7XaX66Jl2uD5Vp0m5/jevw44yNUYyMzqWll+FSMl/98pu/zmOAsT4zniAcgZTwF/OyTulPYr1PZHjbhFT4N6JyhB/hdDH7tBu078Fl2dP3tg2v+Z3SjKlDb5F6vGr3nFO7WS/Z82QM/eRM2sI5qTaiixVOrHvzJUfFdDueF7wG85oN9bbBFM7SWtW9odF/P2JUn4ISAM7N3AU6LiOrt+2wr9o6ubnJvZr3ffjjyTgwnDd0Ab3KgfDvxmA6O87BRPVzLere3Or72uP9oGF/tIo5+jxjh6wd9NVpXJWv9yXF0/r/p0XCVxr+Kja9iUuXK+Oxy2U5mvJ7o8ZTxyfSK7bQDYk4vesMJsxPLsGK6Q3uqxy7VYM1I1/Mrn6kejzlwaOON9kT3qL9nzPf6qY6rPvqJksuuuuLqq6644rJLLrv0E6vK+z3J9rGwJIHTDkkZD7vC0+MxxXi/PTZg9yeXL+MFTMGIbndmW8hkQ8brrVl53dPJOrLgPVkkZQZc1m7z3zgOdTtvtNHGGe0Joz3WPez+j7uUJVd+sOQDf9z64FPDDp4WjDc6OYM9WL5+A/reXXZ1ScnVSua+QUuEfCmOHrCAGQ8mGzfsTHgLTY8nel6ZxlehsG1TWXbc3ftFpv/m+o7Pqzuv3fv2TfVvo6GVNW1rweKelaqxbftcm1o8q1XucjZWpRE2NEe2a/Tb1N1VGstf7LXWacLrFPadTO9tDwzfpNHtUBq3aj1r2Eilmi9Xp6qY0Ea1ewfTd3Nr32f3m7YrDJW3j2xkhTUMX8XGyxnvWu3oZlX7bvWZndqOXS36LSpDXaOxWtFf14q1ZWtbQjWNA9sUfbc2D3zt3tGtTR3ld3au0QZrNKGqvUM7WqxbNAMbNMPVaj9WqVkw41GP52cj0i80xtex3m3M4PWs4QZl9+c0hs9rjZ9mdNcpddsa+9fW+yvuCm5o8G/TYK3hGnWkuqH/pnstX9xv+PJPjbsU7Xta7Ws08VUa4VOt0bJm72Z2dGt99037dTvV5zYrOnDdh3VXMaG6psRmVXSbanSbUreT7dzDdu1p1G1vGqxlg2XKRKUiuaYxvl0R3qMcu+Ve82f3da6769RmRceGhtMbVbo61lujjZc2uddr3NeqR25mjF/f33/93Wc+rRndpLKWKzy1rH9DQ9+6vYa1as9qZaiUSZYyyXJVtJAZ32mJFD7jabV1k4Mz2MKnTWN/Wbup5LIPfvgTK2jtb0xA+sE/fum373Vbw3oXRzFf4IynGSn67bEhu5+7ABhvDQqG0ahuLKmz8Lm4zsuKAi0u4ymPM2jnTVYedXFLbMQPxjG/8qc/v/QjHyu59IqfNDDDzpjJEu8cCmPOO2usc8TddOAA6veXXVlSctnKstreIVfPiN9gi/d7YTQMuRMluuY/F5Er5bPsp6vRkMlQJngPbbAmKz9gS+RrMZ4a+gTIWo+fs60eAR/AOiKMt5Jxr2W86xWe9QpPncKJBWPUllp2tEZtqdK4yzS+VWp/qdpbxXpqGE8l461iQjXqWJ0muI4drFP3V2ocZZpAJROpUYXWqWwbVcObmJH1jL2O8dcy0TUMt45N1qnCdQyWhK9iSdEapWudIlSrSJSzsFLNY4R6c7CsxVmltWPVGcZdrXFWadwVGn+Fxl/e7K5odlaxWHJmS5NtU5OjnPGWssFyVbhaGaxTueoYW416tFpjx+OrwxUa1OPLSfh7lio/a1s9xs7NgfFcCkQfoMX4Kw0vkfX4yT8idKHP0bD0HPTgejyOE7MLMAeOB26pn896vEAyJTsAdqj05DpgxfcJ1vhpnlayWEimRuVco7TXMq5alQcb41rLOutYbxWbrGKTa1XBOpWnXO0j48FXy7jWMaPrmNE6tR1rFKm4coZb1Rwu03rqGNt6lWUta6/V2Mu1NqwigzWNItVsmLY6JrhB6d/c5N/cGN7UFK1TxWtV8TplCjusv1btrmNsWPBG5atRBcoZ72rWW8mGKtTRUm2gTBOoVUbWN0Y2NQa2NPh2NLi3NnnXK6JrldH1Cs86pauKCZSzsTI2QQrD40L75JWL6erOMVh3Z1Ft9QAQF2DIm6CM73HwtHIHDhKqvkuPWSNn8tDKNa6y3jLnHdJqGNHjTXZo74/2jCQGPGAYC5/rc9Tt+WzJ1R/98DU1vz7ZcevX//YSdLorKbniys9+6Zu6MR8Ne6a+UNm6uzgpBgqNr1jrPNNy/EAW9kUmHJCeVfrRltJbEr2WkCOQzDB+Ga7HS3q8Ow4DTl43luweS+ViPB03dCgs7hiSlHiKeZONM4xGh1ypAUf83keevvRDHy254uot113bb3GMeZNmEmppdIhdY7GRIH+mt5d6cuKQuvSqxw69YLKHDLYwRnRYEz32pGQmyurkdZRMGDQTnk7F+H6baPcjNfL1l5/1eIp5xlup8mPlN6zxGitloqWayEptZAVpK1uiK7SRldrQKnWwXB2oYn3VKm8N46tmgzWaQJXagYDXelDsqmOVTAwL06l8dYwfic5Gq5l4nSq+no2vY0K1TLicSZSxiXKW7KmMVTKJlWruU1puZXNyZXP8U/vC17SGK9TxaiaOcEJOR9HkrnVXaN346apIrTJSo0x8Sp38lBr1s2plsIbxVbGeMq2rTOupZoPVLOa3WSDj/UvOeB1xa6KMf8M7H8bTmV8K0I9hl3KejEcWYunYcKk6hpXaNYlSdaxCE65io+XqVAWL1f+wxJwGo96xiAsTo859ZdpomTpSpUpUK6J07ljDeGpUATTSaOIrtaFSDVayx0VxTRjLFGlSFaxQqxTqFLC2CdYqBEQ7E61VxfGziCUG8cxwZSxXquY+qYl/Sk1r1eNoXKmNlDNclVKsUoq1Cm5TU3hzY3i9Ir5WGa9V4kyFQh0LHlKnBOkxE0FQzkamY7wqksvnjji55us3TCys1rDYbYtRuWFwJIz2BNZ3keheALb69v5ox0DMYE2NBJDxn/3aP2MV+T/6xOG3u/T28Etv/h6XVa+6/JLLLr3iDz/SbbYZHDHMUUYykBYy43VWTm+JDbnj/jhmfCdT+mWWrx6nJJTxHEBIBEsA0ozPwbylY7wERQJ7zHQ47BbbjY7v/NsdJZf8YQlJZve1v//WoN3RO+IzO1L9buh1gsHO9bmi7+p6Lv+jDyDmL73kkiv/4K/Kql/+/fsdQ56hIHRbMCVOFtqlAkc5vu+cJ7bSaU/fmcx4dN20waBDDCUKj/FE3mG1Lgb5TWqD+lazfiIZI5T0q5rDRG3yES3KV0Wqx9Ywnmq1t0rjL9UGVjSHVjQHVmoDVIjXqCJ1ishaZbROFa1i0VO9io2uYSPr2MBaVZASmmh7fKmaW6mJrWjxrWjxEM0vvLLVu7LVW6bFuPZqNljL+klOunCVmjCGSZQzXKVSLFeJK9jUKjZeroxXK6JVDMrxFc2hldoQeVea8QtZj784GU813dVMsJQNlmpwANBWrsFbUKtKVrPR8mZvGS57hyqV0SoVztIqVTzq7tp4qSaE07smb42KIBZHV4zMDFJVqliVKlamxrnjNS3Ra1qiq5qjZZpkuVqoYIVqJlnLRKtZNMAg/rVofsA1FzIjLFUnVmgjf9kc/KQ2SFM1l2pCZZpAuRonDWS+iLaBWgbNA1XqcLnaV6b10FauQZNDmSaQ0y/hvDNeAPBwYHQnsdon0eONNlx5LBzG6yx8z0jCYE2Z7GLncPBffqwqueL/lFzxkcde/G27JdZtiw26Q+Vr1qDSVVLyv3b7BvU+oz0mqcuFzHg96vExe0CICsuY8UkBME0XBxDlwR1D0ujGkrlKqp8HxhNYYv4jzYPPXvqhT5aUfLjkso+UXPWRksuvKrns8jVbd9+tftDsEAY8yPgfsz+v2nnzFR/7s5Krryau9VeUXP6Bkss+UHLJBz9Wuu67/6PqshYa4zmjE/PsEsaLox70ipghZ9pc9IP86PFsrJyNrWaiq5kwykGNr1zjWc16UdantRyidaE8pYzH+t8E875qtbdCEyTqfozylYrRGmWsVpGoUyZrVSQUTROvUEer1OE16hCaeRWhGmWsUsWVMfxKNYemghbPyhYXVbvLmr1lzV6avqaWDdYx/mo2SAFP1uwTZQxfxkAZI67CdVZkPPWXLlNHVmhjK7QRRBHV4yc73KmJSQBxNVUu2/HYOWQ8dbibwY+arsfP31aPQVMOUlfUjgG7C9fjMXtaRo+n5vppjPMTXyLKLgKeDVINOK0Hpxkfr2Zxob1U66lkItWKeJUqQRlfxuBqS6k2UKvyrFF4a1ShSobYydkEZXyNMlGjRMavIIwniQjDJItwChV6MkKo9WVVC2Iet6CXBlp9StU4wD7Z7P+U1k8ZT1TzAJmVIunL1CGcE+DSDNp+SrW+Um0a83Nk/JLGztGfezAFwwFipbcTn6TCYLzelpIMrgMeGPGD3pLQPPx8yR/8eUnJHyrvPzgUEtvGsGjIoCfa8sDDVJW/+sMfqFy/0eiIFD7jjQ7eYIsPuZO+OCaxojEp5Bc/QyDNXIT0lPvmK5etQJZ7onyGLIkUDI+Gh22YRpgGL876cbG0Xp0Dk9Eefce4/5Ff7W0++NODv2LuPyS1p1892UfS2Bld8Mtfv9d68MX6/Qcb9x3c2/Jo476DTff+suHAL+5qffSu1oO/ePntLmtWzEkmjo442y+CHk/19fSjk8NpeHbTO/leV8rgSOjG4obRqCcOcRGEGYAx5ZiY/AIJhhZ4DOjEYvKigFHR88iBMy7lJWPmpPJc6YXMzA7UNpuxhUYyiUTS2UWIPRZN8RNClarURM3C5QCi3rHpot1IEaKTkVkFymsqx8c/Zdy4ijOSctTm6SIrPpU+hZ4GLQFO5H5WtpP01yRfoZLFmQohBH4Wmis0Maxzr8YTK2MT2xW9GB+fEqn9bvLFp1uoRBAgPZNOx8enY+ekBa8pfjsZYyxlfBemv8XVSpML2txAbPVHpoqPl2dHkp8bnZNI8fE0yR3epvELmOuazPpVamlPU59a6RlyR8hMkVz/EFnRp+p1+i7jLSNLM/RO0QsujRmqScvvjjQAyEZ8L90ZdXf5yMyMxonfjiCfTAIyC/BT7YmzWNpy149HW73CJIuPJ9I/fz9heu9SIngjMOJMYdkwdIs+73o8Dl2DnWsfCmjSw5oAACAASURBVLQPBXpdKSwOa+Pu/eWvSy77WEnJh777g4bhADcUEjusyaEQDPpTuhHrh//kT4h5FbX5F4+d1tuSvS5Bb0tmfJJoTRopvDmrM71ldL6vSj9AWqk8/Sidj8mRMFv9fUO2CIcJRpYp41OkHmNYQMcOHJ1CCnxuzmpL9KZxOH4VZoL9FHIqH+zsdUKfU8Bpx1icFDPgdGNJvYXTW7h0SQMH5TTXPhptH4p0D8f1thRKQw8YXWjD77bEe+xJo0tAv/rMKRUO4/XWiNkZD3Kox+fxL/+Mn7WsnyhVZ/dGNL3Obs+F70Zld47jFDDje8g4N7nFNjcc9cEt9fNnPOrxTbq8Mz7H9VyqG7rQj6aYn3S2s2V8iksBzxMpOo989TP+6qNxcHj4IXvSbIsVAuONLsHk5o1OTm+PdlvDBlv84AsnSq78s5LLP7rni3876E4O+BJdlkCvm0hgR6J7xHnLN79VctUVmNr2yktv/tp3+r0g0VTqyGWyvC8J7bx2xukmz6ornUyfIzFocTtcvgS5r8uU8ajHA0SJnpGegXIJsNpjvdaozpHA1WvH+IWYtr+IjO+2cjorZ3SIZjcmpsU1koyZKFOXUOyxpbpteMJmNyao7x5LorsEITp9Y68bkyX1yEo2LfYYmlGP1zk4k5s3OGJGR8QeEWKTUtjO+Muffodlx/iFiulJAno+BywyPi+X8UI5SIEwPiWCPwwjrjgynvrcTXCtz6guhIKThXZ+5TMe3+BIdI6GjU7MSHbfE68h4Ev+oOTKPz3R3m+0hNqHnF2WgM7B6zFunu9zxRUHHrr8Q3+MWvwll176kb968Xi3RFYJq3KZLO/nFe3SpRi/StKZGOy4eEpbnyMxZPUkkgJNBi5j/PRyNz+v5tFWj0vAxPNu3Mpkc0R7bWFkvGv8KkwL+ClifrKGnXRl59Pp80KXJdk+Gu+2ckYXzg3TjdwPOhp0Dm4wCP1eaB+KdAxHu0YTPbZUlyXZ64Su0UTbSBTnCrJTWuwxNAvGJ0xuzuSMDXljXqLE59fIJ2c85msRwL1AW/2FIrinY/9SM36Kn0PGUK/DwDlcj+9yij0kl/PC9fj0ejzR4+dRk2a6q3fBjZACYbwAEE6AxZcYcEaN9hiGCp9vxps9qMo//sqJz33r+2iiv/xPSq7805KrP/6P/7331+90do64DY6IyYMLTG+83//QM0dXr99dcvX/IZlLLi8pueqqj1X+v4b7Hz58XI5VuUyW9+VyO3/9cbpNw3gs+ZG1GE9tNfkB+TRHyRfj06E0ZL12nPEJHoa8XK+HN7pTRneKkD6BEY3Yxq9Ldn8KUSVj6kLuTY8tJVfBcXpIUiPRCZd8NFA3kMmfJd9ncn/y/gvfMhXju1xclwvX5jEpryXQ5w47E5AgUcuE8Zn08tPc/9m9NIHxwCPjdzb1LqVJfPnxYOkYn/nJyGOfZGjX2TFHvc6O3nZdWDOeMp4fZ3zD83Ndj6cDR2L8/GrLLr97uoCZxwyMV8Zp/fhk2lZPLnB+puqSPycejkhn8MWEQXeoexSrbWE2UvloyZK0k6V0ZrBl7TbvjXj8rrGIyc2v3vqZD36q9oN/QVv1B/+i+s/KNnx0xZojx94zumKdY1gV9yPXbLr649Uf+Hj5hz5e8eGPr/7In5V/5M9rP/wXaz70l2s//FfrDr36Hi7FEgWaOuLlCH3Kz2lP+L7jVymL8U7iCu3k+hyxWBJ4EZVgmghjMVZhppLleWQ8jh/qkyV9mABgDYHJKxjdqV4Pn6F7kfEThsgMT2fDeIMzNBbhwuPJVCTfjnzJCRrNSUREkfGzkfVLwPgJNWnmzHg+vR5fZPxsbujC9jnfjKcW4jTmQ5w4Foj0OYO4JH++Gd85iklHzN6U3h7VjUX1lpjRjq3PEetzxbut/s4xP3Fz5rHsp403jiV6RxPmsaTZyplsiT471+cUzC5RNxYf9kPnSLTbEi8oxo/4+ZSI5k8620LA50cqS6SdrpNfxk/8JAEgIEKfT+z18AXO+Nlr5JP3lG9ZuNY++QgzM94ZGwpzbkGkxWRJOQsaxpjM12jKWGiKjJ+1u3ghMD7bDIu2+iw9fv6Mp9JK0uMxqRGDju4XlWo+py87A+Mlv/r8+9xJMRBpzKdAjAG44vGRAFmSz2Y8lTbZttVxPXWydFrYFjyywZHQ2+K9ruSAX+i2RHXWmMERMzkSI0EwOWM6W6hzNNhjT/bYUug07cBaSoMOGLbDAKnITl2p9DYsJK+3JU1ucTiCeUhzpzA5H3q8j8e4mTTalxbwALCojMc4qxSANSz2e5JmN95LnSNB476WagxNVJGnstXLOU37U43dyXvKt0z1roVsz8l4+QU0OGJODkIkOYGYNseJAgmSzz/jiYHAU7TVz6jVFQjjZZiXGK8j3icmNzL+DR/cMnc9XuLGQurHz4mRy33n2TI+XVt2fMVzouY05+fSvUozPpZKJkAICil3QjChdz3qx5KAQmmDy39TtfE9pbcsoEMYb+d6XamusYjOGusai2CGMVvc4Ij1e1IdQz6Tm+v38T12rIpLstzQdN2i2SKarKLBmjJY03TvGot1W+J9PuiyLoEeT69P9tUgLi89ZBphsHMmR6LPERvx83l3gp7TEFhUxqfPhBfBH0mNemJmN9YP6HCJHU7QuUQpd4G8s4Dhkn25ZzFfk7N5qr78fKbaR75dvn/++jie5DHxNKjUaMcg1yGX4I5gSANR33GySJfc5jQOZtx5XI8XceLmAdjV2It5QGdE3UW7wwyMJ9HYbGJ7U9/84+OprV6+mCr1c41/LEaCi/EY9ml08Gb8Mc6f8ZQYC6kff1ENnkl57pYsBw5l/LgiSVQvMV1uIAj9Nk43FqW5OyfovnoXh43oxGnNONe4WrigkwKvJHWcYD6RSaqP/luYPhxznGCBb9po9lK6BE53QHWfNlkGkaxV+fycP7pAZbzKaKJALOfYY4d2J7S70OtF7+KGfSlPGK306b/xOyDT6TMvLt7/xWa8AGIKQORF8EZTI36+1yN2uaHI+Dn+KmSMJ2MU/UrsCbMtNuJKesOYOwlT05C2GIAnrjpUUpAc2kXGz2biMiPjMbEal2E8MXlNXWOAXH1hYg6cOTIeYz4deWA88cFE76EF1o+/uBk/ubasUVZbNo/14ycyXvK8A4BYCpwBsd8R1lmCRicGQMkxv2SMl+ShjPFJCd4yowIqcrSoDH2LfJ9xwNtJvt4M5heL8c4YwTxhvC2L8d0uMLl5Z1ScAfAS/heP8ItsqydjCRmP3EkCuGIw7IdejyhVEZDPEBd1niiNIXlHrn9P1V/I/vL3zq+fw7ffjnWTjDbOhICPe6MCzasgDZIi4wuFHAXBeGpRlB7zyfiF148vlDs1mxnbgveZpMdPZvzi1o+XRIS8kxQhxouOUKLfETQ5EkYShq53AJGH6Vovcik9Pzk2+3fRtdTMiiodtxMNtNlSMT22e5xclyMptSyrp1RMJG91QYken2a8FHxI4lYc0O1Cxo2GICa/0BhzTEgoaWNLtTC/2Ho8nTIidwSSIscVgxE/b3ZjUIE0dHQOeX/iHZ39+JjrnlNxXb5dfkz59qn68v0X3s8ezXQCC0abaLJx/dYIBbx8INEZu3xLvvoZn9CiHp8vnztMlLv4erxE97S4pHo8rWZtdolYW9Y75/V4qscXGT+nOUphMj4lppKQigg8Yt4ew1SyDlh2jKdElwDf5VhKPT4rDlzv5E1u3hKEQAoNXVl/FwPjBWLci/DgjoLJkei2Jbqs8W4bXiMZ7wuL8VOxfKrtC+e6/AgGO68nAf16J2YXN7uh34VupcMOzhFIpUMtcfqU1t7He1mDKw9Pioyfk0DHnc+XHp+14piD8Tq7iIy3iwPoY4/142+dYy7boq1+zoNh+tqyS1I/PpcUQAdaAVIpEBMihHiw+NFxXYc5vrBJYlnqyKVTIfTl+vpU/cWy1TsSOmdM70roXdjR2SLd1qAjBt4kREVcxpqVSVW+SJ/rDi1829Lp8fJz5QAsEWK0J54UxJkiPZ6WctxMxemFbM/j+aeDQYnXq96Wwh/eWHzAyVsD4I9BAv0cSCsyfsF21HmI7JnfUriMB4NNXAjjqVmOrsdLPnfpYkKFeS8K4Kym0+OXpH68XAJn+lIWjbR3hS8Owx6uz5ki+e9ykD6P8i0vh5qK6/Lti8B4mpqdoN0Z0TkjOlfI6AqaXH5/Elel6SQ4c5Gn/X8hMD6LQ0TPFDGmLgJgS0J/AExeyPhMIubzcuNneZCFsHyq987yo2fcbRzwVkyqb3SIfVgMlPckICKiCz3+UbWdLvBMO5AW/mJRj58Z6hNAUmT8hAtycT8tSMZnCQYeICGCP8FbAhiuho5Tk7T5GQXXEu+QxfIp4v0kI0Re+UKX5JHunVaPyR+28WIEIJlxo8MynVlXd4onFyDjxRTxtMfvHwfw8ZgIb9CdNNkjvbYwzZ9MF6Hlj4s0bqbi9EK25+tUiVcdhsaZbAnDaHTQLThjEBYxVe24FWjCAs8Uoygvm4uxc/lnPK0tm/fYuZlt9ZIeD/Oz1Ut6vFRblhbnRVX+4gb5NF9/EuOXLHZutgKAJ/WNsYSoCO44SuYhDz/g4vowzhubidSBlYs4uZRO923oFJx2fZciOXN1pN1m7GSl2p1wqKzRjpF1kxuJqsdiykbH+LnJPzTH8WWHnXxAGtZkdESMjpDREfAB+AGCgMIZ/0QQUnwikX42w9W/EBg/8Suml4xTpGR2SsQEQPEUhGK8yxcZdYXNjpTJjm5lRptodgJtJhcWJKDuQgt81DnBHID2Mc7gAZ2zgBrmJ7ELnTa+08Z32xJGR2TQFRlyRy0BLsDhUlkcICaiIYjLqkCcub5pe0nmab7/ZzGex/j4Yr76aQQ6vjSDHp+P+vETctnKBJMs3Ei+JM/3YPF4ynh07Egzfu+v5pqvnv6MJcYXa8vOMBgKo378jFJBuq0oljkIRcEb4IZH/UMjvuFR/4AlSErVpSuqSbZGzC+biVk3WkFqBhvorVM2gwVm2aSD9NigZ3bH1I+J3UOpNnNs0IMeBtO3XgfQZnSC0Yl9I2kGm6i3CvoxntYfJ18Ty9v3WuOD1oDDGwlEhVgKjR9ULKdDyMhVlmysUmfGi79IOyzBenzuMxczf/RlURQ5jgvFeJtPHHICJiK2YDpi2kw2Tr4+NIX8ksuyKft6J98fQFeAkyZ3VjyllDzh/HWk72VwxHrtXkswEiCZbZDuxIxGPZlp7hH6SAdQ+hJnzES5r/jCto4zHnCKUaxJM6NML1zG28Bgw2RheWF8sX78zCOB2DZmm+cu/7ls5/bLT4sUkl9dFIBL4tuTCfB742O2IPG9T5hQp0/0OVNmh9QEs4M2MDvGm8mOnh+TW59NlFq/TZym0d3oEaguLj+adJAJna6BiG4kMegCw2jSZOWlZrbwExp9ifKbqOwcTY5rsCYN1mSvJdlrjRstsV5rvN/GDTq5Ua9g8XHBqJDkMI8QbWgCIU3akrMztzuRp73PM+MnfAueUCopQiQJgQi4fAJtDr9gdkb7XHloZnesfcj5fp/F6AjpLP6CapaQkGnJCHJdDGPKyWQUeGqfp64c8tEz4QIu3tMi42cpysd3K1g9vsj487GgsFwYP0GGIMcyyoMI4Ixx9hhPW5/T3++gLdjvkFq43zHezLaQyT6xmW0hqfXbQjM2uvP0xzFnH+ecfnTIER1yRPttob6xwPSt1xLotQSMVtp8Rmu69Vp8Y/7EmD825o9ZfLEIj+lEqUtdOrSEcF0UIKOxZq7U+EWUS+uc/fFdF6lXWIyXf0kuCUIq3ZICGqjj+WhBEe7/5VPdQ5Yw8fuLFNKj9AVj+E35OHAJ4FOkmp+IjzwJTseLRAeL/HItap8MaHQiIZ53RT1+diHyS8D4xlfanSBfH5X1c5qyiK1eYjyWmiWxc/O11Rdr0oxP6WaaNyxTxssFCybMkQlMSV7FSYqzZK7HGLFBTn6czXvpAeme9AhUXMuPNtVx1PvuixNpFSfsoBbQnI/yT4kCRKegDLWkJvh0ynA0o2Z0dwnwolhkvHy8zKYv+SMQquES/oJbMJFgWls5gBjPy4+W8/afv40CDykekhxpslHKz+SrSegvXbfJQ242l33SPhMYLwpoq9+u6C3XFPPVT837pWN8bpzLeJ8JV7GLPXZMuom2ehsMLIDxdIxIjC/Wj58R9jMwfhHrx0/6Pc9lA1UneBB5dJYW5USUoC7JSbqAKD2lHWk3qSPfQb7yOFV/Hsd5+vnnznS00QMSN2/q7C3m/IjZH1+uic/lKp7Pfc+bHj+rL51vVgGAodf47OHneRA5PisNkfzmne8+qssCpEhL0hTlmcd00NzUV4+ce76vm5zxaLoTwFlk/Ex621Ksx6f1+CLjp55pzXiblmqH5cb4tBChi3Q88DzaFPmpeUmlVlpwERUlNf1jRsRRQTfdIz0OBympyY+c8zhduo4nn34c0/uISR44qeXcOfv4AgdosyQN0wbkxMHUErjgXilsxi/C5Xrh+Rd69b0CJ2IeffmfnIuF0Mdzm8foom+Rf7E89IuMn1FLy7FDYerxDqyOhXq8HYNWOoit/pb6efrVS3p8sX58jgGQPXuYgfGLWD9+rhJAEn8ZNRgEUeRFEVX5dMvlX0Y+BuUPnRbM+DiFfMsh9DLzDAm9WR+R8ziCkGJZFZdKxGIRcvI8fcy9Mznnqbg+fvmkC5Oxj+Y414kfkHWqmWsyLtnHD75ovYJmvHQF019ffonn29+v3ZeMJPh4Cu3+8oNIH1YIncwYmvt9p2c/9/dN+44i42eU4Dl2KDzGY3ymAytn6OyiEVMqAdaW9cK8GV+Mnctx37PRLu0wW8bnv378tL/tHC9SsShZtVGkUMaPY54wflx+Zh9kNhI0+x3TPEsfLEPHiciciNTMkURRPHz4cFtbmyAI066Xp98w1Tlnjpf7/1TvymyfeLaZb1FkfO7rOf+tqQSJ/wAYGxm9/977QIRUIilSDzY55gunL31XekrS0wmdSa/SsTVhr4U/LTJektRz6MzA+HzUj59oq8+su2cFytP61iLNMNHlgK4047ECQpubMv7IPOLjKQSkXLaVbKiYA2ea4VH4OXAygmKyHMy8cj7/U9lGfagyDEVWTvlnMPQeOvQ0x2WtyU6594X7QkHr8fm67DxWb8G/06dP/+Y3vxFFkU7u8nX8RTzOJIpnfdakV4uMn0bILvVLMzJ+4XXn5sd4p9jj4LHKkVtsc8NRH3yh4Ugoa2CNP8mpA5E5X7F+/NycACYxfnJt2UWqHz9+N2fXuxAYz3F8PJZsad6XTE5YlJ3dNRjfSz6fkPfH9yjw3kXBeBrSIIrioUOHrFZrrgiHAr9N8tOTjbMpGC/bQ/7G+feLevx85gcFyfgOrCdLGY8Jyc95COMbn58H46k3sh1gu1JHHQzLirlspzDUl8+q7tx5qB8/f6Gw1O+kUm22erzAA8fxhw+/oNcbF3amcmkq7y/sqEv47ouC8fR6CoLQ3NwcDoeLjJ/rACsyvsh4+a+G6vFFxs9pVMxCjy8yfhrJNDfGx2O4Pnv2TNsrr7xGD4rJfEhMEKasmb7JjFeT1vslzE9zqoX10sXCeEEQRkZGfv7znwtY9G5Z/0mDjGTEyfbOk72WduvIy1ctMn5O0jy9c0Hq8bgeX7TVT61tz+dGz+5os2B8gdjq8yIz8n6QybKNbpnug0QBmpqU1Fwv8DOhXQJ/kfHTXdRCfU0QhNOnT7/2WnpOV6inOZvzko31oq1+duJ18QT3dEcuWMaja70oX4+/pX6ePnccYKaEnQpd2uGuaKufekBOx/jzVj9+NgKnQPaRyb1xt/QpFTZJa3/00YMjw2MYiEycsmbQ4Cnmi4wvkHs++9PgUxjc+dRTT5lMptm/q1D3lI31IuOnFqnT0Xdp3lVk/NJc52XyKUXGL0yiyuTeLBhPtXYA+P3v3z72u7eolX5eJzC3z53XRyzumy4KWz3HcaIotra2hsNThQgt7lXO69FlY67I+EKW7zMyfuH14+fnV1+MnTsfw2YS4wuufnxexVTeDyaTe7NjPFXc+0z9Tz751ALOhgrZyZ++gEMu7VsvFsa73e777rtvaa/thfNpxfX4+VgFZmB8PurHT2S8PKltjlj5Yg6c+dzHPE0Ilk8OnEIWXJS1M5+hFB0tiiJ1tZ75PRfoHhcF4/kUr9frn3/++Qv0Ji761yoyfj5sKDzGkzQ4mMtWZ4d85bkr1o+f5diYLePPd/34RZcmC/qA2TKeLqmjiZ6ETPf19S3oY5fzmy8KxguC8Nprr509e3Y536nzee5Fxs9SjmftVmR8njTgrKu6bI9ZZHw+RNjcGE9Jf/bs2TfeeCMfn74sj3GxMP6xxx4bGRlZlreoAE66yPj5YGZmxkfK1LHtil4fACnrJeI64xR/RLYJtPwgD+AHGAb46hxt9ZIeX6xJM58burDpRZHxUwztOW2eD+MtFsvBgwepTj+nD7swdr4oGM+neJVKJU/icWHcvCX7FkXGzwcJs2W8Qcb47HQHshs8LeNzLL3rHPK1eanPF+vHz+dWLozu9BNnYHyh1o+XjcFl3G1tbY1Go8v4Cyzg1C8Kxrtcroceemj5Z79ZwH1e2FuLjJ8PGJaA8Q2vtTtBN6ECTfqpxHV5J/+M9wDsadTVqELp8rLM3LK4z+fC5oO4S/+5RcYvTAjN/910SX5gYGD+h1jO77woGN/d3f3KK69IlWmW8/06P+deZPx8kDBnxpO8mVPc4dx6/DwY7wCdLV0/fgBz3sGbHrh17/zrxxcZP8uxMQPjC6h+/BRDcNluFkXx5MmTx44dW7bfYEEnflEw/q233jp58iTHcQu6VBfxm4uMl8lxrAmbabl0VoJ2WqOlkg1JjdZdJYI+RkKlI2XqUJk6sl1BbPUpEWi5jSms9flkvB0MNtFkhwFnHhg/wa+eft9yJliuClcykaxGrkamek2EXIoQlrHB60Ab3YiPsgt+gfRny/jzXz/+QpN0oiiazeannlpIlPwyviYXMuOl8IlDhw4NDAzwKb5orp/fUC0yfrxuGJsoI62cSZSz6fKg45lckViBSjbd0HytikitmolXM/EaNlGlTa5Shyv2xSqaIxvvbPMApAEvAMyD8XasDT/eskz3ckM9p3PwPQ5Rl2a8OM74+eay5Uku2w33tFW1Rmr2Jys04UqFt6rRU630VyuDlcpwpTJapYrUYAvVqAI1KrwyZZpAqSa0ojm0ojlQqvWVaXyl2sBKbGSjNrJSewFivpgDZ37CJy/vCofD+/btuzhNuRc44ynUm5ubo9Fo0edu3r+WIuOpWimJaarHo5LK4jo0UV4D5eoAVVLTSnxai41VMum28h7f6oZgpTJazYbX/zRaprKU1g/u2nt6yRkvGuy8yS4OOMW0rX6OjCfjAevH8wAugB2N769qHKpk7Zt/GlnH+uqUvmqFu1LhrVSGq1Qx2gjmI/RalalDMsYHLlbGF2z9+HnLiQJ9I6XAfffd5/f7C/QUF/O0LmTGAwDHccFgkGXZxbyGF/6xi4xHxqvTLK9iArQRfX3cGo+kR4+zGFH0uVJ1uuFTdaxCHa1qjlc1x3FmoHSuUw6u3duxRXnur5vfDYoAHAHmEunxhPEOPs14L9xa//xUSZ5l5TnGLQwCOV96yl6Av95/divbs6mxczNj3sA61mh8NRrU19PLE2j24MpYrpyhDe0fGcP1uHGemu6lSVLa5r883etyLjRIE0TakYxA1FexXBXepSzWll0UWUrV92efffaCqFcy50t0gTM+Ho/b7fZHHnmE3uaiKj/nAULeUGR8hvGBcsZbyfoyjeruAQokuvZMRXYVg6bpWpWvlnHVMbb1qtGNqsG6u3t2qfu//Ij3u0+HHm6Ho3ZoAxgCiPMASepwN2WA/HTr8XJDvV3MdrPPaavPA+OT5JR5gBCAAeA0B6+OwcNt8C9Pu257YHg3o9vB9G5S9a1XDdcxllrGVcP4iK1+gvs9ejZIzKNolJbwc5Jy+W4sMn5+wmfh7xJFURCEEydOvPvuuws/2rI7wgXO+Fgs1t7e/txzz12cKzH5Go5FxlO0rGL8K1hsq1tCFfsiVa2Rtfcnag5EV6o8f9XkLVNH1mjDdSrXRuXoduXAtcrem5Q9NylP/+OjfepjkWd6oDsG/RyMpcCehEAcojyEAeKYAIesx2MKnKVgfI8jbas3u8QOF/rVz7W2LE9OO47TkhQPECGkp9S3BmEwDH0R6InB420p1Zu+f/5F3+e07derevYwph2qwc2MZR3rWd8cq2qOr1KEypSRT+51r2wK1u0Xq1v5yuZkGZsoZeLU8lGhjk5oS8N4aZ5BDDP5cfqbBeOL9ePzJbFyHKe9vf3IkSM5XrjQN13gjE8kEm+//faJEyeKjF/ISC4ynvjcoWF5hSa4Uhsoa/ZXNnuqtdbVDebKpt6N2pHNmpG19bptjV23tBr/7ZdW9euhl4xwzg9mEQZ4GErBWAISkj0+RY3z5LoCny6jBcJSMR50dtHoECnj3/AuhPFI9vTEREgBn8QvIeLKQ4Qs1Y8BmHnQJaEzBb8eg31v8z847Pvr+wdvZHp3KM3Xtbo2K8dqG4aq60drVM4aTaBaE6pQR8s1cdomAB5fWhLr/VIzvlg/fiHiaab30ogqn8/34IMPzrTvBfj6hcx4QRD4FP/KK6+YzeaiR/1CBm9BMZ4u5S6NrJ/4KZpweWuwstW7ptmyUdO/Rdl+PXv2b37W++MjlucM8J4H+lMwnABHEoIpiJNoOI7YtLmM4zyFOzXME/M7vS2C7PXcqnwebfU9mdqy82O8AAIPAgdCEjspHju41MCT1YbMtAUxj9lDicYfBbRYBABcKbAkoT8E5jCcGYMX2uDO52zfeXjoRuW5bXvbNqn61jGjtWpntTZQoQlPaM+j7QAAIABJREFUBvxSMJ5mNZBF/U0cA/OdZEynxxcZvxDxNNN74/E4XaXVaDQz7XsBvn4hM55P8aIoPvP0M0XGL3DkFiDjFxBCLUW3007GEksDtTUY2VWu9lWxnlrGUcfY1qks61XDm1T9W5R925SGzYqO2x4Zvf23qQe74J0I6AToBxggOnoUICalnBcF4BOQioKQIDo73oGkiCxMZhzWaDw8QfoSMb7HwXc5RRnjocMFc9XjBWJv4AnpCezTX0r6XtTfngdeBE4QkiAmsEGMfHV03EvxEEtCgsM3jvHQx4M+Be+G4KAOFG/BPzxhv2lf73aVcavKvJkZ2MSMrGfH1rLWOrW9Vu2uQmcI9HOkDn3TAVgdIq/GMMqRBDpmKIt3HDX1nMdZOsYX68cvUCzN9u2JRIKWmm1pabkIs9ZfyIyn07f9+/d7PJ6it91sfxC59jufjCcyV3K3JvlSqDO2lElG8nhPy30qykl427gop9bXcja2WhVfrUpWsKnaFljTClXaZIU6ijlYNL4yrad8n3dVq3OFcrCO6b1hf/8X7jN99YGeHzw39NPfe18fAUMcnAAeAC9AkCxCR4meKtdi09cPWUYVdelx4vNsPX58t1x3gL53Uk2aOea5Q8Y7oCutx4PJBW1uyvgp89zlPJnJ3006e6lD3ig9kzrp49HnPJnuxIlhPwjgI9fWKYIFQBeFo0Ow/y3PD58duO2nZ3cq393Y+N72FnO1YrhO61/bEqlpDpep/KuZcJk6UqFNVLfyVS2pCnV8NRNezYTJgAkg4xm+XAVljFjG8CTSIbFSg1791Cmyisn4/5MkPHSYpT0oSZSEZLSnk4nJ4QDTTTKyNf7Me9PjFucZOMmgMRqhcinPXTEHzlRjbr7bRVGka7VPPPGE2WymLLh4iHDBMj6RSNAhodFoLtpqBPP9UUx8X0ExPrM0nvbHpgp9xjcK49ZK1djK2EyOmuw49QpFqKLJV9ngrmpy1TY51zRZ16tGt2hHd7QO7Ww17W7VffGx4X99zf+QHl5xwDmyluwk+KH+caJEK6kjEpM0fcwsrU+8glM+l44idXLvSl7OG+N7HKB3pBl/1Ae31M+Z8bnPMk9bBQBfTHAnwZ6CURE649AN8JsA3N8B/37Y85X7h69V6XaqTdvUQ+tVw9WK4YqG0bVqT63aXcN4KhlvOeMnuQrGGV+uSjN+pQYZX6qJIFxZH7EKYFhEehIp0+8RwJMs9hlOj4f85Z/xxfrxeRpF0mEkxr/wwgsdHR10e5Hx0vVZrp1YLIbahiC0tLRcPLdzke5WYTFeLQlfYmynlliGQ0WN5VeqRdKwT2KyEzQFTTmTqGQSNarQWsa9mbHsYPp3KfXXKjtuVJ3+ziMm9nfhp3vgXBCGRXAAjMZRTQ8DRElLSZHhEs4lItOIdml7kfF5GIJZWQLI2MPoA3o7xiLgEmCUh3MBOKQH1fHEtx8bvI5t28W07WB12zTmjerROtZZzmCYQxmLN71KyVWSQUInfxTzZRpfucZTrvbRJAeZXIQ0Y092Cl5C+qXT44uMz8MQyn2I48ePv/XWW9Rcf/F4aF2wejy9hcFg8IEHHsh9w4tbZ30FCorxaVNqlnaOC6400Qq1x5azaIytVXnWqRwblZZNitEtiuHtTf27mnTXN579f896DryV+vUIdCbABLigPkqcwMMASfSOS6FiLtBV5CTwHCSTuJGSXpxkg5cAP26fn/WVzWG/z/3e3Hp8un78bGvLSrb6cT3eBUd98IWGX4Vyf+z52kqvqQB8UkzGhFQylYyPC2VBjPMYl+8EGAboIwH6bQK8aoGWd7j/OuL8/H79dmX3RqVhk3Jwi2J0S5Nlo8JRp8IY/Uo2lFmVDxHHC5LbgIwlgnlkvFx9l/r5ZzymVMKVApJPSWarLzJ+cQadIAjvv//+q6++isGqxFVrcT6n4I56wTI+mUzyKd5qtT7++OMFd9WX2wkVCOPR11oTrtRGqpqjq5lgbXOsWhO5pt5V1xzBpgnXsn70lVM7N6gt29UDuxvbb9V2ffdnph8/YXq6nXvbCkM82AXwpSDCIbU5MR3bHSX+YOj+RtXGjNtYxllcAFFqxDI/lR5P2TSH+0sOlDVLyP3maRk/IdHNlE97HHyHEzqcQBnf64ZzbjjqLUDGZ18EdOTPNPT4w9uSzKzi+4lvRFSAqICu+26AER5MIrzthad1qR8/YfreQ+Yva3V7Gjo3N5jXNo1VNblWN/pXNYRKG8NlTZHVykilBoP1yzXRFY2+MlWIVtPJaPZpnT5/jE/b+UnaxEAlWS+oYijjzW6AZJrx5ApIBqTs61F8No8rwHGc2Wx+/vnnaf7TeRxhmb7lgmU8x3GCIAwODh46dGiZ3pvCOe0pGG8o1yx+vLLM5+5T9a6VCu9qJlilDm46EMaF2L19axv7NjQatjXprmP0n1b33Khu/7tfjihP8E/2QkcKDCkYFNB528VDUECTL09BTp3a8Uma49iTdHSalCZFXqMxYZTxgMHf6SZhXtoideZw584P49HtzgmU8b/2wRfqXyocPV66rlJHyqfL41Rr3PTBi8CDiA78+EDj+HgexFAyiTEOAH4AG+D6i4nHAP1nzaA9Cf90KHRzy/D17NgO5ejmxpG6+oGK+oEqxWiV2lHOOsuUnjKFr0IRIsn2sZ4QVeXzzXj0ACB6PPUJCK1WxXcozc4JjM8dRzmH4VXcVboCfIp3Op2PP/44jamWtl/wnQuW8TRYQq/X04nbBX8jF/ULyhmPUBTRTLpdsaSMr9CEq5qjVc1RFI5K+waVYdPet69revsrzad+eEh/72+sb/aBIYgu2Q4i3OmCeogoeQG6rD7xGmHEmgBJHh9TaXZQTlOSUORL4Jc2SiyXdyYePP1czqRcu9DXc72SvY3sN8nnLm2rn1Jx1zmyXpL0+EJmfPb3RqLT+ZgUdkgnXbibIGZi9RMgxkCMiRDjMdUQJCAVFuIREMNkAATJo5eMjTEeBhOgj8Lrg+i3/4PnBm67v3Nz/bt1e9/bfsC6tjlQpYqgYybBPJbOy/N6PNXjZ2B8Gu5Fxk8YDQt4KghCPB6/9957OY6j2W0XcLDl9NYLlvF07t/e3v7SSy8tpxtS6OeKUocXwY6M7y3XYM5RWaxajKo7+CjTv6VFTexIPsykerrMURkjmmhAURUTqGF8tSpPncpRx46uY4bXM4ObVH11d3fsUfd+5RHnd5/2/awL3nBAj4Arsm4C9TiBgYCCP5ES00voqSmuJ0nkkiKqX1LATG2ZYHWKbZmyiAeQY17OdXl/yg9K653Tvj7Fi7LNUzH+nAsmgHyap3Q9vsNJwuecYPCkbfUF5lefmRcRS3Wa8ZnUAnQVBUehSAZiOh8Pxt+LpFHGx7hIjIsA6v2YqycKyZjAxQQumUlMFCehj26AMYCeFHQA/CYIj5jgv19JffMR7/VM33ZF7zZF/ybl4EbV8DqVpU7lIFn3PdQVXxbDmcmvQCLlpBFeoaHxezRGP22fL9VEaCOxmljsgK7HV7LjejzHcTx+t4wNqWiul/0K5t2lUE8kEmq1mqa9SyaT8z7a8nrjBct4qscfP378xIkTy+uWFOLZCmT9M1M3Jc34pr5ydYq4smPkMXVil6ppkeAl6rQckMqoV6qClSp/tSZUuy9Sd2+y9t5U9YHk6tb4Km38L5qCpepYVXO0hvGsbRrb2DSyval/t7LnBubUPxzUsccDT+mhO44L6lYebElwCxAgq+lxmhaWUJl6zKJuh2Ad/6PQ4EFMoWlXMvZi7liSPlYGlYxIzWzKPhBFS2aftNF+/HOmx3nGyD/7/SfumUOPP+eCHqwKP6k5uZ7JDXeDHjsyvtsFeg+c8WB8/K17Cyp2jl778S8vvxdZr6UnZJNfT28hMzm03mc1ESepKTKi48SkT3V9P4mQtERhNAoDMTAm4LABWt4KfO9xw+fU712r6NqlMG1T9G9UjlY32apYXLn/y73eTzb6S5loTUuibj9f2uStUPqr2WBNc7hKHSSV97D4XpmaoF0dW6mNkIaldSWPP+rrV8rEt6tMTlIqE+OABLRFYMsayOPXpNib/RWg+h4lQlNTE42Vj8ViF0m8VZHxsx8qF/GeEuNFgZQhEe0AO5v6KthUqZpbSRoNSSc6fYSqKdlSjCxtqoKrm5yrFdZypaVcNVqhHK5UjdQwI2tUI5s1Y2vrDVsbez6/z/zvz/iaj8HLg3A2DnoAI0C/gKVcEoSSAKIoJEU+4+gucZdKfLTfimn6phmAN44sNyDjU9lrulk3NXt/6tslmxNk5G3hML7htXPoQDcJ8A4+B+CdXI+D19lBZ4cup9jtEvVe1OPf9MCX9x6ZqrZs1vVZoidZHF/gZ0pr+bPpEMt/AgSOFzFs0gW49DNEIi96BHjdCgfehR/9yn/b/eY9rH6bsnfPPusWrW2j2rmBdazXuNdhbkTXGo2vWu3F4PtMgh1kvDpWqo6t1MRWaGMrkPQE8+M59WKlTHyH0uQG4JOkfgFfZPwC7/z42+W3nmEYqscnEoki48ev0XLs0ft6/Pjxt99+ezmef2Gdc9pgiqgnC9iiE2BXY18VmyxTo8AiDXUUIsKoIEOtpVSDVkqSco6EJLGhSrWnmh1bw/RvUPRs3nv6c9r27zxi+tHTgy/o4X03DCQx3/tYGNxRCCUgwqPblJ/ERieIKZ7gVVonz8CWsnmJGC9pjVl6ubR1QifrPsrmEHT7hJ2n0dnInjjBoqXe/CRs7KuE8dnFZHPG0Y1vNNhEg01E2Lt4g0dsc8NvPXDbPUeiWSd64TyRy/eZ+sR3T+RAwBzYdJUnRfIYxghwIwAeEawC9CWhl4NTHnheD02vuP/pkf6bFWd2N57b0mRYzwzWspYKlb1a5U3X0lXh+CepmXA2vEJDmjaxQkvV+lCpNlCqCZUy0V0KkyfNeKLH0yIH04yJC+cuLe43kd93jUZD859ePOFzF6weLzH+4qwZnO8fDVnWFOMAccp4N8B1DYZaTBoaKNX6UE4RUUV5T02RlWpPDZuunr5JObxN0b9d0buT7f7GLyz1vxcf1cOZBHQnsdyqNYXO7RxAIkNtBLqYACFJDOzpb5MkftRE6ElUJy9Jz5D+i63Hy7gsYzbdKq0WSztl3QjZ/nS7tJvUydpf9oTskIPx7U6g2J7lo9EmGm28zsHpnXyvh+9wwTE3fPXu54uMF0XC+PEgvfRYxLT7qYTIhYAPikI8JaY4MumMEPDbAUxx0CWgjYPnh6HhLfGbj4195RH7ribDrsa+nY0YoL9R4Vin9NSqfFWqSDmTQNMXSbdH7fYrmvG3s5oJ7lbovbSqARqiqCNBenlMNhCK3TlfATnjW1tbo9EoNdcX9fg5X8qCegO9f6+99trJkycL6sSW58lQY31cQMajhuMS4CZFe63CjsVAMWwdVx+rWN8abbBa7a9oGF1Xb7pOO/CFVtPXDxh+eGjovjf9b5pBH4ZBDu2f1EsuTFZD4yIWa5EtoVMbeQLEKAhxsmyaApGjIpgurI7/OOV0n9yXXWsJohM6sl1mqZfLDiBjtmwrmvSlNtXx6XZpN6mTtb/sCdlhnPFBosd/reG1dhsYLLNvQq9F6LWk9LakwZHodaW6XPCmDb6leuVCZbzsEs6yS28FXdVJgZhMNz6GaZGw3l46+lJKth8jyPeRUW0n5n0LYGG9E33w899F7jpk+/aBvpuaunc36G5oddXUO9f8//bOBL6OpL7zgt0MA5MPECYZYMiQBT6TAPkEdhOY8Elg+QwESJh48BwwA8sG+CyBLAtZNmFhmRnLx1iSPTqxbGttyYo8lsbW4dFpSZYsydLYOrDOd86TnjRPx9M7dT35Hd2vu/+73SWVWu/QZb2r+9+fslyvurqOb1X3r+voqqzAp18J/ulJ38eOL38k0/ORE6uPnlz+VPbCF9L73eJHm9JLqliDyJcE2JDfYcHtyFteXt7q6irprt/RBanvScnteABoamrq7e1N/WJKeA5IZ/3aZ2Y8H1wF+OrL3Z/PnfvTdNOnj5k/m2H+fNbEFzONX8rQfrPQ8r8qVy7p4KZTXIpkWhA3cVmR5j0HePG5xa0Nq0v/rc2Llm++SvZfJZuyMuTLKQFQ40GaIbjWV080/pkjrX3zMGTdhRmxwogVBm0w5BBN95y4Bs7Bw43JNB6f2Nq+/rpFJm+ApPF8cE3dxeoqzfZYTyN59RQEcWYfI3Xsi/P4BHGRJQ8DSxzYeRj3i4vx9S5B6TD84nX2W//X9ZVXpr6UbfliztznXpn586zpT2VOfTbH8viRjkVxGV9BXARAPNa/9ViPC/+/dwJ5eXm0HX/voaVECIrVeEK/qampr68vJUoiyRNJJ6BJy8awboC/zWj43LGer5249cML+uzOlSo9jHlgXhCHzx0+8PHg58DPgi8AgSBw660R8gSVMiusdciLq5WQjUfXFH39NWBtRTO52q+349dnwoW33eUuMqbrT+6NFrYsJev+dtQul4W0I//rgdO5gTIHWVhrCZOd3GSVfJJ2vNiQXJHmgh082tmxAF3uHZsF6JZMxxJ0rUCzA1qWocIDX8vqX9oUmzp/hJTGWomsrXkozcYXV92h2weL54NS1RUrMPk0PwgsAxx5kSWL8QUk4V+V2voegDlOnMo3C+JHIq+Pw296PD+9aDiQ0/efcwe++jJZiYgX++nVWQKxzzVqfOwZxzcG1Pj94i3XeH9glQVos8Mb0nrvM9LSIgvS044VxVd6DSAT46ToBb8fguTzdZkqiu15RhAny4do/NqWJCRGIvDrXfbiumbSoU6NJ0158dXnLohLFDx/5PVn02ufPVS/U5Ne+8306mcPVz595PIzR69863jl1w/VfOnl7q8fbUmede72q8buPhy5xosqS9SdlWaKkDa1uPJhdI0XIMCJL7QsJy24K84v4cArm2NCksQCf3e9e98JYJXm7bevQqdLnMwvfTYizSrB7+Z2X4TRrqCje6jx0RClnjsp1La2Npxzt1+FRx+BRMbvSq3Ju+sbqLPSM1GMS96Spva1RhEJg6SIhhdi2UhvyIl7b9zIo9+IJrot1v6jxxztjJginsxPlJT+7p7+eqQVYMgigAtSObLRIlSxe3j1C6uBEbxIQyoRqjsFKX97IN373vVbiRPn+Yn/aLj0KrTsjQDZWJaXjv8vCocPHyZbmewttFS8SrF99WTFg+7u7s7OzlQsmORM88YzbmMCfHKmNHKqyKMz8rlIrrH2HynOrd3EFO02VVuHiGeTiAC/dl+RIt643ZIoiamXFLLIHRfkGIbJyMjgghyZV596OdlTihWr8eKSkEFucHCwtbV1T2TwIgUS2K06xtr/7hGLKdptqnYfC16BBJRGgGEYr9ebl5cndpOI95BaDoVrvFarJRsGq6U8MZ9bEtitOsba/5aJjXgSNT4iFnREAtsQ8Pv9y8vLp0+fFrcCCHLqkXnFajzP8z6fz2w2V1dXb1P4eBoJpAyB3b51pEzGMKFIIEYEiJwLgjA9PV1SUkL2j0eNjxHt+AUrCALDMHNzc2VlZfGLFWNCArElgBofW74YuvII0NF3vV5/5coV0o6nM+2Vl9+QHCm2HU+KcHl5OT8/X/oeJTUniYUUF/5EAkgACSCB3RCgS9Pfvn27tbWVSANq/G4QJqVfUoSBQOD48eN0koV6yjUpywQThQSQABKINwE6+n79+vVbt26pp5eegFZsO57qenZ2tsfjId01aivdeN9MGB8SQAJIIPkIkCd/SUmJxWJRW0tPyRpPyvL8+fOzs7Msy6qtaJPvRsMUIQEkgAQSQIA8/LOyspaWVLdqs2I1nix5CgB1dXXDw8Oo8Qm4sTBKJIAEkEASEGBZ1uv1ZmdnJ0Fa4p0ExWo8nWfR1dXV2dlJlsSJN12MDwkgASSABBJKgGEYv98/OTn56quvJjQhiYlcsRpP1rIFAIvFUl1dTdYoxvH4xNQyjBUJIAEkkCACpE+3o6NDneuaK1bjyZw7QRCWlpYKCgpwMD5B9xdGiwSQABJIMAGGYcrKyiYnJxOcjkREr2SNp0PyJ0+e9Hhw88xE1C+MEwkgASSQUAKsdGRkZKizH1fJGk+WvhEE4fz582azmSxhmNDKhpEjASSABJBAvAmYzeaLFy+yrBq3UFa+xgNAR0dHT09PvKsVxocEkAASQAJJQKCrq+v69etJkJAEJEEVGm82my+/dhmH5BNQvzBKJIAEkECiCZw+fdpqtapTAhSu8aRqcUGOfBlJNydIdJXD+JEAEkACSCAeBJxOp5p3LVGFxrMse/m1yzMzM/GoUBgHEkACSAAJJA2B27dvNzQ0JE1y4p0QVWg8ALS1td28eTPedDE+JIAEkAASSAQBOsOutLR0fHw8EUlIijjVovE2m+3MmTNJgRwTgQSQABJAArEkwLJsIBAAALfbXVBQQPaMV+dYrVo0HgAKCgpcLlcs6xWGjQSQABJAAoknQBcvb2tr6+7upm36xKcs7ilQkcY3Njb29vaSj+bjzhkjRAJIAAkggbgSYBgmNzfX6/WSWHFefVzpxzkyLsiZzebi4mK6rzxdIYcuhxfnJGF0SAAJIAEkEAsCRM4HBgbq6upiEX4KhamKdjzZWBAAcnNzbTYbKZ5AIEDUHTU+heorJhUJIAEksC0Bsn7tuXPn7Hb7tp6V7UEVGk9WsRUEobOzs6GhQRAEMjyDGq/syo25QwJIQJ0EWJbV6XQVFRXqzL4816rQeDoMs7y8nJGRQX4yDIMaL68KaEcCSAAJpDQB+qgHALK2XUpnZ18SrwqNl5OqrKwcHR0NGYyX1wy5Z7QjASSABJBAqhCgT/I7d+6Ul5fjDGsAUJ3Gz83NFRcXsywrb8TTmpEqVRnTiQSQABJAAnICXJAjT3KGYU6cOEGnXsn9qNCuOo0HgNLSUqPRGNKUV2HZY5aRgGII8AC8YjKDGdkTAYZhyA7xbW1t9fX1VPL3FJhyLlKjxpvN5vPnzxON53ke59UrpzrHOicCgMCLBo/EESByHvFv4hKFMScFAZZlnU5nQUEBWeROnQvbhZSEGjUeAIqKisgWNTzP+3w+8vYXggZ/IoFQAgIPnB84BgSp1ShK/roRvUbQHUHg7sHIBpSkVwvygrHpr8zL7iOSXZyU4XPAhRgeeC6S4YHnN/iHlhv+VgkBLsidP39+dHSUPNJxEFaN4/Gk+a7X64uLi8kTjozNq+QewGzeEwFR4xngg2vSTjVdIAIfBAg1ArB7NJteDmRiHMEqe43YeXSpED4HbJjGB3kIcmtmQ+9lAo+9LPdUx1P64t7e3ldffZWOw6Z0XvYr8aprx/M8Tzpw8vPzNRrNfnHEcNRCQJA11zkAYkRZCfLAhBsOAvdgWEnkyN/QFu26+Mn97DYu+bVJG/6ml6T1tyj6eoWKrpY7b9t8zszM5OXl0ZXqsRFPiKlO41dXV8kCONPT0xcuXFDzXgXb3jPoIZyAKClymeclmY+Jxu9EgIkwy33uXOblV0UT+ISHv5ZI2hcSQePpcInYm4KHegkUFhbqdDrspQ+pAarTePl69S0tLTdv3sTB+JA6gT+jEhDA71kVVZ4Hr2+TL7nQyO3y9iba90pATlSOnbxtife0IHCyDha5H7QrnACZXldVVUW2HCMd9QrP826yp0aNp3w8Hk9hYeHi4iLDMNQRLUggKgFJa/ggeAFWABYBlqW/CwDRjBsAzT0SkLNdlpiTv0tSo36RgwVGHDNBjY9ab5V+oqenhwzDe71e7KIPKW1VazwA6HS6wsLCECj4EwlEJiAABDkO4MDR+i9ndD+T2fKtzMansq4/ldn+rYyW549HMM+93Lx3c6z1uQ3T9tyxiEbmZ7dxbQTeGiXwNlkCWnedkX0Lv+m5l9fM88evrZmMxmeP1j13rP7gi1WzIL514aFOAkNDQ3l5eT6f2LFGBB67ZuU1QdUaT2YoV1RU0E4eeU++HBPakYBIQADW5/UDfOV418UlaFmGG0vQsiJZFqFjIYK54QY0+0igYxGIubEILU5oX4CvHWo1ANzFCqpKAhaLpaCgwOPxoMBHK39VazypFh6P5/Tp0zabze/3c0EO3wGj1RV0JwQWAQ5mtTetQJ8bhlwwsCCaIReMONbMkBOoueOEiGbQAdQM22FXhl446Igc+B3nRuCDjt0Fvm1KSOwRMxWTeB0wTI1dJDzkhEEX/NYNAy4YWIJvHG6cABBnSeChGgLk8yibzXbq1CmTyQQAON4arfBVrfE8z3u9YiefyWQ6depUIBBAgY9WUdCdElgAeCbrWtsSjDjBaOc0Llbj4vQOwWhfM3qHQI3WzkU0OjtHjcHG7crQC3VRAtfKAtfZdxf4tikhsZNMjTm4McemDMrTtm1Qu/YwLxhtoLeDxgljLhhzcMOLcPBwPWo8rZzqsczNzR06dMhoNOIA/NaFrmqNBwAyJxMA2traKioqsB2/dXXBsyBNr0ONR43HeyFRBARBWF1dzcjImJ2dTVQaUihetWs8KSqyKk5JSUlHR0cKFR4mNSEEsB1P+w+Sox1fi+34hNwIiYp0cXExLy/PYDDIu+ixNR+tOFDjN8gsLy9nZ2eT0R2i+jjGs0EHbesEUOOpxocPQ8Sxr15Y76tHjV+vmir4f25u7ty5c1qtlk6yU0Gm7ymLqPFr+BiG8fv9s7OzmZmZy8vLAMBKxz3RxYuVSAA1Plk03slK4/Go8Uq8zSLlSaPRZGRkjI+Pk5N0pDWSX3RbI4AavwaCNtktFktOTo7D4QAA8kkGVhYkICeAGo8aL68PaI8Pge7u7pKSkpmZGeyW3xVw1Pg1XKRznixfr9Fozpw5gy+Ju6pJ6vG8K42PJof30qctvza8t5y4yP3sevr6lvP8Scjxj5fkwmgn8+qFMZcwRtrxR67ieLzi777KysozZ86srkorSQvSPo/rX0UpPu/3mEHU+AgAGYbp6+srKChp53fnAAAgAElEQVQgnfbUB74/UhQqtghugKczm64vit9tG2zsmDMw5mSjfaIm11rl2cPfJ2Kdxw2Nd3Oo8cq7DXmep5t9k+ft4uLi2bNnm5ubQwbg8Wm8w9JHjY8AitSe27dvZ2Zm+nw+/Gg+AiP1OqHGb3zZn2iND4jj8diOV9bNSCdCBQKB/v7+rKys4eFhACBdrdi9utvSRo2PQIznebLMrcFgKCgomJmZAQDSTRTBNzqpiwBqPGq8ump8/HPL8/zS0lJVVdW5c+ccDoe8lSW3xz9hqRgjanyEUiMvjIIg+Hw+vV5fUFBgtVqxbkUgpUanUI3XOrCvfkP149tXj+14Zd6BRqOxsLCws7OTtNp56SCTpejkaGXmPAa5Qo2PAJW24wVBYFl2ZmYmMzNTr9dH8IpOqiMgLAA8m7E2Hm+cZ7WOgNah0vH4WCt6ePibx+NR45V2+/n9/pqamtOnT8/NzZHO1PC/SstzjPODGh8ZMK1YAemYmZkpLi6+desW8Y3TPSJTU4Xrmsa3L8CIHVDjw2U4pi6o8cq7yViWDQQCXJAbGRnJy8vr6ekhjXX6EA6xKI9ATHOEGh8ZL61VdK6Hz+e7cOHCpUuX6JSQyFeiq8IJRNX4mGrb/gXO6uwRTbT+9oiexX6LhBjUeOXdXlyQs9lshYWFV65cmZubI4/cQCBAH8IhFuURiGmOUOMj46W1igwIEV33+/3t7e3nz58nK+REvhJdFU4gVON1drGvPmSrt4To384i3a1m79Z/bLV/s8ZL69zhvPoUv+NqamoKCws1Go08H/IBU/o0Jha5N7RvSwA1fhtE8upFvE5MTBQUFPT19fn9fjoBRBAEhmHknrE/fxuyqXpaWBLgm8ebSF+9aZ6lGh9xWZid6W5sdTFKwz2aeO/BPdbp3wh/Q+NxDZzUuYPow5DnefrMdLvddXV1RUVFd+7cWV5eJlPqQh6hEX+mTr6TIqWo8dsUg7ySkfn2AOB2u69cuVJRUbG4uEjm2/M8T/allfvfJmg8nZIE1jT+hhvGbIAaL71AbGhwbN9pbPL949fXuTuM69Un9Y1EBZ5uE7eyslJdXV1YWNja2kqaRjQD8udnNDv1jJadEECN34aSvJ7RN1AA4Hm+p6cnPz+/u7ubBBE+T2SboPF0ShKIrPFkl9XwvVbljfvY6p+dM9jYECNrwQd09q2MwR4wiB7ERrzcHv0qeXMfNT4lq3IcEk0EXhAE0uu5vLxcW1ubmZnZ0dHh9XppAkgjfov+eflzmF6Flp0QQI3fhpK8bnFBjmEY+vU8ADidzkuXLpWUlFitVgDwer1y/9sEjadTksA2Gi8X9RB74jR+K3UnKi7XdWI32IiKR7sWNT4lq29CEu33+6enp2tqas6ePXvz5k2SBqLrZIVassLYFvPs8Lm654JDjd8pOnklk/c+AUB/f39eXl57e7vf76enAoEALpuzU7ip5C+yxsvlXK7l0dzlfvbLbrRzY7M+w7x/5K3lNZ22B/TzfoM9MOHmDfbAm86g0RXU2vxjVq/W5tfa/Hona16BMavXYPcZ7AG9gzM6+cklmFwQRqZXTC5O7+BGZ306O2taAFmvgFzg4zjHHvvqU+FO8fv95NEnCAIX5DQaTWlp6dmzZzUaDZmtTB+SqZCblE8javwuijBE5ulPlmVXV1ebm5tzc3MHBgZIQ59sroAyvwu+qeE1qTVeO+OzLMG4I2i0iX3vomyva7wo8OJaPQHNvG/M6tXM+4yu4JQHjK6g2Es/tzq5wJkXBM2c1zDvnVzgDPaAySUK/JtuQTMf0Myv9eRHUnrsq0+NuhuHVBL95nl+amqqvb39xIkTtbW1FouFRC0IAj4S41AK8ihQ4+U0trFTUQ+x0Fprt9vLysoKCgqMRiPLslyQY1mWnt0mdDydGgSSV+N11kDNjaGyq12G2VWjzWe0+aTWufh3ZHpp2LKYf7H2DaNt0LJsdAUnlqDlzkT6qVf/x5GCl/L+rWtkSje3avGAzuq7M+7MPl91qvxaYUXzK6V1RVUdBZeaX7s+GEndSYMeNT416m6sU8kwjM/n6+/vLyoqIovRrq6uMgzD8/zq6io+CWPNP2L4qPERsUR2DJF2+pP6Ji5ms/ns2bOvvvqq1WrdQuaxw4pySynLmsZv8e2cvO89bn314vD5rPevn/hu2rs/fFs7K9f40ZkVoyPwk5deSXvHQ+eqb+jsgeHZ1aySmrQHPpT2vo9+4gsH3vbgx9Le/nu/zDijn/cbHeyV5jfS7n/ovf/h0w8++ti7P/qZhz75hYc++YWnf/R/Eq/xdg6/nUvOm2VxcXF0dLSysjInJ6e+vn52dpauHpacCVZPqlDj97+syWY2Wq321KlTFRUVJpOJfnRHLaSVv/9xY4gxJ5Asa+Bo7QIx5JWCaPzffvMf09718H//VYbRftfk8Bnmvbq51XEnM2CyP/DwJ9Luf//Fph6D3fdbs+uhjz/25Pd+/lvzwuQSjM6s/vSl7LR//2DtG/q3VqDs9fa0t7975K1F/bxfMx8Ys/q1NiZM4OPVdt+8oN6GxuP+8TGu6gzD+P1+eSRer5d8JEwc/X6/1+sdHh6urq7OzMysrKw0m81y/2hPBgKo8bEqBdJMN5lMRUVFxcXFOp1OHhPZSUnugvYUIRCq8XRPGnnzPQ72DY23CQYbZ7QFtNMrXz74/Q/+yWfe/Yef1E4vjbzlNtp8w1ML2lnP8cJL9z30aNo7P/Baa59u/u6F2o60t7335tjMhJufcPNGm083s/zcj39ZUveGft5/ubErLe1+o82nmfOS2XZGJz9o8WyW+WTQeNyTJt43Delvd7vdt2/fLikpycrKqqmpGRkZ4YIcdkzGuzB2Fh9q/M447dUX+T7EZDKVlZXl5eV1d3cHAgH6nT0OUO2VawKvS16Nf9Pq/dKB7/63f37pgfd/LPN02YTDP+EKjE4vGO13P/65r/zPwzlvf/CPLl17Y3RmpUc3m/bAB3+RWfTWChgdrGZ6ZcLh11gWxFn0M6sV9R1pb3tgeGph+K1lrY0hs+3GF0Pm1aPGJ7ASxi9qukbN8vKywWBoaWnJz8/Pzc2tr6+fmpoi69bJ1Z184x6/9GFM2xFAjd+O0F7Pk+9GyAg9CcNsNtfW1ubk5HR2dpLxKir2e40Er4s/gTWNv74Iw461fefGnHH8fmy97zq8HT/pZJ/89o//4Se//NG/pH/8scfH7avjTv+409/QM5J23/s6hyfS3vtIRcttoyNgdAS+/y9H09758IOPPvaTF3Mqrt2adAaMc57Raa/Jxb3ecivt7b/7StHl42cvv1Ja92LexZMltY29pmRpxzsEjYvTuLgxZ2B4CQ4eqZ4AWI1/RUiFGOXqu4f0rqysTE5OtrW1FRcX5+fnX7hw4datWzabjef5kG58+YNuDxHhJbEjgBofO7ZAJ+WFWDo7O4uKis6ePdvf3+/z+chZv9/v8XhIy/4e78wYZgmDBsEN8HTm2v7xBpu4fzzReIONCzex67QP1/gpV/CrT33vh//8woD+rbR3Pdh8a8SyyOhmF//uOz96/Kl/GDQ77v/Ao682dE+4WLFzfm61tlvz3Z+lP/joY2lv/71HPvHZ31yonnCD0RaovtaVlvauj3z684986ouP/Ke/+dhfPvGRz/xdwaXW2OVl5yEb7YLRLuicnMYlkh9dhKcPV0+ixke5MUlLg2EYlmXpU0X+OKJdiXSq0OrqqtFobGpqKioqys/PLysrGxwcnJ2dJdOHyUQi0lgnA47y0KKkAp0TSQA1Pob05bVfbidRTk1NkWZ9eXm5RqOhfWIxTBAGvQ8EQjV+zJksGj9uD3z5G//lxz9/cXh87vFvPP/U9/7JZPP06mbSfvcDl1veMLuZ+x76WFltp9EmfkM/aHYNv7VsXhDedAar2gb+6qtPp73jwet3JixLcKXhRlraOzSWhVHLyui0VzsfnFqBN12wcyWOkU+DjTPZZBrv9KHG77ZGk0lzdHMNAPD5fGazub+/v7q6Ojc3Nycn5/Jrl/v6+qxWK3ktIB+1E43HcffdAk+4f9T4GBaBXNfldrLcPYmYC3I6ne7ya5fz8vKuXLliMplIPxh96Y5h+jDovRBIXo3XzXgeP/DtH//rIZ3FVlZ7Le2d7xuatP8i4zcf+4svjTsZvfVu2gMPV7Tc1lhX+8ftfSbbncnFsdm7Q1NLJnvAZF156KOf+sdfZRltgct17Wm/895xu296GfTzzNQK6B2C0Zl0Gq9zYTt++xpMt8uiXr1e7/T0dG9vb2NjY15e3okTJ86fP9/a2jo6Oup0OsmTSt7upxeiJRUJoMbHsNTkuk7t8vh4nif705O36ZGRkfLy8pMnT15+7bJWq7Xb7aj0clzJYU8+jZdG6A02dnRy4QtPPP9PvzxqtC6bbJ4/+o9/9dOXTv7Bo59Jz7tgtPmGJt1p7/lwWUO3we77zs9efM9HPv2Gfl4/77d4QPzEbmb5j//i8e/89NDAhLuy6Wba/b8/YnZq5rziCndWdmyOSbZ2vM7JosZve0ewLOt2u2dmZm7dutXU1FRaWkpmzJWWlra2tg4MDDidTtJLTx5QdMYc7bqnlm3jQg/JSQA1PonKhfSJOZ3O4eHhqqqq7Ozs06dP37x502az0b1wWJalrwX4AV4iCi9ZND6kP9xgY4127ivP/ugHPz+mnbk7alk5lF+W9s6H3/WHf/Zb84J5QRibvfvAI58qrevWWX01ncNp7/rQ55/8Xmldt9HBVncMPf2Dn6e958Ndo9NGB/tvV9vS3vae+u7Rpl5j+/B0Vae2fXi2Y9QaEmP8f5K+epNN0Ds4nZPVOwO3Lcx/PXHNCnAXxOkvZFJL+Ps0y7I+n29XtYXcjHQntGjXUmncoU+5/0AgQBWUimu0iIj7Frc8wzBLS0smk+nOnTvXr1+vrq4uKirKysrKz8+vqqpqa2sbGBiwWCzLy8tbR4FnFUYANT4ZCzQQCLAs6/f7LRbLzZs3CwsLs7Kyrly5Mjg46HQ65V39uP5z3MsvSTVeZ+cm3PDXf//9H/7vV0Ys3gkX3DF73vnwn/3gX4+bXOLi85o577/7gz8uudo5OrOqs/rOVd9470f/PO2+96fd/8G0d3zg/X/yWFFl22+nFk0urqy2M+13fl90v+/htPs+mHb/I2n3fegvv/69+It6SIzhGj/kgG8eqZkBYAHGx8fLy8tLSkrCqwSRxh3qqPzymHakyQWb3Mjhbyf0VYNOjvN6vTMzM6Ojo319fW1tbfX19cXFxXl5ednZ2adOnbr82uXGxsbbt2+Pjo7abLaQ9IeHL88s2hVJADU+6YpV3oFPE+fxePR6fXNzc3Fx8fHjx8vLy2/fvm2z2cgXLF6vF+fCUFYxtiSpxmusrMbK6h2Czs4ZnTA6G9DOB01uGJ4R17EZnfVpbeLIutHOTS7Cm05+bNZndLBdo9NXu0ZvDL9lcnFGB/umm5tYkpasn1yccINmzm9aAM18YHTWJ30ln5hv4qnSh2i80cWMuuGplyrr9NxvLohLrf36178uLS2VVwCyHEX43SHXTqp8IRaiwcRRHqbcHnJJiKYSn9uGQGbA+Xw+t9tttVoNBsPIyEhvb29XV9f169drampKSkry8/OPHTt29OjR/Pz8S5cuNTQ0tLe3DwwMaLXaqakpj8cT8pZA3wlIkyBiwuQZQbtSCaDGJ0vJ0ocFTVBAOgCALKRDblriaDAYmpubyTpTBQUFLS0tBoPB4XCEP8toaGjZJwJJqvE6O6edDw5Ne01ucXLcmy6Y8Ylz5d50iSJNFqMdnvGOWFY1c/7Rae/korj6jdHBjs6siuvZWX36eXGr2Tfd3IhF3JzGvCBOuFtXd1YMZD5I5TYhlhCN1ztZ0o7/2am2Xx0reOGFF44ePVpXV5cpO8gqkxcvXiwvL6+VHZ2y447s0MuOKemwSMe0dMzIDuJCzhKfskv1siDvdMmOctlx5syZgoKC7OzsLOnIyckpLCwsKiqqrq6uq6traWlpb2/v7e3VarVWq9Xj8ZDtqsnncPJv2GDzQeWcDurRB0ggEPB6vZu94y+FE0CNT6ICpjcnSIOLQqQjJLl+v39mZkar1dbV1Z0+fTorK+vcuXMNDQ23bt2anJyUj73RwMl7QHi/pSAILMuSgX8Sc4gfGkJIGpLqp8/nI080kirSFKMPO/rJEP1umHgjbSBqpznlghzDMKdPny4rK9Pr9T6fj+ECboBnTzSTNXAMNjZR385trbLa+eCGkVab19oYrY3Rz0c2BhtLjVHc+oUjP8m6N+TarWOMw1lJ42F9PJ7T2vxjC2Jf/QTA9VvanJycY8eO1dbW0p55nudnZYdcg2/KjgbZcfm1y8RUSAdV5JLNxwXpKJWOMum4ePEivfbya5dlQTZ0yw55Glwu125nCZAqGvH5QE+hBQnICaDGy2kkkT2Svoe6hWgwAPj9fpvNNjg42NraeuHCBdJEOHfuXH19fU9Pj8lkWlpaiphJ8oGNXB2pzoX4j+Ye4i3ZfsqTTTjKU0h7bskLkBw0z/MXLlx44YUXDh8+nJOT03Ct3uhivvLry21L4jp3qaLxRKSVovFi/4TOua7xh1+fkMbjHQ5HTU1NV1cXLx3hpSwvcVY6uCBHXvvIrUTLXe6T2ulZYiGxhP/dwpu8EtJg0YIEYkoANT6mePceeMiTIuJP+jovV+iQ7nqfzzc3Nzc4ONje3n7p0qXCwsKTJ0/m5uZevHjx6tWrXV1dd+7csVqtbrfb7/eHPINYlpWP6oWc3XveYn8lffuRN9AJLvpQJl8oLC4u2u326enpiYkJnU7X19fX0tJSVVV1/vz5M2fO5Obmnjhx4sqVKy+88EJ6enpGRsbZc2eMLuap442p1Y5XpMbr7IFRNzybftUMsMgCUWuyTznV7B3WtYh1m1Qe8h5A3gnC/24RfsQwt/CPp5BALAigxseC6j6EGVHU5Y48z8s3qCVPn5CISY801WlyeSAQWFlZsVgsGo2mq6uroaGhpKSkqKiooKAgJyfnzJkzpaWlV69ebWlp6e7uHhwcHB8fn52dXVpaosvuhsSSVD8ZhvH5fMvLy2T60tTUlF6vHx4eHhwc7O7ubmxsrKqqKi8vLy4uzs3NPXbsWGZmZl5eXnFx8aVLlyorK5ubm/v7+w0Gg8VisdvtRDCuX79++PDh7OxssnmgG+Dgyw2o8XHonA+JYr2vfq0dL84llDR+HMDNbFRD8hpHavuG62ab/FaS2+XXbh3C5vDWftGgIp5FRyQQfwKo8fFnvj8xxqiV4HQ6p6entVptf3//zZs3W1paKisrS0tLCwoKyJJY6enpZGZQaWnppUuXqqqqamtrm5ub29raenp6ent7BwYGhoaGTNIxPj4+MTFhNpsnJyfJvCRnlGNaOiwWy9TU1OTkpNlsnpCOIdnR19fX09PT3t7e0tLS2NhYW1tbWVlJBPvs2bP5+fnZ2dlHjhwh3wSfPXu2tLS0oqKCTF9qbm7u7e01SAd5ZSGTD8hS3lvMYAKA/v7+uro6MnTKAbcsjcff9CZ1X32IOkb5yW7eZob+TPD8+SipFbcDMNnAaAedU5AMN+SCp9JrzNJ69VRf5Zb9udkwFCSQsgRQ41O26GKTcNI9wDBMyL5SJDae571er8fjcblc09PTRMJ1Ot3AwABR39bW1qampvr6+irZcfHixbKystLSUjJTqaSkpLi4+Pz6USw7yMSmctlRJzuamprITOOhoaH+/v6RkRGTyWSxWObm5lwuF/mAUJwWx2y06ehAu/yViM5MJgJPx+CjESUBktmIROMPHK1N8nZ8NJnc7E5FPcSSrBo/L5jmwWgDnQM0osxLGn/oddT4aFUX3ZEAajzWgQ0CVBGJE5FA0ntJpybJBwjIp7fhGkn3vZDPaaLhEEf6l46db6Rj3UYaZPTCdefd/R9xvQGaUxL41iHSlwZxYTKpHf/1QzXNLmzHx/tVwLBZ4/UuftAJB1+6SvadkzffqX3rksWzSEDxBFDjFV/Ee8xgeMOXBkTm4oU/RuVrc1LPES30WmqRe5NHLXcnrw6MdJB3DjILgU45JO8fXJALBAK0H0Iu5zS6aFHIoyN20uin/sP76hO1t+zmFvne5Dak+U5/7i202F9lE4y2jXa83gWo8eE1Fl2QgJwAarycBtpTiQAVbNIWl/+lp6g2h7vsLas88CsAB4/WtS6I7XjjvLiLudbB6sQPyiOY/VDi2GuntKtNCiRV0ni9HTRO0WjdcMcFTx66OoHj8XurzXiVCgigxqugkDGLm9cUuhceVOPb3DBiR42P7/uHTOPHXKjx91KR8Vq1EECNV0tJqzyf+96OD9f4FGgHp0p7PVo6N2m8gO14ld/UmP2dEECN3wkl9JPyBGKn8Tq72FevjSZL6L6vBIx2kPrqhTGXoHXzUl99NfbVp/z9iRmIGQHU+JihxYCVSYD3ADx9pI60403zLNV4rZ0LN9i4318CGxrv5lDjlXmHYa72lQBq/L7ixMCUT2BN49tdMGYD1Pj9lfBtQxM13iFoXNyYqPFBsR2fXonteOXfdpjDvRJAjd8rObxOpQQia/yYg6MmvDVPXLYVMPSwLQGjXVjXeBY1XqW3IGZ7NwRQ43dDC/0iAQjVeIM0Hk8FfswRocceNX5b8d6hh00av8BgOx7vSCSwNQHU+K354FkkEEKAvwvwzJE60lc/YWVR43coz/viLZrGrwBwIISbkMLDn0hAbQRQ49VW4pjfeySwpvEdTtDOA9F4nV2cV0+b8thXvy9yHjEQ1Ph7rL54udoIoMarrcQxv/dIADU+vuvebP70LprGewD4dSNvzd9jYePlSCDVCaDGp3oJYvrjSoAH8AA8c7ihwynNq7dyBhtZ5j268tkE3boxzAuiibTq7faO5Fr5372FE+0qecj3ks5Yhm+yCUa7uLGsxilo3DDggoOHKicB7q4LPL+50z6ulQMjQwLJRwA1PvnKBFOUrAR4KWHWIDx7rKV3FXQuMDthwi2aKafMOGDKAZN20YxLxjQPm4wNTGtGMNm2MNSbZAkJZH7zWTHALYKKeGpzCKkQ/oSdn7CD0QFaJwzMwZ0F+PtfVljXNJ7nIdQka1XCdCGBOBFAjY8TaIxGAQTERnyAXwB44sWGay4YWIBRN4wuiEbrAr1zw2hd0r4pDhizw4gDhu0wbBPNoF0yDhhEs3sCww7Q2GHMISIddMBtO7zhhOePX3eixivg7sIsxIYAanxsuGKoyiXgFODA0dZKNzQtQ8sytKzA9RW4sQQdi2vmxiLcWIT2BdG0ukXT4hLNNWLccI2aBbi2haHedmjZIqiIp3YYLPUWMZAtHOmFO7RsEZR0qsUFbW5od66ZDjd0LcCB9I5ZAK9Y3wRi5K155VZDzBkS2BEB1PgdYUJPSIASWAV45qWKb2TeOHCs+cCxpieO1x14+fWDx15/5kjdM0fqnhZNw9NHGg4erv/Gkfon0xueTG84cKj+ifT6Jw41iiZdsqfXPpFe+8Thq1sZ4mftL7kq/K8Uzk5CC48r1cI/cKj2yfSmbxxqfuql5mdfbHruxcbvvNTw7V+/7gQIiMWDGk8rKVqQwBoB1HisCkhg5wR4HoKs1DO8ArACsATgAHBKdq/UmrwrnSV/PdIEPfKX+Me/90iAwPRKoh4U1ifaCWIJ8usaT8Vesuy8cNEnElAgAdR4BRYqZilmBHge/DwwYviC+LEWJ+m6n8Qn8CDwoutae3KzxEj+6fddMkvoNLH1ruaNj8Fknrd1jBZauPu2QUX0EB5ONJeIl2/ruH1oBL4YEAfACRDkgBdtqPExq/YYcAoTQI1P4cLDpMedQFDSdC8vqQoLotr7AVhRcIIgrJtNQraRxs1STcQsyMMWRi54mwKVBSX3s0VQEU/Jr03y8NeSukGTvEmRpe0ktZc0X/56ReyyK9CKBNRHADVefWWOOd47AV7SdD/ReEbSeFbU++CGxhN7JMVcF2aqrBF1N8SRet7WEnLhDn9uGyz1sMMAQ7zRy7e1hFwY8pNcHiSN9+h/UeP3XrnxSkUSQI1XZLFipmJHgCh1iIavy/eG804SEH5VuMtOwiF+wq/diUsKhC8NXhCyIQMh4Yoe7rLzDKJPJKBAAqjxCixUzBISUBIB+avK5skO4Yoe7qIkEpgXJLBrAqjxu0aGFyABJBBPAqjx8aSNcSmMAGq8wgoUs4MElEYANV5pJYr5iSMB1Pg4wsaokAAS2D0B1PjdM8MrkMAaAdR4rApIAAkkNQHU+KQuHkxcchNAjU/u8sHUIQHVE0CNV30VQAB7J4Aav3d2eCUSQAJxIIAaHwfIGIVSCaDGK7VkMV9IAAkgASSgdgKo8WqvAZh/JIAEkAASUCoB1HillizmCwkgASSABNROADVe7TUA848EkAASQAJKJYAar9SSxXwhASSABJCA2gmgxqu9BmD+kQASQAJIQKkEUOOVWrKYLySABJAAElA7AdR4tdcAzD8SQAJIAAkolQBqvFJLFvOFBJAAEkACaieAGq/2GoD5RwJIAAkgAaUSQI1XaslivpAAEkACSEDtBFDj1V4DMP9IAAkgASSgVAKo8UotWcwXEkACSAAJqJ0AarzaawDmHwkgASSABJRKADVeqSWL+UICSAAJIAG1E0CNV3sNwPwjASSABJCAUgmgxiu1ZDFfSAAJIAEkoHYCqPFqrwGYfySABJAAElAqAdR4pZYs5gsJIAEkgATUTgA1Xu01APOPBJAAEkACSiWAGq/UksV8IQEkgASQgNoJoMarvQZg/pEAEkACSECpBFDjlVqymC8kgASQABJQOwHUeLXXAMw/EkACSAAJKJUAarxSSxbzhQSQABJAAmongBqv9hqA+UcCSAAJIAGlEkCNV2rJYr6QABJAAkhA7QRQ49VeAzD/SAAJIAEkoFQCqPFKLVnMFxJAAkgACaidAGq82msA5qBE9MUAAAB+SURBVB8JIAEkgASUSgA1Xqkli/lCAkgACSABtRNAjVd7DcD8IwEkgASQgFIJoMYrtWQxX0gACSABJKB2Aqjxaq8BmH8kgASQABJQKgHUeKWWLOYLCSABJIAE1E4ANV7tNQDzjwSQABJAAkolgBqv1JLFfCEBJIAEkIDaCfw/DsBF/lPxHHQAAAAASUVORK5CYII=)"
      ],
      "metadata": {
        "id": "1Xt27zcz6jgH"
      }
    },
    {
      "cell_type": "code",
      "metadata": {
        "id": "csrNCYh-YY7j"
      },
      "source": [
        "# Параметры\n",
        "dim_code = 32  # Размер латентного вектора"
      ],
      "execution_count": 6,
      "outputs": []
    },
    {
      "cell_type": "markdown",
      "metadata": {
        "id": "Fjr-N8AWee-k"
      },
      "source": [
        "Реализуем autoencoder. Архитектуру (conv, fully-connected, ReLu, etc) можете выбирать сами. Экспериментируйте!"
      ]
    },
    {
      "cell_type": "markdown",
      "source": [
        "Давайте создадим автоэнкодер с использованием свёрточных и полносвязных слоёв. Мы будем экспериментировать с архитектурой, чтобы получить хорошую реконструкцию изображений. В этом примере мы определим кодировщик и декодер, а также реализуем прямой проход (forward pass) в модели."
      ],
      "metadata": {
        "id": "p8AhMWZ6i6Vn"
      }
    },
    {
      "cell_type": "code",
      "metadata": {
        "id": "8SjHNX-rYY7k"
      },
      "source": [
        "from copy import deepcopy\n",
        "import torch\n",
        "import torch.nn as nn\n",
        "import torch.optim as optim\n",
        "\n",
        "class Autoencoder(nn.Module):\n",
        "    def __init__(self):\n",
        "        super(Autoencoder, self).__init__()\n",
        "\n",
        "        # Архитектура кодировщика\n",
        "        self.encoder = nn.Sequential(\n",
        "            nn.Conv2d(3, 32, kernel_size=3, stride=2, padding=1),  # Измените количество каналов на 1 для черно-белых изображений\n",
        "            nn.ReLU(),\n",
        "            nn.Conv2d(32, 64, kernel_size=3, stride=2, padding=1),\n",
        "            nn.ReLU(),\n",
        "            nn.Conv2d(64, 128, kernel_size=3, stride=2, padding=1),\n",
        "            nn.ReLU(),\n",
        "            nn.Flatten(),  # Преобразуем в вектор\n",
        "            nn.Linear(128 * 8 * 8, 256),  # Полносвязный слой для уменьшения размерности\n",
        "            nn.ReLU(),\n",
        "            nn.Linear(256, 32)  # Латентный слой\n",
        "        )\n",
        "\n",
        "        # Архитектура декодера\n",
        "        self.decoder = nn.Sequential(\n",
        "            nn.Linear(32, 256),\n",
        "            nn.ReLU(),\n",
        "            nn.Linear(256, 128 * 8 * 8),\n",
        "            nn.ReLU(),\n",
        "            nn.Unflatten(1, (128, 8, 8)),\n",
        "            # Use ConvTranspose2d with appropriate parameters\n",
        "            nn.ConvTranspose2d(128, 64, kernel_size=4, stride=2, padding=1), # Output: [64, 64, 64]\n",
        "            nn.ReLU(),\n",
        "            nn.ConvTranspose2d(64, 32, kernel_size=4, stride=2, padding=1), # Output: [64, 128]\n",
        "            nn.ReLU(),\n",
        "            nn.ConvTranspose2d(32, 3, kernel_size=4, stride=2, padding=1), # Output: [3 (channels), 64 (height), 64 (width)]\n",
        "            nn.Sigmoid() # Final output layer\n",
        "        )\n",
        "    def forward(self, x):\n",
        "        latent_code = self.encoder(x)  # Получаем латентное представление\n",
        "        reconstruction = self.decoder(latent_code)  # Реконструируем изображение\n",
        "        return reconstruction, latent_code\n",
        "\n",
        "# Инициализация автоэнкодера и функции потерь\n",
        "autoencoder = Autoencoder()\n",
        "criterion = nn.MSELoss()\n",
        "\n",
        "# Оптимизатор\n",
        "optimizer = optim.Adam(autoencoder.parameters(), lr=1e-3)"
      ],
      "execution_count": 24,
      "outputs": []
    },
    {
      "cell_type": "markdown",
      "metadata": {
        "id": "GpntmZCe5L6i"
      },
      "source": [
        "## 1.3 Обучение (2 балла)"
      ]
    },
    {
      "cell_type": "markdown",
      "metadata": {
        "id": "Bdxg_3WJYY7o"
      },
      "source": [
        "Осталось написать код обучения автоэнкодера. При этом было бы неплохо в процессе иногда смотреть, как автоэнкодер реконструирует изображения на данном этапе обучения. Наример, после каждой эпохи (прогона train выборки через автоэекодер) можно смотреть, какие реконструкции получились для каких-то изображений val выборки.\n",
        "\n",
        "А, ну еще было бы неплохо выводить графики train и val лоссов в процессе тренировки =)"
      ]
    },
    {
      "cell_type": "code",
      "metadata": {
        "scrolled": true,
        "id": "3H3DOojrYY7o",
        "colab": {
          "base_uri": "https://localhost:8080/",
          "height": 698
        },
        "outputId": "10fc723f-d134-4439-f44a-4431398d2ce4"
      },
      "source": [
        "import matplotlib.pyplot as plt\n",
        "from torch.utils.data import TensorDataset, DataLoader\n",
        "\n",
        "# Параметры обучения\n",
        "num_epochs = 1\n",
        "batch_size = 64\n",
        "learning_rate = 1e-3\n",
        "\n",
        "# Подготовка данных для загрузчиков\n",
        "train_dataset = TensorDataset(data_train_tensors)\n",
        "val_dataset = TensorDataset(data_val_tensors)\n",
        "\n",
        "train_loader = DataLoader(train_dataset, batch_size=batch_size, shuffle=True)\n",
        "val_loader = DataLoader(val_dataset, batch_size=batch_size, shuffle=False)\n",
        "\n",
        "# Списки для хранения потерь\n",
        "train_losses = []\n",
        "val_losses = []\n",
        "\n",
        "# Обучение автоэнкодера\n",
        "for epoch in range(num_epochs):\n",
        "    autoencoder.train()  # Устанавливаем режим обучения\n",
        "    running_loss = 0.0\n",
        "\n",
        "    for data in train_loader:\n",
        "        img = data[0].float()  # Получаем батч изображений\n",
        "        optimizer.zero_grad()  # Обнуляем градиенты\n",
        "\n",
        "        # Прямой проход\n",
        "        output, _ = autoencoder(img)\n",
        "        loss = criterion(output, img)  # Вычисляем потерю\n",
        "\n",
        "        # Обратный проход и оптимизация\n",
        "        loss.backward()\n",
        "        optimizer.step()\n",
        "\n",
        "        running_loss += loss.item()\n",
        "\n",
        "    # Средняя потеря за эпоху\n",
        "    avg_train_loss = running_loss / len(train_loader)\n",
        "    train_losses.append(avg_train_loss)\n",
        "\n",
        "    # Валидация\n",
        "    autoencoder.eval()  # Устанавливаем режим оценки\n",
        "    val_running_loss = 0.0\n",
        "\n",
        "    with torch.no_grad():  # Отключаем градиенты для валидации\n",
        "        for data in val_loader:\n",
        "            img = data[0].float()\n",
        "            output, _ = autoencoder(img)\n",
        "            loss = criterion(output, img)\n",
        "            val_running_loss += loss.item()\n",
        "\n",
        "    avg_val_loss = val_running_loss / len(val_loader)\n",
        "    val_losses.append(avg_val_loss)\n",
        "\n",
        "    print(f'Epoch [{epoch+1}/{num_epochs}], '\n",
        "          f'Train Loss: {avg_train_loss:.4f}, '\n",
        "          f'Val Loss: {avg_val_loss:.4f}')\n",
        "\n",
        "    # Реконструкция изображений из валидационной выборки после каждой эпохи\n",
        "    if (epoch + 1) % 5 == 0:  # Каждые 5 эпох выводим реконструкции\n",
        "        with torch.no_grad():\n",
        "            sample_images, _ = next(iter(val_loader))\n",
        "            reconstructed_images, _ = autoencoder(sample_images)\n",
        "\n",
        "            # Выводим оригинальные и реконструированные изображения\n",
        "            plt.figure(figsize=(15, 5))\n",
        "            for i in range(5):\n",
        "                plt.subplot(2, 5, i + 1)\n",
        "                plt.imshow(sample_images[i].squeeze(), cmap='gray')\n",
        "                plt.axis('off')\n",
        "                plt.title('Original')\n",
        "\n",
        "                plt.subplot(2, 5, i + 6)\n",
        "                plt.imshow(reconstructed_images[i].squeeze(), cmap='gray')\n",
        "                plt.axis('off')\n",
        "                plt.title('Reconstructed')\n",
        "            plt.show()\n",
        "\n",
        "# Вывод графиков потерь\n",
        "plt.figure(figsize=(10, 5))\n",
        "plt.plot(train_losses, label='Train Loss')\n",
        "plt.plot(val_losses, label='Val Loss')\n",
        "plt.xlabel('Epochs')\n",
        "plt.ylabel('Loss')\n",
        "plt.title('Training and Validation Losses')\n",
        "plt.legend()\n",
        "plt.show()\n"
      ],
      "execution_count": 25,
      "outputs": [
        {
          "output_type": "stream",
          "name": "stdout",
          "text": [
            "Epoch [1/1], Train Loss: 0.1599, Val Loss: 0.1187\n"
          ]
        },
        {
          "output_type": "display_data",
          "data": {
            "text/plain": [
              "<Figure size 1000x500 with 1 Axes>"
            ],
            "image/png": "[encoded data removed]"
          },
          "metadata": {}
        },
        {
          "output_type": "error",
          "ename": "ValueError",
          "evalue": "not enough values to unpack (expected 2, got 1)",
          "traceback": [
            "\u001b[0;31m---------------------------------------------------------------------------\u001b[0m",
            "\u001b[0;31mValueError\u001b[0m                                Traceback (most recent call last)",
            "\u001b[0;32m<ipython-input-25-4462cd69a07a>\u001b[0m in \u001b[0;36m<cell line: 92>\u001b[0;34m()\u001b[0m\n\u001b[1;32m     91\u001b[0m \u001b[0;31m# Проверка реконструкции на валидационной выборке после завершения обучения\u001b[0m\u001b[0;34m\u001b[0m\u001b[0;34m\u001b[0m\u001b[0m\n\u001b[1;32m     92\u001b[0m \u001b[0;32mwith\u001b[0m \u001b[0mtorch\u001b[0m\u001b[0;34m.\u001b[0m\u001b[0mno_grad\u001b[0m\u001b[0;34m(\u001b[0m\u001b[0;34m)\u001b[0m\u001b[0;34m:\u001b[0m\u001b[0;34m\u001b[0m\u001b[0;34m\u001b[0m\u001b[0m\n\u001b[0;32m---> 93\u001b[0;31m     \u001b[0msample_images\u001b[0m\u001b[0;34m,\u001b[0m \u001b[0m_\u001b[0m \u001b[0;34m=\u001b[0m \u001b[0mnext\u001b[0m\u001b[0;34m(\u001b[0m\u001b[0miter\u001b[0m\u001b[0;34m(\u001b[0m\u001b[0mval_loader\u001b[0m\u001b[0;34m)\u001b[0m\u001b[0;34m)\u001b[0m\u001b[0;34m\u001b[0m\u001b[0;34m\u001b[0m\u001b[0m\n\u001b[0m\u001b[1;32m     94\u001b[0m     \u001b[0mreconstructed_images\u001b[0m\u001b[0;34m,\u001b[0m \u001b[0m_\u001b[0m \u001b[0;34m=\u001b[0m \u001b[0mautoencoder\u001b[0m\u001b[0;34m(\u001b[0m\u001b[0msample_images\u001b[0m\u001b[0;34m)\u001b[0m\u001b[0;34m\u001b[0m\u001b[0;34m\u001b[0m\u001b[0m\n\u001b[1;32m     95\u001b[0m \u001b[0;34m\u001b[0m\u001b[0m\n",
            "\u001b[0;31mValueError\u001b[0m: not enough values to unpack (expected 2, got 1)"
          ]
        }
      ]
    },
    {
      "cell_type": "code",
      "source": [
        "# Проверка реконструкции на валидационной выборке после завершения обучения\n",
        "with torch.no_grad():\n",
        "    sample_images = next(iter(val_loader))\n",
        "    reconstructed_images = autoencoder(sample_images)\n",
        "\n",
        "    # Выводим оригинальные и реконструированные изображения\n",
        "    plt.figure(figsize=(15, 5))\n",
        "    for i in range(5):\n",
        "        plt.subplot(2, 5, i + 1)\n",
        "        plt.imshow(sample_images[i].squeeze(), cmap='gray')\n",
        "        plt.axis('off')\n",
        "        plt.title('Original')\n",
        "\n",
        "        plt.subplot(2, 5, i + 6)\n",
        "        plt.imshow(reconstructed_images[i].squeeze(), cmap='gray')\n",
        "        plt.axis('off')\n",
        "        plt.title('Reconstructed')\n",
        "    plt.show()\n",
        "#https://notebooks.githubusercontent.com/view/ipynb?browser=chrome&bypass_fastly=true&color_mode=auto&commit=bd773a00dfed1ccaa6190d2f800b3dde33f164f2&device=unknown_device&docs_host=https%3A%2F%2Fdocs.github.com&enc_url=68747470733a2f2f7261772e67697468756275736572636f6e74656e742e636f6d2f7468654a6f73657068476f6f646d616e2f4175746f656e636f646572734f766572766965772f626437373361303064666564316363616136313930643266383030623364646533336631363466322f66696e616c5f25354268772535446175746f656e636f646572732e6970796e62&logged_in=false&nwo=theJosephGoodman%2FAutoencodersOverview&path=final_%5Bhw%5Dautoencoders.ipynb&platform=unknown_platform&repository_id=437949572&repository_type=Repository&version=108"
      ],
      "metadata": {
        "colab": {
          "base_uri": "https://localhost:8080/",
          "height": 460
        },
        "id": "7apISo0ir8sg",
        "outputId": "c4b053b0-432d-4f51-aaf6-33294dae94df"
      },
      "execution_count": 30,
      "outputs": [
        {
          "output_type": "error",
          "ename": "TypeError",
          "evalue": "conv2d() received an invalid combination of arguments - got (list, Parameter, Parameter, tuple, tuple, tuple, int), but expected one of:\n * (Tensor input, Tensor weight, Tensor bias = None, tuple of ints stride = 1, tuple of ints padding = 0, tuple of ints dilation = 1, int groups = 1)\n      didn't match because some of the arguments have invalid types: (!list of [Tensor]!, !Parameter!, !Parameter!, !tuple of (int, int)!, !tuple of (int, int)!, !tuple of (int, int)!, !int!)\n * (Tensor input, Tensor weight, Tensor bias = None, tuple of ints stride = 1, str padding = \"valid\", tuple of ints dilation = 1, int groups = 1)\n      didn't match because some of the arguments have invalid types: (!list of [Tensor]!, !Parameter!, !Parameter!, !tuple of (int, int)!, !tuple of (int, int)!, !tuple of (int, int)!, !int!)\n",
          "traceback": [
            "\u001b[0;31m---------------------------------------------------------------------------\u001b[0m",
            "\u001b[0;31mTypeError\u001b[0m                                 Traceback (most recent call last)",
            "\u001b[0;32m<ipython-input-30-c5ac2a317c12>\u001b[0m in \u001b[0;36m<cell line: 2>\u001b[0;34m()\u001b[0m\n\u001b[1;32m      2\u001b[0m \u001b[0;32mwith\u001b[0m \u001b[0mtorch\u001b[0m\u001b[0;34m.\u001b[0m\u001b[0mno_grad\u001b[0m\u001b[0;34m(\u001b[0m\u001b[0;34m)\u001b[0m\u001b[0;34m:\u001b[0m\u001b[0;34m\u001b[0m\u001b[0;34m\u001b[0m\u001b[0m\n\u001b[1;32m      3\u001b[0m     \u001b[0msample_images\u001b[0m \u001b[0;34m=\u001b[0m \u001b[0mnext\u001b[0m\u001b[0;34m(\u001b[0m\u001b[0miter\u001b[0m\u001b[0;34m(\u001b[0m\u001b[0mval_loader\u001b[0m\u001b[0;34m)\u001b[0m\u001b[0;34m)\u001b[0m\u001b[0;34m\u001b[0m\u001b[0;34m\u001b[0m\u001b[0m\n\u001b[0;32m----> 4\u001b[0;31m     \u001b[0mreconstructed_images\u001b[0m \u001b[0;34m=\u001b[0m \u001b[0mautoencoder\u001b[0m\u001b[0;34m(\u001b[0m\u001b[0msample_images\u001b[0m\u001b[0;34m)\u001b[0m\u001b[0;34m\u001b[0m\u001b[0;34m\u001b[0m\u001b[0m\n\u001b[0m\u001b[1;32m      5\u001b[0m \u001b[0;34m\u001b[0m\u001b[0m\n\u001b[1;32m      6\u001b[0m     \u001b[0;31m# Выводим оригинальные и реконструированные изображения\u001b[0m\u001b[0;34m\u001b[0m\u001b[0;34m\u001b[0m\u001b[0m\n",
            "\u001b[0;32m/usr/local/lib/python3.10/dist-packages/torch/nn/modules/module.py\u001b[0m in \u001b[0;36m_wrapped_call_impl\u001b[0;34m(self, *args, **kwargs)\u001b[0m\n\u001b[1;32m   1734\u001b[0m             \u001b[0;32mreturn\u001b[0m \u001b[0mself\u001b[0m\u001b[0;34m.\u001b[0m\u001b[0m_compiled_call_impl\u001b[0m\u001b[0;34m(\u001b[0m\u001b[0;34m*\u001b[0m\u001b[0margs\u001b[0m\u001b[0;34m,\u001b[0m \u001b[0;34m**\u001b[0m\u001b[0mkwargs\u001b[0m\u001b[0;34m)\u001b[0m  \u001b[0;31m# type: ignore[misc]\u001b[0m\u001b[0;34m\u001b[0m\u001b[0;34m\u001b[0m\u001b[0m\n\u001b[1;32m   1735\u001b[0m         \u001b[0;32melse\u001b[0m\u001b[0;34m:\u001b[0m\u001b[0;34m\u001b[0m\u001b[0;34m\u001b[0m\u001b[0m\n\u001b[0;32m-> 1736\u001b[0;31m             \u001b[0;32mreturn\u001b[0m \u001b[0mself\u001b[0m\u001b[0;34m.\u001b[0m\u001b[0m_call_impl\u001b[0m\u001b[0;34m(\u001b[0m\u001b[0;34m*\u001b[0m\u001b[0margs\u001b[0m\u001b[0;34m,\u001b[0m \u001b[0;34m**\u001b[0m\u001b[0mkwargs\u001b[0m\u001b[0;34m)\u001b[0m\u001b[0;34m\u001b[0m\u001b[0;34m\u001b[0m\u001b[0m\n\u001b[0m\u001b[1;32m   1737\u001b[0m \u001b[0;34m\u001b[0m\u001b[0m\n\u001b[1;32m   1738\u001b[0m     \u001b[0;31m# torchrec tests the code consistency with the following code\u001b[0m\u001b[0;34m\u001b[0m\u001b[0;34m\u001b[0m\u001b[0m\n",
            "\u001b[0;32m/usr/local/lib/python3.10/dist-packages/torch/nn/modules/module.py\u001b[0m in \u001b[0;36m_call_impl\u001b[0;34m(self, *args, **kwargs)\u001b[0m\n\u001b[1;32m   1745\u001b[0m                 \u001b[0;32mor\u001b[0m \u001b[0m_global_backward_pre_hooks\u001b[0m \u001b[0;32mor\u001b[0m \u001b[0m_global_backward_hooks\u001b[0m\u001b[0;34m\u001b[0m\u001b[0;34m\u001b[0m\u001b[0m\n\u001b[1;32m   1746\u001b[0m                 or _global_forward_hooks or _global_forward_pre_hooks):\n\u001b[0;32m-> 1747\u001b[0;31m             \u001b[0;32mreturn\u001b[0m \u001b[0mforward_call\u001b[0m\u001b[0;34m(\u001b[0m\u001b[0;34m*\u001b[0m\u001b[0margs\u001b[0m\u001b[0;34m,\u001b[0m \u001b[0;34m**\u001b[0m\u001b[0mkwargs\u001b[0m\u001b[0;34m)\u001b[0m\u001b[0;34m\u001b[0m\u001b[0;34m\u001b[0m\u001b[0m\n\u001b[0m\u001b[1;32m   1748\u001b[0m \u001b[0;34m\u001b[0m\u001b[0m\n\u001b[1;32m   1749\u001b[0m         \u001b[0mresult\u001b[0m \u001b[0;34m=\u001b[0m \u001b[0;32mNone\u001b[0m\u001b[0;34m\u001b[0m\u001b[0;34m\u001b[0m\u001b[0m\n",
            "\u001b[0;32m<ipython-input-24-51b8ae04271b>\u001b[0m in \u001b[0;36mforward\u001b[0;34m(self, x)\u001b[0m\n\u001b[1;32m     38\u001b[0m         )\n\u001b[1;32m     39\u001b[0m     \u001b[0;32mdef\u001b[0m \u001b[0mforward\u001b[0m\u001b[0;34m(\u001b[0m\u001b[0mself\u001b[0m\u001b[0;34m,\u001b[0m \u001b[0mx\u001b[0m\u001b[0;34m)\u001b[0m\u001b[0;34m:\u001b[0m\u001b[0;34m\u001b[0m\u001b[0;34m\u001b[0m\u001b[0m\n\u001b[0;32m---> 40\u001b[0;31m         \u001b[0mlatent_code\u001b[0m \u001b[0;34m=\u001b[0m \u001b[0mself\u001b[0m\u001b[0;34m.\u001b[0m\u001b[0mencoder\u001b[0m\u001b[0;34m(\u001b[0m\u001b[0mx\u001b[0m\u001b[0;34m)\u001b[0m  \u001b[0;31m# Получаем латентное представление\u001b[0m\u001b[0;34m\u001b[0m\u001b[0;34m\u001b[0m\u001b[0m\n\u001b[0m\u001b[1;32m     41\u001b[0m         \u001b[0mreconstruction\u001b[0m \u001b[0;34m=\u001b[0m \u001b[0mself\u001b[0m\u001b[0;34m.\u001b[0m\u001b[0mdecoder\u001b[0m\u001b[0;34m(\u001b[0m\u001b[0mlatent_code\u001b[0m\u001b[0;34m)\u001b[0m  \u001b[0;31m# Реконструируем изображение\u001b[0m\u001b[0;34m\u001b[0m\u001b[0;34m\u001b[0m\u001b[0m\n\u001b[1;32m     42\u001b[0m         \u001b[0;32mreturn\u001b[0m \u001b[0mreconstruction\u001b[0m\u001b[0;34m,\u001b[0m \u001b[0mlatent_code\u001b[0m\u001b[0;34m\u001b[0m\u001b[0;34m\u001b[0m\u001b[0m\n",
            "\u001b[0;32m/usr/local/lib/python3.10/dist-packages/torch/nn/modules/module.py\u001b[0m in \u001b[0;36m_wrapped_call_impl\u001b[0;34m(self, *args, **kwargs)\u001b[0m\n\u001b[1;32m   1734\u001b[0m             \u001b[0;32mreturn\u001b[0m \u001b[0mself\u001b[0m\u001b[0;34m.\u001b[0m\u001b[0m_compiled_call_impl\u001b[0m\u001b[0;34m(\u001b[0m\u001b[0;34m*\u001b[0m\u001b[0margs\u001b[0m\u001b[0;34m,\u001b[0m \u001b[0;34m**\u001b[0m\u001b[0mkwargs\u001b[0m\u001b[0;34m)\u001b[0m  \u001b[0;31m# type: ignore[misc]\u001b[0m\u001b[0;34m\u001b[0m\u001b[0;34m\u001b[0m\u001b[0m\n\u001b[1;32m   1735\u001b[0m         \u001b[0;32melse\u001b[0m\u001b[0;34m:\u001b[0m\u001b[0;34m\u001b[0m\u001b[0;34m\u001b[0m\u001b[0m\n\u001b[0;32m-> 1736\u001b[0;31m             \u001b[0;32mreturn\u001b[0m \u001b[0mself\u001b[0m\u001b[0;34m.\u001b[0m\u001b[0m_call_impl\u001b[0m\u001b[0;34m(\u001b[0m\u001b[0;34m*\u001b[0m\u001b[0margs\u001b[0m\u001b[0;34m,\u001b[0m \u001b[0;34m**\u001b[0m\u001b[0mkwargs\u001b[0m\u001b[0;34m)\u001b[0m\u001b[0;34m\u001b[0m\u001b[0;34m\u001b[0m\u001b[0m\n\u001b[0m\u001b[1;32m   1737\u001b[0m \u001b[0;34m\u001b[0m\u001b[0m\n\u001b[1;32m   1738\u001b[0m     \u001b[0;31m# torchrec tests the code consistency with the following code\u001b[0m\u001b[0;34m\u001b[0m\u001b[0;34m\u001b[0m\u001b[0m\n",
            "\u001b[0;32m/usr/local/lib/python3.10/dist-packages/torch/nn/modules/module.py\u001b[0m in \u001b[0;36m_call_impl\u001b[0;34m(self, *args, **kwargs)\u001b[0m\n\u001b[1;32m   1745\u001b[0m                 \u001b[0;32mor\u001b[0m \u001b[0m_global_backward_pre_hooks\u001b[0m \u001b[0;32mor\u001b[0m \u001b[0m_global_backward_hooks\u001b[0m\u001b[0;34m\u001b[0m\u001b[0;34m\u001b[0m\u001b[0m\n\u001b[1;32m   1746\u001b[0m                 or _global_forward_hooks or _global_forward_pre_hooks):\n\u001b[0;32m-> 1747\u001b[0;31m             \u001b[0;32mreturn\u001b[0m \u001b[0mforward_call\u001b[0m\u001b[0;34m(\u001b[0m\u001b[0;34m*\u001b[0m\u001b[0margs\u001b[0m\u001b[0;34m,\u001b[0m \u001b[0;34m**\u001b[0m\u001b[0mkwargs\u001b[0m\u001b[0;34m)\u001b[0m\u001b[0;34m\u001b[0m\u001b[0;34m\u001b[0m\u001b[0m\n\u001b[0m\u001b[1;32m   1748\u001b[0m \u001b[0;34m\u001b[0m\u001b[0m\n\u001b[1;32m   1749\u001b[0m         \u001b[0mresult\u001b[0m \u001b[0;34m=\u001b[0m \u001b[0;32mNone\u001b[0m\u001b[0;34m\u001b[0m\u001b[0;34m\u001b[0m\u001b[0m\n",
            "\u001b[0;32m/usr/local/lib/python3.10/dist-packages/torch/nn/modules/container.py\u001b[0m in \u001b[0;36mforward\u001b[0;34m(self, input)\u001b[0m\n\u001b[1;32m    248\u001b[0m     \u001b[0;32mdef\u001b[0m \u001b[0mforward\u001b[0m\u001b[0;34m(\u001b[0m\u001b[0mself\u001b[0m\u001b[0;34m,\u001b[0m \u001b[0minput\u001b[0m\u001b[0;34m)\u001b[0m\u001b[0;34m:\u001b[0m\u001b[0;34m\u001b[0m\u001b[0;34m\u001b[0m\u001b[0m\n\u001b[1;32m    249\u001b[0m         \u001b[0;32mfor\u001b[0m \u001b[0mmodule\u001b[0m \u001b[0;32min\u001b[0m \u001b[0mself\u001b[0m\u001b[0;34m:\u001b[0m\u001b[0;34m\u001b[0m\u001b[0;34m\u001b[0m\u001b[0m\n\u001b[0;32m--> 250\u001b[0;31m             \u001b[0minput\u001b[0m \u001b[0;34m=\u001b[0m \u001b[0mmodule\u001b[0m\u001b[0;34m(\u001b[0m\u001b[0minput\u001b[0m\u001b[0;34m)\u001b[0m\u001b[0;34m\u001b[0m\u001b[0;34m\u001b[0m\u001b[0m\n\u001b[0m\u001b[1;32m    251\u001b[0m         \u001b[0;32mreturn\u001b[0m \u001b[0minput\u001b[0m\u001b[0;34m\u001b[0m\u001b[0;34m\u001b[0m\u001b[0m\n\u001b[1;32m    252\u001b[0m \u001b[0;34m\u001b[0m\u001b[0m\n",
            "\u001b[0;32m/usr/local/lib/python3.10/dist-packages/torch/nn/modules/module.py\u001b[0m in \u001b[0;36m_wrapped_call_impl\u001b[0;34m(self, *args, **kwargs)\u001b[0m\n\u001b[1;32m   1734\u001b[0m             \u001b[0;32mreturn\u001b[0m \u001b[0mself\u001b[0m\u001b[0;34m.\u001b[0m\u001b[0m_compiled_call_impl\u001b[0m\u001b[0;34m(\u001b[0m\u001b[0;34m*\u001b[0m\u001b[0margs\u001b[0m\u001b[0;34m,\u001b[0m \u001b[0;34m**\u001b[0m\u001b[0mkwargs\u001b[0m\u001b[0;34m)\u001b[0m  \u001b[0;31m# type: ignore[misc]\u001b[0m\u001b[0;34m\u001b[0m\u001b[0;34m\u001b[0m\u001b[0m\n\u001b[1;32m   1735\u001b[0m         \u001b[0;32melse\u001b[0m\u001b[0;34m:\u001b[0m\u001b[0;34m\u001b[0m\u001b[0;34m\u001b[0m\u001b[0m\n\u001b[0;32m-> 1736\u001b[0;31m             \u001b[0;32mreturn\u001b[0m \u001b[0mself\u001b[0m\u001b[0;34m.\u001b[0m\u001b[0m_call_impl\u001b[0m\u001b[0;34m(\u001b[0m\u001b[0;34m*\u001b[0m\u001b[0margs\u001b[0m\u001b[0;34m,\u001b[0m \u001b[0;34m**\u001b[0m\u001b[0mkwargs\u001b[0m\u001b[0;34m)\u001b[0m\u001b[0;34m\u001b[0m\u001b[0;34m\u001b[0m\u001b[0m\n\u001b[0m\u001b[1;32m   1737\u001b[0m \u001b[0;34m\u001b[0m\u001b[0m\n\u001b[1;32m   1738\u001b[0m     \u001b[0;31m# torchrec tests the code consistency with the following code\u001b[0m\u001b[0;34m\u001b[0m\u001b[0;34m\u001b[0m\u001b[0m\n",
            "\u001b[0;32m/usr/local/lib/python3.10/dist-packages/torch/nn/modules/module.py\u001b[0m in \u001b[0;36m_call_impl\u001b[0;34m(self, *args, **kwargs)\u001b[0m\n\u001b[1;32m   1745\u001b[0m                 \u001b[0;32mor\u001b[0m \u001b[0m_global_backward_pre_hooks\u001b[0m \u001b[0;32mor\u001b[0m \u001b[0m_global_backward_hooks\u001b[0m\u001b[0;34m\u001b[0m\u001b[0;34m\u001b[0m\u001b[0m\n\u001b[1;32m   1746\u001b[0m                 or _global_forward_hooks or _global_forward_pre_hooks):\n\u001b[0;32m-> 1747\u001b[0;31m             \u001b[0;32mreturn\u001b[0m \u001b[0mforward_call\u001b[0m\u001b[0;34m(\u001b[0m\u001b[0;34m*\u001b[0m\u001b[0margs\u001b[0m\u001b[0;34m,\u001b[0m \u001b[0;34m**\u001b[0m\u001b[0mkwargs\u001b[0m\u001b[0;34m)\u001b[0m\u001b[0;34m\u001b[0m\u001b[0;34m\u001b[0m\u001b[0m\n\u001b[0m\u001b[1;32m   1748\u001b[0m \u001b[0;34m\u001b[0m\u001b[0m\n\u001b[1;32m   1749\u001b[0m         \u001b[0mresult\u001b[0m \u001b[0;34m=\u001b[0m \u001b[0;32mNone\u001b[0m\u001b[0;34m\u001b[0m\u001b[0;34m\u001b[0m\u001b[0m\n",
            "\u001b[0;32m/usr/local/lib/python3.10/dist-packages/torch/nn/modules/conv.py\u001b[0m in \u001b[0;36mforward\u001b[0;34m(self, input)\u001b[0m\n\u001b[1;32m    552\u001b[0m \u001b[0;34m\u001b[0m\u001b[0m\n\u001b[1;32m    553\u001b[0m     \u001b[0;32mdef\u001b[0m \u001b[0mforward\u001b[0m\u001b[0;34m(\u001b[0m\u001b[0mself\u001b[0m\u001b[0;34m,\u001b[0m \u001b[0minput\u001b[0m\u001b[0;34m:\u001b[0m \u001b[0mTensor\u001b[0m\u001b[0;34m)\u001b[0m \u001b[0;34m->\u001b[0m \u001b[0mTensor\u001b[0m\u001b[0;34m:\u001b[0m\u001b[0;34m\u001b[0m\u001b[0;34m\u001b[0m\u001b[0m\n\u001b[0;32m--> 554\u001b[0;31m         \u001b[0;32mreturn\u001b[0m \u001b[0mself\u001b[0m\u001b[0;34m.\u001b[0m\u001b[0m_conv_forward\u001b[0m\u001b[0;34m(\u001b[0m\u001b[0minput\u001b[0m\u001b[0;34m,\u001b[0m \u001b[0mself\u001b[0m\u001b[0;34m.\u001b[0m\u001b[0mweight\u001b[0m\u001b[0;34m,\u001b[0m \u001b[0mself\u001b[0m\u001b[0;34m.\u001b[0m\u001b[0mbias\u001b[0m\u001b[0;34m)\u001b[0m\u001b[0;34m\u001b[0m\u001b[0;34m\u001b[0m\u001b[0m\n\u001b[0m\u001b[1;32m    555\u001b[0m \u001b[0;34m\u001b[0m\u001b[0m\n\u001b[1;32m    556\u001b[0m \u001b[0;34m\u001b[0m\u001b[0m\n",
            "\u001b[0;32m/usr/local/lib/python3.10/dist-packages/torch/nn/modules/conv.py\u001b[0m in \u001b[0;36m_conv_forward\u001b[0;34m(self, input, weight, bias)\u001b[0m\n\u001b[1;32m    547\u001b[0m                 \u001b[0mself\u001b[0m\u001b[0;34m.\u001b[0m\u001b[0mgroups\u001b[0m\u001b[0;34m,\u001b[0m\u001b[0;34m\u001b[0m\u001b[0;34m\u001b[0m\u001b[0m\n\u001b[1;32m    548\u001b[0m             )\n\u001b[0;32m--> 549\u001b[0;31m         return F.conv2d(\n\u001b[0m\u001b[1;32m    550\u001b[0m             \u001b[0minput\u001b[0m\u001b[0;34m,\u001b[0m \u001b[0mweight\u001b[0m\u001b[0;34m,\u001b[0m \u001b[0mbias\u001b[0m\u001b[0;34m,\u001b[0m \u001b[0mself\u001b[0m\u001b[0;34m.\u001b[0m\u001b[0mstride\u001b[0m\u001b[0;34m,\u001b[0m \u001b[0mself\u001b[0m\u001b[0;34m.\u001b[0m\u001b[0mpadding\u001b[0m\u001b[0;34m,\u001b[0m \u001b[0mself\u001b[0m\u001b[0;34m.\u001b[0m\u001b[0mdilation\u001b[0m\u001b[0;34m,\u001b[0m \u001b[0mself\u001b[0m\u001b[0;34m.\u001b[0m\u001b[0mgroups\u001b[0m\u001b[0;34m\u001b[0m\u001b[0;34m\u001b[0m\u001b[0m\n\u001b[1;32m    551\u001b[0m         )\n",
            "\u001b[0;31mTypeError\u001b[0m: conv2d() received an invalid combination of arguments - got (list, Parameter, Parameter, tuple, tuple, tuple, int), but expected one of:\n * (Tensor input, Tensor weight, Tensor bias = None, tuple of ints stride = 1, tuple of ints padding = 0, tuple of ints dilation = 1, int groups = 1)\n      didn't match because some of the arguments have invalid types: (!list of [Tensor]!, !Parameter!, !Parameter!, !tuple of (int, int)!, !tuple of (int, int)!, !tuple of (int, int)!, !int!)\n * (Tensor input, Tensor weight, Tensor bias = None, tuple of ints stride = 1, str padding = \"valid\", tuple of ints dilation = 1, int groups = 1)\n      didn't match because some of the arguments have invalid types: (!list of [Tensor]!, !Parameter!, !Parameter!, !tuple of (int, int)!, !tuple of (int, int)!, !tuple of (int, int)!, !int!)\n"
          ]
        }
      ]
    },
    {
      "cell_type": "markdown",
      "metadata": {
        "id": "FAztAMA4YY7q"
      },
      "source": [
        "Давайте посмотрим, как наш тренированный автоэекодер кодирует и восстанавливает картинки:"
      ]
    },
    {
      "cell_type": "code",
      "metadata": {
        "id": "I1J__yvxYY7r"
      },
      "source": [
        "< тут Ваш код: выведите первые Х картинок и их реконструкций из val выборки на экран>"
      ],
      "execution_count": null,
      "outputs": []
    },
    {
      "cell_type": "markdown",
      "metadata": {
        "id": "1OPh9O6UYY7s"
      },
      "source": [
        "Not bad, right?"
      ]
    },
    {
      "cell_type": "markdown",
      "metadata": {
        "id": "dFi96giuYY7t"
      },
      "source": [
        "## 1.4. Sampling (2 балла)"
      ]
    },
    {
      "cell_type": "markdown",
      "metadata": {
        "id": "AOtUaPNYYY7t"
      },
      "source": [
        "Давайте теперь будем не просто брать картинку, прогонять ее через автоэекодер и получать реконструкцию, а попробуем создать что-то НОВОЕ\n",
        "\n",
        "Давайте возьмем и подсунем декодеру какие-нибудь сгенерированные нами векторы (например, из нормального распределения) и посмотрим на результат реконструкции декодера:\n",
        "\n",
        "__Подсказка:__Е сли вместо лиц у вас выводится непонятно что, попробуйте посмотреть, как выглядят латентные векторы картинок из датасета. Так как в обучении нейронных сетей есть определенная доля рандома, векторы латентного слоя могут быть распределены НЕ как `np.random.randn(25, <latent_space_dim>)`. А чтобы у нас получались лица при запихивании вектора декодеру, вектор должен быть распределен так же, как латентные векторы реальных фоток. Так что в таком случае придется рандом немного подогнать."
      ]
    },
    {
      "cell_type": "code",
      "metadata": {
        "scrolled": true,
        "id": "8IZykARRYY7u"
      },
      "source": [
        "# сгенерируем 25 рандомных векторов размера latent_space\n",
        "z = np.random.randn(25, <latent_space_dim>)\n",
        "output = <скормите z декодеру>\n",
        "<выведите тут полученные картинки>"
      ],
      "execution_count": null,
      "outputs": []
    },
    {
      "cell_type": "code",
      "source": [
        "import numpy as np\n",
        "import torch\n",
        "import matplotlib.pyplot as plt\n",
        "\n",
        "# Предполагаем, что у вас уже есть обученный автоэнкодер `autoencoder`\n",
        "# и функции для получения латентных векторов\n",
        "\n",
        "# 1. Генерация 25 случайных латентных векторов\n",
        "latent_space_dim = 32  # Размер латентного пространства\n",
        "z = np.random.randn(25, latent_space_dim).astype(np.float32)  # Преобразуем в float32\n",
        "\n",
        "# 2. Преобразование z в тензор PyTorch\n",
        "z_tensor = torch.tensor(z)\n",
        "\n",
        "# 3. Использование декодера для получения изображений\n",
        "with torch.no_grad():  # Отключаем градиенты для тестирования\n",
        "    generated_images = autoencoder.decoder(z_tensor).cpu().numpy()  # Получаем изображения\n",
        "\n",
        "# 4. Вывод полученных изображений\n",
        "plt.figure(figsize=(15, 5))\n",
        "for i in range(5):\n",
        "    plt.subplot(2, 5, i + 1)\n",
        "    plt.imshow(generated_images[i].transpose(1, 2, 0))  # Изменяем размерность для отображения\n",
        "    plt.axis('off')\n",
        "    plt.title('Generated Image')\n",
        "\n",
        "plt.show()\n"
      ],
      "metadata": {
        "id": "zXeeGe1YrXru"
      },
      "execution_count": null,
      "outputs": []
    },
    {
      "cell_type": "markdown",
      "metadata": {
        "collapsed": true,
        "id": "Ey8dD9s0YY7w"
      },
      "source": [
        "## 1.5 Time to make fun! (3 балла)\n",
        "\n",
        "Давайте научимся пририсовывать людям улыбки =)"
      ]
    },
    {
      "cell_type": "markdown",
      "metadata": {
        "id": "i1v-8WwuYY7w"
      },
      "source": [
        "<img src=\"https://i.imgur.com/tOE9rDK.png\" alt=\"linear\" width=\"700\" height=\"400\">"
      ]
    },
    {
      "cell_type": "markdown",
      "metadata": {
        "id": "eGE0M2GDYY7x"
      },
      "source": [
        "План такой:\n",
        "\n",
        "1. Нужно выделить \"вектор улыбки\": для этого нужно из выборки изображений найти несколько (~15) людей с улыбками и столько же без.\n",
        "\n",
        "Найти людей с улыбками вам поможет файл с описанием датасета, скачанный вместе с датасетом. В нем указаны имена картинок и присутствубщие атрибуты (улыбки, очки...)\n",
        "\n",
        "2. Вычислить латентный вектор для всех улыбающихся людей (прогнать их через encoder) и то же для всех грустненьких\n",
        "\n",
        "3. Вычислить, собственно, вектор улыбки -- посчитать разность между средним латентным вектором улыбающихся людей и средним латентным вектором грустных людей\n",
        "\n",
        "4. А теперь приделаем улыбку грустному человеку: добавим полученный в пункте 3 вектор к латентному вектору грустного человека и прогоним полученный вектор через decoder. Получим того же человека, но уже не грустненького!"
      ]
    },
    {
      "cell_type": "code",
      "metadata": {
        "id": "f1oBX9EeYY7x"
      },
      "source": [
        "<ваш код здесь>"
      ],
      "execution_count": null,
      "outputs": []
    },
    {
      "cell_type": "markdown",
      "metadata": {
        "id": "bXI6jprOYY7z"
      },
      "source": [
        "Вуаля! Вы восхитительны!"
      ]
    },
    {
      "cell_type": "markdown",
      "metadata": {
        "id": "E2UAf0bpYY70"
      },
      "source": [
        "Теперь вы можете пририсовывать людям не только улыбки, но и много чего другого -- закрывать/открывать глаза, пририсовывать очки... в общем, все, на что хватит фантазии и на что есть атрибуты в `all_attrs`:)"
      ]
    },
    {
      "cell_type": "markdown",
      "metadata": {
        "id": "QQnEGmknYY71"
      },
      "source": [
        "# Часть 2: Variational Autoencoder (10 баллов)"
      ]
    },
    {
      "cell_type": "markdown",
      "metadata": {
        "id": "bWQNRjJq2uTz"
      },
      "source": [
        "Займемся обучением вариационных автоэнкодеров — проапгрейженной версии AE. Обучать будем на датасете MNIST, содержащем написанные от руки цифры от 0 до 9"
      ]
    },
    {
      "cell_type": "code",
      "metadata": {
        "id": "qBXXr9njByYC"
      },
      "source": [
        "batch_size = 32\n",
        "# MNIST Dataset\n",
        "train_dataset = datasets.MNIST(root='./mnist_data/', train=True, transform=transforms.ToTensor(), download=True)\n",
        "test_dataset = datasets.MNIST(root='./mnist_data/', train=False, transform=transforms.ToTensor(), download=False)\n",
        "\n",
        "# Data Loader (Input Pipeline)\n",
        "train_loader = torch.utils.data.DataLoader(dataset=train_dataset, batch_size=batch_size, shuffle=True)\n",
        "test_loader = torch.utils.data.DataLoader(dataset=test_dataset, batch_size=batch_size, shuffle=False"
      ],
      "execution_count": null,
      "outputs": []
    },
    {
      "cell_type": "markdown",
      "metadata": {
        "id": "2rHphW5l8Wgi"
      },
      "source": [
        "## 2.1 Архитектура модели и обучение (2 балла)\n",
        "\n",
        "Реализуем VAE. Архитектуру (conv, fully-connected, ReLu, etc) можете выбирать сами. Рекомендуем пользоваться более сложными моделями, чем та, что была на семинаре:) Экспериментируйте!"
      ]
    },
    {
      "cell_type": "code",
      "metadata": {
        "id": "IoNVT5tYYY74"
      },
      "source": [
        "class VAE(nn.Module):\n",
        "    def __init__(self):\n",
        "        <определите архитектуры encoder и decoder\n",
        "        помните, у encoder должны быть два \"хвоста\",\n",
        "        т.е. encoder должен кодировать картинку в 2 переменные -- mu и logsigma>\n",
        "\n",
        "    def encode(self, x):\n",
        "        <реализуйте forward проход энкодера\n",
        "        в качестве ваозвращаемых переменных -- mu и logsigma>\n",
        "\n",
        "        return mu, logsigma\n",
        "\n",
        "    def gaussian_sampler(self, mu, logsigma):\n",
        "        if self.training:\n",
        "            <засемплируйте латентный вектор из нормального распределения с параметрами mu и sigma>\n",
        "        else:\n",
        "            # на инференсе возвращаем не случайный вектор из нормального распределения, а центральный -- mu.\n",
        "            # на инференсе выход автоэнкодера должен быть детерминирован.\n",
        "            return mu\n",
        "\n",
        "    def decode(self, z):\n",
        "        <реализуйте forward проход декодера\n",
        "        в качестве возвращаемой переменной -- reconstruction>\n",
        "\n",
        "        return reconstruction\n",
        "\n",
        "    def forward(self, x):\n",
        "        <используя encode и decode, реализуйте forward проход автоэнкодера\n",
        "        в качестве ваозвращаемых переменных -- mu, logsigma и reconstruction>\n",
        "        return mu, logsigma, reconstruction"
      ],
      "execution_count": null,
      "outputs": []
    },
    {
      "cell_type": "markdown",
      "metadata": {
        "id": "hAB77d-PYY76"
      },
      "source": [
        "Определим лосс и его компоненты для VAE:"
      ]
    },
    {
      "cell_type": "markdown",
      "metadata": {
        "id": "UxJrkXGQo5bp"
      },
      "source": [
        "Надеюсь, вы уже прочитали материал в towardsdatascience (или еще где-то) про VAE и знаете, что лосс у VAE состоит из двух частей: KL и log-likelihood.\n",
        "\n",
        "Общий лосс будет выглядеть так:\n",
        "\n",
        "$$\\mathcal{L} = -D_{KL}(q_{\\phi}(z|x)||p(z)) + \\log p_{\\theta}(x|z)$$\n",
        "\n",
        "Формула для KL-дивергенции:\n",
        "\n",
        "$$D_{KL} = -\\frac{1}{2}\\sum_{i=1}^{dimZ}(1+log(\\sigma_i^2)-\\mu_i^2-\\sigma_i^2)$$\n",
        "\n",
        "В качестве log-likelihood возьмем привычную нам кросс-энтропию."
      ]
    },
    {
      "cell_type": "code",
      "metadata": {
        "id": "ac5ey7uIYY77"
      },
      "source": [
        "def KL_divergence(mu, logsigma):\n",
        "    \"\"\"\n",
        "    часть функции потерь, которая отвечает за \"близость\" латентных представлений разных людей\n",
        "    \"\"\"\n",
        "    loss = <напишите код для KL-дивергенции, пользуясь формулой выше>\n",
        "    return\n",
        "\n",
        "def log_likelihood(x, reconstruction):\n",
        "    \"\"\"\n",
        "    часть функции потерь, которая отвечает за качество реконструкции (как mse в обычном autoencoder)\n",
        "    \"\"\"\n",
        "    loss = <binary cross-entropy>\n",
        "    return loss(reconstruction, x)\n",
        "\n",
        "def loss_vae(x, mu, logsigma, reconstruction):\n",
        "    return <соедините тут две компоненты лосса. Mind the sign!>"
      ],
      "execution_count": null,
      "outputs": []
    },
    {
      "cell_type": "markdown",
      "metadata": {
        "id": "ZPJQu70eYY79"
      },
      "source": [
        "И обучим модель:"
      ]
    },
    {
      "cell_type": "code",
      "metadata": {
        "id": "dtCjfqXdYY79"
      },
      "source": [
        "criterion = loss_vae\n",
        "\n",
        "autoencoder = VAE()\n",
        "\n",
        "optimizer = <Ваш любимый оптимизатор>"
      ],
      "execution_count": null,
      "outputs": []
    },
    {
      "cell_type": "code",
      "metadata": {
        "scrolled": true,
        "id": "rY1khca6YY7_"
      },
      "source": [
        "<обучите модель на датасете MNIST>"
      ],
      "execution_count": null,
      "outputs": []
    },
    {
      "cell_type": "markdown",
      "metadata": {
        "scrolled": true,
        "id": "SkxW_8fkYY8B"
      },
      "source": [
        "Давайте посмотрим, как наш тренированный VAE кодирует и восстанавливает картинки:"
      ]
    },
    {
      "cell_type": "code",
      "metadata": {
        "id": "4Jd3BWM_YY8C"
      },
      "source": [
        "< тут Ваш код: выведите первые Х картинок и их реконструкций из val выборки на экран>"
      ],
      "execution_count": null,
      "outputs": []
    },
    {
      "cell_type": "markdown",
      "metadata": {
        "id": "PQXYIXjoYY8F"
      },
      "source": [
        "Давайте попробуем проделать для VAE то же, что и с обычным автоэнкодером -- подсунуть decoder'у из VAE случайные векторы из нормального распределения и посмотреть, какие картинки получаются:"
      ]
    },
    {
      "cell_type": "code",
      "metadata": {
        "id": "bOhhH-osYY8G"
      },
      "source": [
        "# вспомните про замечание из этого же пункта обычного AE про распределение латентных переменных\n",
        "z = np.array([np.random.normal(0, 1, 100) for i in range(10)])\n",
        "output = <скормите z декодеру>\n",
        "<выведите тут полученные картинки>"
      ],
      "execution_count": null,
      "outputs": []
    },
    {
      "cell_type": "markdown",
      "metadata": {
        "id": "Nzt-ENxCr6ul"
      },
      "source": [
        "## 2.2. Latent Representation (2 балла)"
      ]
    },
    {
      "cell_type": "markdown",
      "metadata": {
        "id": "uIWy670xr-Uv"
      },
      "source": [
        "Давайте посмотрим, как латентные векторы картинок лиц выглядят в пространстве.\n",
        "Ваша задача -- изобразить латентные векторы картинок точками в двумерном просторанстве.\n",
        "\n",
        "Это позволит оценить, насколько плотно распределены латентные векторы изображений цифр в пространстве.\n",
        "\n",
        "Плюс давайте сделаем такую вещь: покрасим точки, которые соответствуют картинкам каждой цифры, в свой отдельный цвет\n",
        "\n",
        "Подсказка: красить -- это просто =) У plt.scatter есть параметр c (color), см. в документации.\n",
        "\n",
        "\n",
        "Итак, план:\n",
        "1. Получить латентные представления картинок тестового датасета\n",
        "2. С помощтю `TSNE` (есть в `sklearn`) сжать эти представления до размерности 2 (чтобы можно было их визуализировать точками в пространстве)\n",
        "3. Визуализировать полученные двумерные представления с помощью `matplotlib.scatter`, покрасить разными цветами точки, соответствующие картинкам разных цифр."
      ]
    },
    {
      "cell_type": "code",
      "metadata": {
        "id": "Bk94C6mCsx9c"
      },
      "source": [
        "<ваш код получения латентных представлений, применения TSNE и визуализации>"
      ],
      "execution_count": null,
      "outputs": []
    },
    {
      "cell_type": "markdown",
      "metadata": {
        "id": "ifxhsvPss5h_"
      },
      "source": [
        "Что вы думаете о виде латентного представления?"
      ]
    },
    {
      "cell_type": "markdown",
      "metadata": {
        "id": "ESPBHrL3YY8H"
      },
      "source": [
        "__Congrats v2.0!__"
      ]
    },
    {
      "cell_type": "markdown",
      "metadata": {
        "id": "yIYuKFwijN2U"
      },
      "source": [
        "## 2.3. Conditional VAE (6 баллов)\n"
      ]
    },
    {
      "cell_type": "markdown",
      "metadata": {
        "id": "c5l8Bu1RPjUx"
      },
      "source": [
        "Мы уже научились обучать обычный AE на датасете картинок и получать новые картинки, используя генерацию шума и декодер.\n",
        "Давайте теперь допустим, что мы обучили AE на датасете MNIST и теперь хотим генерировать новые картинки с числами с помощью декодера (как выше мы генерили рандомные лица).\n",
        "И вот нам понадобилось сгенерировать цифру 8, и мы подставляем разные варианты шума, но восьмерка никак не генерится:(\n",
        "\n",
        "Хотелось бы добавить к нашему AE функцию \"выдай мне рандомное число из вот этого вот класса\", где классов десять (цифры от 0 до 9 образуют десять классов).  Conditional AE — так называется вид автоэнкодера, который предоставляет такую возможность. Ну, название \"conditional\" уже говорит само за себя.\n",
        "\n",
        "И в этой части задания мы научимся такие обучать."
      ]
    },
    {
      "cell_type": "markdown",
      "metadata": {
        "id": "0j8zNIwKPY-6"
      },
      "source": [
        "### Архитектура\n",
        "\n",
        "На картинке ниже представлена архитектура простого Conditional VAE.\n",
        "\n",
        "По сути, единственное отличие от обычного -- это то, что мы вместе с картинкой в первом слое энкодера и декодера передаем еще информацию о классе картинки.\n",
        "\n",
        "То есть, в первый (входной) слой энкодера подается конкатенация картинки и информации о классе (например, вектора из девяти нулей и одной единицы). В первый слой декодера подается конкатенация латентного вектора и информации о классе."
      ]
    },
    {
      "cell_type": "markdown",
      "metadata": {
        "id": "Y6YloFEAPeM4"
      },
      "source": [
        "\n",
        "![alt text](https://sun9-63.userapi.com/impg/Mh1akf7mfpNoprrSWsPOouazSmTPMazYYF49Tw/djoHNw_9KVA.jpg?size=1175x642&quality=96&sign=e88baec5f9bb91c8443fba31dcf0a4df&type=album)\n",
        "\n",
        "![alt text](https://sun9-73.userapi.com/impg/UDuloLNKhzTBYAKewgxke5-YPsAKyGOqA-qCRg/MnyCavJidxM.jpg?size=1229x651&quality=96&sign=f2d21bfacc1c5755b76868dc4cfef39c&type=album)\n",
        "\n"
      ]
    },
    {
      "cell_type": "markdown",
      "metadata": {
        "id": "hxg2tDSfRbLF"
      },
      "source": [
        "На всякий случай: это VAE, то есть, latent у него все еще состоит из mu и sigma"
      ]
    },
    {
      "cell_type": "markdown",
      "metadata": {
        "id": "GpFbSXLaPrm1"
      },
      "source": [
        "Таким образом, при генерации новой рандомной картинки мы должны будем передать декодеру сконкатенированные латентный вектор и класс картинки."
      ]
    },
    {
      "cell_type": "markdown",
      "metadata": {
        "id": "cX0zxklMPwI2"
      },
      "source": [
        "P.S. Также можно передавать класс картинки не только в первый слой, но и в каждый слой сети. То есть на каждом слое конкатенировать выход из предыдущего слоя и информацию о классе."
      ]
    },
    {
      "cell_type": "code",
      "metadata": {
        "id": "ar701cHOkDKS"
      },
      "source": [
        "class CVAE(nn.Module):\n",
        "    def __init__(self):\n",
        "        <определите архитектуры encoder и decoder\n",
        "        помните, у encoder должны быть два \"хвоста\",\n",
        "        т.е. encoder должен кодировать картинку в 2 переменные -- mu и logsigma>\n",
        "\n",
        "    def encode(self, x, class_num):\n",
        "        <реализуйте forward проход энкодера\n",
        "        в качестве ваозвращаемых переменных -- mu, logsigma и класс картинки>\n",
        "\n",
        "        return mu, logsigma, class_num\n",
        "\n",
        "    def gaussian_sampler(self, mu, logsigma):\n",
        "        if self.training:\n",
        "            <засемплируйте латентный вектор из нормального распределения с параметрами mu и sigma>\n",
        "        else:\n",
        "            # на инференсе возвращаем не случайный вектор из нормального распределения, а центральный -- mu.\n",
        "            # на инференсе выход автоэнкодера должен быть детерминирован.\n",
        "            return mu\n",
        "\n",
        "    def decode(self, z, class_num):\n",
        "        <реализуйте forward проход декодера\n",
        "        в качестве возвращаемой переменной -- reconstruction>\n",
        "\n",
        "        return reconstruction\n",
        "\n",
        "    def forward(self, x):\n",
        "        <используя encode и decode, реализуйте forward проход автоэнкодера\n",
        "        в качестве ваозвращаемых переменных -- mu, logsigma и reconstruction>\n",
        "        return mu, logsigma, reconstruction"
      ],
      "execution_count": null,
      "outputs": []
    },
    {
      "cell_type": "markdown",
      "metadata": {
        "id": "VoMw-IFyP5A2"
      },
      "source": [
        "### Sampling\n"
      ]
    },
    {
      "cell_type": "markdown",
      "metadata": {
        "id": "qe1zWyZHkLV2"
      },
      "source": [
        "Тут мы будем сэмплировать из CVAE. Это прикольнее, чем сэмплировать из простого AE/VAE: тут можно взять один и тот же латентный вектор и попросить CVAE восстановить из него картинки разных классов!\n",
        "Для MNIST вы можете попросить CVAE восстановить из одного латентного вектора, например, картинки цифры 5 и 7."
      ]
    },
    {
      "cell_type": "code",
      "metadata": {
        "id": "A0SQIhvNP9Dr"
      },
      "source": [
        "<тут нужно научиться сэмплировать из декодера цифры определенного класса>"
      ],
      "execution_count": null,
      "outputs": []
    },
    {
      "cell_type": "markdown",
      "metadata": {
        "id": "nAWBu8rzQBgQ"
      },
      "source": [
        "Splendid! Вы великолепны!\n"
      ]
    },
    {
      "cell_type": "markdown",
      "metadata": {
        "id": "Rt2S77cm3O1v"
      },
      "source": [
        "### Latent Representations"
      ]
    },
    {
      "cell_type": "markdown",
      "metadata": {
        "id": "Nt7x8Ek_rHTE"
      },
      "source": [
        "Давайте посмотрим, как выглядит латентное пространство картинок в CVAE и сравним с картинкой для VAE =)\n",
        "\n",
        "Опять же, нужно покрасить точки в разные цвета в зависимости от класса."
      ]
    },
    {
      "cell_type": "code",
      "metadata": {
        "id": "LSCYK7sH3KEc"
      },
      "source": [
        "<ваш код получения латентных представлений, применения TSNE и визуализации>"
      ],
      "execution_count": null,
      "outputs": []
    },
    {
      "cell_type": "markdown",
      "metadata": {
        "id": "ET8IELWu3Z2c"
      },
      "source": [
        "Что вы думаете насчет этой картинки? Отличается от картинки для VAE?"
      ]
    },
    {
      "cell_type": "markdown",
      "metadata": {
        "id": "SWkqHjvTCD_8"
      },
      "source": []
    },
    {
      "cell_type": "markdown",
      "metadata": {
        "id": "KN3D_k5W_WZz"
      },
      "source": [
        "# BONUS 1: Denoising\n",
        "\n",
        "## Внимание! За бонусы доп. баллы не ставятся, но вы можете сделать их для себя."
      ]
    },
    {
      "cell_type": "markdown",
      "metadata": {
        "id": "12a1jkpkCsIU"
      },
      "source": [
        "У автоэнкодеров, кроме сжатия и генерации изображений, есть другие практические применения. Про одно из них эта бонусная часть задания."
      ]
    },
    {
      "cell_type": "markdown",
      "metadata": {
        "id": "v8EN-8jlCtmd"
      },
      "source": [
        "Автоэнкодеры могут быть использованы для избавления от шума на фотографиях (denoising). Для этого их нужно обучить специальным образом: input картинка будет зашумленной, а выдавать автоэнкодер должен будет картинку без шума.\n",
        "То есть, loss-функция AE останется той же (MSE между реальной картинкой и выданной), а на вход автоэнкодеру будет подаваться зашумленная картинка."
      ]
    },
    {
      "cell_type": "markdown",
      "metadata": {
        "id": "j1OJg6jhlaZl"
      },
      "source": [
        "<a href=\"https://ibb.co/YbRJ1nZ\"><img src=\"https://i.ibb.co/0QD164t/Screen-Shot-2020-06-04-at-4-49-50-PM.png\" alt=\"Screen-Shot-2020-06-04-at-4-49-50-PM\" border=\"0\"></a>"
      ]
    },
    {
      "cell_type": "markdown",
      "metadata": {
        "id": "ysI0BCuRDbvm"
      },
      "source": [
        "Для этого нужно взять ваш любимый датасет (датасет лиц из первой части этого задания или любой другой) и сделать копию этого датасета с шумом.\n",
        "\n",
        "В питоне шум можно добавить так:"
      ]
    },
    {
      "cell_type": "code",
      "metadata": {
        "id": "X5e746iVDgSm"
      },
      "source": [
        "noise_factor = 0.5\n",
        "X_noisy = X + noise_factor * np.random.normal(loc=0.0, scale=1.0, size=X.shape)"
      ],
      "execution_count": null,
      "outputs": []
    },
    {
      "cell_type": "code",
      "metadata": {
        "id": "9fSPkXMtDpd5"
      },
      "source": [
        "<тут ваш код обучения автоэнкодера на зашумленных картинках. Не забудтье разбить на train/test!>"
      ],
      "execution_count": null,
      "outputs": []
    },
    {
      "cell_type": "code",
      "metadata": {
        "id": "B03NQ_sKDvg2"
      },
      "source": [
        "<тут проверка, как AE убирает щум с тестовых картинок. Надеюсь, все получилось =)>"
      ],
      "execution_count": null,
      "outputs": []
    },
    {
      "cell_type": "markdown",
      "metadata": {
        "id": "-NDiCPYLm2bY"
      },
      "source": [
        "# BONUS 2: Image Retrieval\n",
        "\n",
        "## Внимание! За бонусы доп. баллы не ставятся, но вы можете сделать их для себя."
      ]
    },
    {
      "cell_type": "markdown",
      "metadata": {
        "id": "xao_27WMm7AL"
      },
      "source": [
        "Давайте представим, что весь наш тренировочный датасет -- это большая база данных людей. И вот мы получили картинку лица какого-то человека с уличной камеры наблюдения (у нас это картинка из тестового датасета) и хотим понять, что это за человек. Что нам делать? Правильно -- берем наш VAE, кодируем картинку в латентное представление и ищем среди латентныз представлений лиц нашей базы самые ближайшие!"
      ]
    },
    {
      "cell_type": "markdown",
      "metadata": {
        "id": "Y__bdS23ndeY"
      },
      "source": [
        "План:\n",
        "\n",
        "1. Получаем латентные представления всех лиц тренировочного датасета\n",
        "2. Обучаем на них LSHForest `(sklearn.neighbors.LSHForest)`, например, с `n_estimators=50`\n",
        "3. Берем картинку из тестового датасета, с помощью VAE получаем ее латентный вектор\n",
        "4. Ищем с помощью обученного LSHForest ближайшие из латентных представлений тренировочной базы\n",
        "5. Находим лица тренировочного датасета, которым соответствуют ближайшие латентные представления, визуализируем!"
      ]
    },
    {
      "cell_type": "markdown",
      "metadata": {
        "id": "IksC2ucIoND-"
      },
      "source": [
        "Немного кода вам в помощь: (feel free to delete everything and write your own)"
      ]
    },
    {
      "cell_type": "code",
      "metadata": {
        "id": "hK0YpLMRoEa0"
      },
      "source": [
        "codes = <поучите латентные представления картинок из трейна>"
      ],
      "execution_count": null,
      "outputs": []
    },
    {
      "cell_type": "code",
      "metadata": {
        "id": "KisDrgZdoWdt"
      },
      "source": [
        "# обучаем LSHForest\n",
        "from sklearn.neighbors import LSHForest\n",
        "lshf = LSHForest(n_estimators=50).fit(codes)"
      ],
      "execution_count": null,
      "outputs": []
    },
    {
      "cell_type": "code",
      "metadata": {
        "id": "Y_S5zPb5obam"
      },
      "source": [
        "def get_similar(image, n_neighbors=5):\n",
        "  # функция, которая берет тестовый image и с помощью метода kneighbours у LSHForest ищет ближайшие векторы\n",
        "  # прогоняет векторы через декодер и получает картинки ближайших людей\n",
        "\n",
        "  code = <получение латентного представления image>\n",
        "\n",
        "  (distances,),(idx,) = lshf.kneighbors(code, n_neighbors=n_neighbors)\n",
        "\n",
        "  return distances, X_train[idx]"
      ],
      "execution_count": null,
      "outputs": []
    },
    {
      "cell_type": "code",
      "metadata": {
        "id": "t2kjV5wupLP_"
      },
      "source": [
        "def show_similar(image):\n",
        "\n",
        "  # функция, которая принимает тестовый image, ищет ближайшие к нему и визуализирует результат\n",
        "\n",
        "    distances,neighbors = get_similar(image,n_neighbors=11)\n",
        "\n",
        "    plt.figure(figsize=[8,6])\n",
        "    plt.subplot(3,4,1)\n",
        "    plt.imshow(image.cpu().numpy().transpose([1,2,0]))\n",
        "    plt.title(\"Original image\")\n",
        "\n",
        "    for i in range(11):\n",
        "        plt.subplot(3,4,i+2)\n",
        "        plt.imshow(neighbors[i].cpu().numpy().transpose([1,2,0]))\n",
        "        plt.title(\"Dist=%.3f\"%distances[i])\n",
        "    plt.show()"
      ],
      "execution_count": null,
      "outputs": []
    },
    {
      "cell_type": "code",
      "metadata": {
        "id": "w3Ja1UNf_oJq"
      },
      "source": [
        "<тут выведите самые похожие лица к какому-нибудь лицу из тестовой части датасета>"
      ],
      "execution_count": null,
      "outputs": []
    }
  ]
}